{
 "cells": [
  {
   "cell_type": "markdown",
   "id": "17073a7f",
   "metadata": {},
   "source": [
    "## Entrenamiento para usar python "
   ]
  },
  {
   "cell_type": "code",
   "execution_count": 1,
   "id": "7baff51b",
   "metadata": {},
   "outputs": [],
   "source": [
    "def convertToBase13(num):\n",
    "    if num == 0:\n",
    "        return \"0\"\n",
    "\n",
    "    # Digits for base 13\n",
    "    base13_digits = \"0123456789ABC\"  \n",
    "    digits = \"\"\n",
    "    positive = abs(num)\n",
    "    \n",
    "    while positive > 0:\n",
    "        # Append digits/letters\n",
    "        digits += base13_digits[positive % 13]  \n",
    "        positive = positive // 13\n",
    "\n",
    "    # Reverse the string at the end\n",
    "    reversed_digits = digits[::-1]  \n",
    "    if num < 0:\n",
    "        return \"-\" + reversed_digits\n",
    "    else:\n",
    "        return reversed_digits"
   ]
  },
  {
   "cell_type": "code",
   "execution_count": 5,
   "id": "601d2b24",
   "metadata": {},
   "outputs": [
    {
     "data": {
      "text/plain": [
       "'A'"
      ]
     },
     "execution_count": 5,
     "metadata": {},
     "output_type": "execute_result"
    }
   ],
   "source": [
    "num = int(input(\"Escriba un numero\"))\n",
    "convertToBase13(num)"
   ]
  },
  {
   "cell_type": "code",
   "execution_count": 2,
   "id": "210ded6f",
   "metadata": {},
   "outputs": [],
   "source": [
    "def func(x):\n",
    "    if x == 1:\n",
    "        def rv():\n",
    "            print(\"X is equal to 1\")\n",
    "    else:\n",
    "        def rv():\n",
    "            print(\"X is not 1\")\n",
    "\n",
    "    return rv"
   ]
  },
  {
   "cell_type": "code",
   "execution_count": 5,
   "id": "8409f1e2",
   "metadata": {},
   "outputs": [
    {
     "data": {
      "text/plain": [
       "<function __main__.func.<locals>.rv()>"
      ]
     },
     "execution_count": 5,
     "metadata": {},
     "output_type": "execute_result"
    }
   ],
   "source": [
    "new_func = func(2)\n",
    "new_func"
   ]
  },
  {
   "cell_type": "code",
   "execution_count": 6,
   "id": "8a891dbc",
   "metadata": {},
   "outputs": [
    {
     "name": "stdout",
     "output_type": "stream",
     "text": [
      "class Queue:\n",
      "    '''Create a queue object with a given maximum size.\n",
      "\n",
      "    If maxsize is <= 0, the queue size is infinite.\n",
      "    '''\n",
      "\n",
      "    def __init__(self, maxsize=0):\n",
      "        self.maxsize = maxsize\n",
      "        self._init(maxsize)\n",
      "\n",
      "        # mutex must be held whenever the queue is mutating.  All methods\n",
      "        # that acquire mutex must release it before returning.  mutex\n",
      "        # is shared between the three conditions, so acquiring and\n",
      "        # releasing the conditions also acquires and releases mutex.\n",
      "        self.mutex = threading.Lock()\n",
      "\n",
      "        # Notify not_empty whenever an item is added to the queue; a\n",
      "        # thread waiting to get is notified then.\n",
      "        self.not_empty = threading.Condition(self.mutex)\n",
      "\n",
      "        # Notify not_full whenever an item is removed from the queue;\n",
      "        # a thread waiting to put is notified then.\n",
      "        self.not_full = threading.Condition(self.mutex)\n",
      "\n",
      "        # Notify all_tasks_done whenever the number of unfinished tasks\n",
      "        # drops to zero; thread waiting to join() is notified to resume\n",
      "        self.all_tasks_done = threading.Condition(self.mutex)\n",
      "        self.unfinished_tasks = 0\n",
      "\n",
      "        # Queue shutdown state\n",
      "        self.is_shutdown = False\n",
      "\n",
      "    def task_done(self):\n",
      "        '''Indicate that a formerly enqueued task is complete.\n",
      "\n",
      "        Used by Queue consumer threads.  For each get() used to fetch a task,\n",
      "        a subsequent call to task_done() tells the queue that the processing\n",
      "        on the task is complete.\n",
      "\n",
      "        If a join() is currently blocking, it will resume when all items\n",
      "        have been processed (meaning that a task_done() call was received\n",
      "        for every item that had been put() into the queue).\n",
      "\n",
      "        shutdown(immediate=True) calls task_done() for each remaining item in\n",
      "        the queue.\n",
      "\n",
      "        Raises a ValueError if called more times than there were items\n",
      "        placed in the queue.\n",
      "        '''\n",
      "        with self.all_tasks_done:\n",
      "            unfinished = self.unfinished_tasks - 1\n",
      "            if unfinished <= 0:\n",
      "                if unfinished < 0:\n",
      "                    raise ValueError('task_done() called too many times')\n",
      "                self.all_tasks_done.notify_all()\n",
      "            self.unfinished_tasks = unfinished\n",
      "\n",
      "    def join(self):\n",
      "        '''Blocks until all items in the Queue have been gotten and processed.\n",
      "\n",
      "        The count of unfinished tasks goes up whenever an item is added to the\n",
      "        queue. The count goes down whenever a consumer thread calls task_done()\n",
      "        to indicate the item was retrieved and all work on it is complete.\n",
      "\n",
      "        When the count of unfinished tasks drops to zero, join() unblocks.\n",
      "        '''\n",
      "        with self.all_tasks_done:\n",
      "            while self.unfinished_tasks:\n",
      "                self.all_tasks_done.wait()\n",
      "\n",
      "    def qsize(self):\n",
      "        '''Return the approximate size of the queue (not reliable!).'''\n",
      "        with self.mutex:\n",
      "            return self._qsize()\n",
      "\n",
      "    def empty(self):\n",
      "        '''Return True if the queue is empty, False otherwise (not reliable!).\n",
      "\n",
      "        This method is likely to be removed at some point.  Use qsize() == 0\n",
      "        as a direct substitute, but be aware that either approach risks a race\n",
      "        condition where a queue can grow before the result of empty() or\n",
      "        qsize() can be used.\n",
      "\n",
      "        To create code that needs to wait for all queued tasks to be\n",
      "        completed, the preferred technique is to use the join() method.\n",
      "        '''\n",
      "        with self.mutex:\n",
      "            return not self._qsize()\n",
      "\n",
      "    def full(self):\n",
      "        '''Return True if the queue is full, False otherwise (not reliable!).\n",
      "\n",
      "        This method is likely to be removed at some point.  Use qsize() >= n\n",
      "        as a direct substitute, but be aware that either approach risks a race\n",
      "        condition where a queue can shrink before the result of full() or\n",
      "        qsize() can be used.\n",
      "        '''\n",
      "        with self.mutex:\n",
      "            return 0 < self.maxsize <= self._qsize()\n",
      "\n",
      "    def put(self, item, block=True, timeout=None):\n",
      "        '''Put an item into the queue.\n",
      "\n",
      "        If optional args 'block' is true and 'timeout' is None (the default),\n",
      "        block if necessary until a free slot is available. If 'timeout' is\n",
      "        a non-negative number, it blocks at most 'timeout' seconds and raises\n",
      "        the Full exception if no free slot was available within that time.\n",
      "        Otherwise ('block' is false), put an item on the queue if a free slot\n",
      "        is immediately available, else raise the Full exception ('timeout'\n",
      "        is ignored in that case).\n",
      "\n",
      "        Raises ShutDown if the queue has been shut down.\n",
      "        '''\n",
      "        with self.not_full:\n",
      "            if self.is_shutdown:\n",
      "                raise ShutDown\n",
      "            if self.maxsize > 0:\n",
      "                if not block:\n",
      "                    if self._qsize() >= self.maxsize:\n",
      "                        raise Full\n",
      "                elif timeout is None:\n",
      "                    while self._qsize() >= self.maxsize:\n",
      "                        self.not_full.wait()\n",
      "                        if self.is_shutdown:\n",
      "                            raise ShutDown\n",
      "                elif timeout < 0:\n",
      "                    raise ValueError(\"'timeout' must be a non-negative number\")\n",
      "                else:\n",
      "                    endtime = time() + timeout\n",
      "                    while self._qsize() >= self.maxsize:\n",
      "                        remaining = endtime - time()\n",
      "                        if remaining <= 0.0:\n",
      "                            raise Full\n",
      "                        self.not_full.wait(remaining)\n",
      "                        if self.is_shutdown:\n",
      "                            raise ShutDown\n",
      "            self._put(item)\n",
      "            self.unfinished_tasks += 1\n",
      "            self.not_empty.notify()\n",
      "\n",
      "    def get(self, block=True, timeout=None):\n",
      "        '''Remove and return an item from the queue.\n",
      "\n",
      "        If optional args 'block' is true and 'timeout' is None (the default),\n",
      "        block if necessary until an item is available. If 'timeout' is\n",
      "        a non-negative number, it blocks at most 'timeout' seconds and raises\n",
      "        the Empty exception if no item was available within that time.\n",
      "        Otherwise ('block' is false), return an item if one is immediately\n",
      "        available, else raise the Empty exception ('timeout' is ignored\n",
      "        in that case).\n",
      "\n",
      "        Raises ShutDown if the queue has been shut down and is empty,\n",
      "        or if the queue has been shut down immediately.\n",
      "        '''\n",
      "        with self.not_empty:\n",
      "            if self.is_shutdown and not self._qsize():\n",
      "                raise ShutDown\n",
      "            if not block:\n",
      "                if not self._qsize():\n",
      "                    raise Empty\n",
      "            elif timeout is None:\n",
      "                while not self._qsize():\n",
      "                    self.not_empty.wait()\n",
      "                    if self.is_shutdown and not self._qsize():\n",
      "                        raise ShutDown\n",
      "            elif timeout < 0:\n",
      "                raise ValueError(\"'timeout' must be a non-negative number\")\n",
      "            else:\n",
      "                endtime = time() + timeout\n",
      "                while not self._qsize():\n",
      "                    remaining = endtime - time()\n",
      "                    if remaining <= 0.0:\n",
      "                        raise Empty\n",
      "                    self.not_empty.wait(remaining)\n",
      "                    if self.is_shutdown and not self._qsize():\n",
      "                        raise ShutDown\n",
      "            item = self._get()\n",
      "            self.not_full.notify()\n",
      "            return item\n",
      "\n",
      "    def put_nowait(self, item):\n",
      "        '''Put an item into the queue without blocking.\n",
      "\n",
      "        Only enqueue the item if a free slot is immediately available.\n",
      "        Otherwise raise the Full exception.\n",
      "        '''\n",
      "        return self.put(item, block=False)\n",
      "\n",
      "    def get_nowait(self):\n",
      "        '''Remove and return an item from the queue without blocking.\n",
      "\n",
      "        Only get an item if one is immediately available. Otherwise\n",
      "        raise the Empty exception.\n",
      "        '''\n",
      "        return self.get(block=False)\n",
      "\n",
      "    def shutdown(self, immediate=False):\n",
      "        '''Shut-down the queue, making queue gets and puts raise ShutDown.\n",
      "\n",
      "        By default, gets will only raise once the queue is empty. Set\n",
      "        'immediate' to True to make gets raise immediately instead.\n",
      "\n",
      "        All blocked callers of put() and get() will be unblocked. If\n",
      "        'immediate', a task is marked as done for each item remaining in\n",
      "        the queue, which may unblock callers of join().\n",
      "        '''\n",
      "        with self.mutex:\n",
      "            self.is_shutdown = True\n",
      "            if immediate:\n",
      "                while self._qsize():\n",
      "                    self._get()\n",
      "                    if self.unfinished_tasks > 0:\n",
      "                        self.unfinished_tasks -= 1\n",
      "                # release all blocked threads in `join()`\n",
      "                self.all_tasks_done.notify_all()\n",
      "            # All getters need to re-check queue-empty to raise ShutDown\n",
      "            self.not_empty.notify_all()\n",
      "            self.not_full.notify_all()\n",
      "\n",
      "    # Override these methods to implement other queue organizations\n",
      "    # (e.g. stack or priority queue).\n",
      "    # These will only be called with appropriate locks held\n",
      "\n",
      "    # Initialize the queue representation\n",
      "    def _init(self, maxsize):\n",
      "        self.queue = deque()\n",
      "\n",
      "    def _qsize(self):\n",
      "        return len(self.queue)\n",
      "\n",
      "    # Put a new item in the queue\n",
      "    def _put(self, item):\n",
      "        self.queue.append(item)\n",
      "\n",
      "    # Get an item from the queue\n",
      "    def _get(self):\n",
      "        return self.queue.popleft()\n",
      "\n",
      "    __class_getitem__ = classmethod(types.GenericAlias)\n",
      "\n"
     ]
    }
   ],
   "source": [
    "import inspect\n",
    "from queue import Queue\n",
    "\n",
    "print(inspect.getsource(Queue))"
   ]
  },
  {
   "cell_type": "markdown",
   "id": "7c5a5f0a",
   "metadata": {},
   "source": [
    "# Validador de Agendamiento de Reuniones (Calendar Booking System)\n",
    "\n",
    "## 📝 Descripción:\n",
    "Construirás un sistema de agendamiento de reuniones que:\n",
    "\n",
    "    - Permita a usuarios crear reuniones con fecha, hora de inicio y duración.\n",
    "\n",
    "    - Valide que no haya solapamientos entre reuniones existentes.\n",
    "\n",
    "    - Permita consultar las reuniones existentes de un día.\n",
    "\n",
    "    - Permita cancelar reuniones.\n",
    "\n",
    "## 🎯 Requisitos funcionales:\n",
    "    \n",
    "    - Crear reunión (schedule_meeting)\n",
    "\n",
    "    - Parámetros: start_time, duration, description\n",
    "\n",
    "    - Valida que no se cruce con ninguna otra existente.\n",
    "\n",
    "    - Listar reuniones (list_meetings(date))\n",
    "\n",
    "    - Devuelve lista ordenada por hora.\n",
    "\n",
    "    - Cancelar reunión (cancel_meeting(id))\n",
    "\n",
    "## 💡 Consideraciones técnicas:\n",
    "\n",
    "    - Usa datetime para manejar fechas y horas.\n",
    "\n",
    "    - Las reuniones duran una cantidad de minutos (duration).\n",
    "\n",
    "    - Valida que una reunión no se cruce en el tiempo con otra."
   ]
  },
  {
   "cell_type": "code",
   "execution_count": 1,
   "id": "7aa18938",
   "metadata": {},
   "outputs": [],
   "source": [
    "from datetime import datetime, timedelta\n",
    "from typing import List\n",
    "import uuid\n",
    "\n",
    "class Meeting:\n",
    "    def __init__(self, start_time: datetime, duration: int, description: str):\n",
    "        self.id = str(uuid.uuid4())\n",
    "        self.start_time = start_time\n",
    "        self.end_time = start_time + timedelta(minutes=duration)\n",
    "        self.duration = duration\n",
    "        self.description = description\n",
    "\n",
    "    def __str__(self):\n",
    "        return f\"{self.description} ({self.start_time.strftime('%H:%M')} - {self.end_time.strftime('%H:%M')})\"\n",
    "\n",
    "class MeetingScheduler:\n",
    "    def __init__(self):\n",
    "        self.meetings: List[Meeting] = []\n",
    "\n",
    "    def schedule_meeting(self, start: str, duration: int, description: str):\n",
    "        start_dt = datetime.strptime(start, \"%Y-%m-%d %H:%M\")\n",
    "        new_meeting = Meeting(start_dt, duration, description)\n",
    "\n",
    "        for meeting in self.meetings:\n",
    "            if self._overlaps(meeting, new_meeting):\n",
    "                raise ValueError(\"La nueva reunión se cruza con una existente.\")\n",
    "\n",
    "        self.meetings.append(new_meeting)\n",
    "        print(f\"Reunión programada: {new_meeting}\")\n",
    "\n",
    "    def _overlaps(self, m1: Meeting, m2: Meeting) -> bool:\n",
    "        return m1.start_time < m2.end_time and m2.start_time < m1.end_time\n",
    "\n",
    "    def list_meetings(self, date: str):\n",
    "        date_dt = datetime.strptime(date, \"%Y-%m-%d\").date()\n",
    "        filtered = [m for m in self.meetings if m.start_time.date() == date_dt]\n",
    "        for m in sorted(filtered, key=lambda x: x.start_time):\n",
    "            print(f\"[{m.id[:6]}] {m}\")\n",
    "\n",
    "    def cancel_meeting(self, meeting_id: str):\n",
    "        before = len(self.meetings)\n",
    "        self.meetings = [m for m in self.meetings if m.id != meeting_id]\n",
    "        after = len(self.meetings)\n",
    "        if before == after:\n",
    "            print(\"ID no encontrado.\")\n",
    "        else:\n",
    "            print(\"Reunión cancelada.\")"
   ]
  },
  {
   "cell_type": "code",
   "execution_count": 3,
   "id": "471541c0",
   "metadata": {},
   "outputs": [
    {
     "name": "stdout",
     "output_type": "stream",
     "text": [
      "Reunión programada: Reunión con cliente (09:00 - 10:00)\n",
      "Reunión programada: Planificación interna (10:30 - 11:00)\n"
     ]
    }
   ],
   "source": [
    "calendar = MeetingScheduler()\n",
    "\n",
    "calendar.schedule_meeting(\"2025-07-17 09:00\", 60, \"Reunión con cliente\")\n",
    "calendar.schedule_meeting(\"2025-07-17 10:30\", 30, \"Planificación interna\")"
   ]
  },
  {
   "cell_type": "code",
   "execution_count": 5,
   "id": "1dfe2fa6",
   "metadata": {},
   "outputs": [
    {
     "name": "stdout",
     "output_type": "stream",
     "text": [
      "[57eb5e] Reunión con cliente (09:00 - 10:00)\n",
      "[90a3e3] Planificación interna (10:30 - 11:00)\n"
     ]
    }
   ],
   "source": [
    "calendar.list_meetings(\"2025-07-17\")\n",
    "# → Reunión con cliente (9:00 - 10:00), Planificación interna (10:30 - 11:00)"
   ]
  },
  {
   "cell_type": "code",
   "execution_count": 6,
   "id": "ec694ee6",
   "metadata": {},
   "outputs": [
    {
     "ename": "ValueError",
     "evalue": "La nueva reunión se cruza con una existente.",
     "output_type": "error",
     "traceback": [
      "\u001b[31m---------------------------------------------------------------------------\u001b[39m",
      "\u001b[31mValueError\u001b[39m                                Traceback (most recent call last)",
      "\u001b[36mCell\u001b[39m\u001b[36m \u001b[39m\u001b[32mIn[6]\u001b[39m\u001b[32m, line 1\u001b[39m\n\u001b[32m----> \u001b[39m\u001b[32m1\u001b[39m \u001b[43mcalendar\u001b[49m\u001b[43m.\u001b[49m\u001b[43mschedule_meeting\u001b[49m\u001b[43m(\u001b[49m\u001b[33;43m\"\u001b[39;49m\u001b[33;43m2025-07-17 09:30\u001b[39;49m\u001b[33;43m\"\u001b[39;49m\u001b[43m,\u001b[49m\u001b[43m \u001b[49m\u001b[32;43m30\u001b[39;49m\u001b[43m,\u001b[49m\u001b[43m \u001b[49m\u001b[33;43m\"\u001b[39;49m\u001b[33;43mSolapada\u001b[39;49m\u001b[33;43m\"\u001b[39;49m\u001b[43m)\u001b[49m  \n\u001b[32m      2\u001b[39m \u001b[38;5;66;03m# → Error: se cruza con otra\u001b[39;00m\n",
      "\u001b[36mCell\u001b[39m\u001b[36m \u001b[39m\u001b[32mIn[1]\u001b[39m\u001b[32m, line 26\u001b[39m, in \u001b[36mMeetingScheduler.schedule_meeting\u001b[39m\u001b[34m(self, start, duration, description)\u001b[39m\n\u001b[32m     24\u001b[39m \u001b[38;5;28;01mfor\u001b[39;00m meeting \u001b[38;5;129;01min\u001b[39;00m \u001b[38;5;28mself\u001b[39m.meetings:\n\u001b[32m     25\u001b[39m     \u001b[38;5;28;01mif\u001b[39;00m \u001b[38;5;28mself\u001b[39m._overlaps(meeting, new_meeting):\n\u001b[32m---> \u001b[39m\u001b[32m26\u001b[39m         \u001b[38;5;28;01mraise\u001b[39;00m \u001b[38;5;167;01mValueError\u001b[39;00m(\u001b[33m\"\u001b[39m\u001b[33mLa nueva reunión se cruza con una existente.\u001b[39m\u001b[33m\"\u001b[39m)\n\u001b[32m     28\u001b[39m \u001b[38;5;28mself\u001b[39m.meetings.append(new_meeting)\n\u001b[32m     29\u001b[39m \u001b[38;5;28mprint\u001b[39m(\u001b[33mf\u001b[39m\u001b[33m\"\u001b[39m\u001b[33mReunión programada: \u001b[39m\u001b[38;5;132;01m{\u001b[39;00mnew_meeting\u001b[38;5;132;01m}\u001b[39;00m\u001b[33m\"\u001b[39m)\n",
      "\u001b[31mValueError\u001b[39m: La nueva reunión se cruza con una existente."
     ]
    }
   ],
   "source": [
    "calendar.schedule_meeting(\"2025-07-17 09:30\", 30, \"Solapada\")  \n",
    "# → Error: se cruza con otra"
   ]
  },
  {
   "cell_type": "markdown",
   "id": "d70a25de",
   "metadata": {},
   "source": [
    "# Diseña un sistema de detección de tasa de peticiones (Rate Limiter)\n",
    "\n",
    "## 💼 Descripción:\n",
    "Vas a construir un Rate Limiter, es decir, un componente que impide que un usuario (o IP, o servicio) haga demasiadas peticiones en un corto periodo de tiempo.\n",
    "\n",
    "    - Este patrón es usado en producción por:\n",
    "\n",
    "    - APIs públicas (OpenAI, Twitter, GitHub)\n",
    "\n",
    "    - Servicios que protegen de abuso (login, spam, etc.)\n",
    "\n",
    "## 🎯 Requisitos:\n",
    "Solo se deben permitir N peticiones por usuario por ventana de tiempo T (por ejemplo, 5 peticiones cada 10 segundos).\n",
    "\n",
    "    - Rechaza peticiones que excedan ese límite.\n",
    "\n",
    "    - Opcional: Implementa variantes como sliding window o leaky bucket si quieres ir más lejos."
   ]
  },
  {
   "cell_type": "code",
   "execution_count": 1,
   "id": "1d4197a4",
   "metadata": {},
   "outputs": [],
   "source": [
    "from collections import deque\n",
    "from typing import Dict\n",
    "\n",
    "class RateLimiter:\n",
    "    def __init__(self, max_requests: int, window_seconds: int):\n",
    "        self.max_requests = max_requests\n",
    "        self.window_seconds = window_seconds\n",
    "        self.user_requests: Dict[str, deque] = {}\n",
    "\n",
    "    def allow_request(self, user_id: str, current_time: int) -> bool:\n",
    "        \"\"\"\n",
    "        Registra y decide si la petición puede hacerse en el timestamp actual.\n",
    "        \"\"\"\n",
    "        if user_id not in self.user_requests:\n",
    "            self.user_requests[user_id] = deque()\n",
    "\n",
    "        requests = self.user_requests[user_id]\n",
    "\n",
    "        # Elimina peticiones fuera de la ventana de tiempo\n",
    "        while requests and current_time - requests[0] >= self.window_seconds:\n",
    "            requests.popleft()\n",
    "\n",
    "        if len(requests) < self.max_requests:\n",
    "            requests.append(current_time)\n",
    "            return True\n",
    "        return False"
   ]
  },
  {
   "cell_type": "code",
   "execution_count": 4,
   "id": "e87c9beb",
   "metadata": {},
   "outputs": [
    {
     "name": "stdout",
     "output_type": "stream",
     "text": [
      "True\n"
     ]
    }
   ],
   "source": [
    "limiter = RateLimiter(max_requests=3, window_seconds=10)\n",
    "\n",
    "#print(limiter.allow_request(\"user1\", 1))   # True\n",
    "#print(limiter.allow_request(\"user1\", 2))   # True\n",
    "#print(limiter.allow_request(\"user1\", 3))   # True\n",
    "#print(limiter.allow_request(\"user1\", 4))   # False (excede el límite)\n",
    "print(limiter.allow_request(\"user1\", 12))  # True (ventana reseteada)\n"
   ]
  },
  {
   "cell_type": "markdown",
   "id": "55fd2b04",
   "metadata": {},
   "source": [
    "## Sistema de Clasificación de Productos con Búsqueda y Filtros Eficientes\n",
    "\n",
    "### 📝 Descripción:\n",
    "Vas a construir un motor de búsqueda y clasificación de productos (como los usados en Alibaba, JD.com, Pinduoduo), que:\n",
    "\n",
    "1. Permite registrar productos con:\n",
    "\n",
    "    - id, nombre, precio, categoría, rating, stock\n",
    "\n",
    "2. Permite realizar búsquedas filtradas por:\n",
    "\n",
    "    - Categoría\n",
    "\n",
    "    - Precio mínimo/máximo\n",
    "\n",
    "    - Rating mínimo\n",
    "\n",
    "    - Palabras clave en el nombre\n",
    "\n",
    "3. Permite ordenar los resultados por:\n",
    "\n",
    "    - Precio (asc o desc)\n",
    "\n",
    "    - Rating\n",
    "\n",
    "    - Relevancia (match en nombre)"
   ]
  },
  {
   "cell_type": "code",
   "execution_count": 1,
   "id": "690f7883",
   "metadata": {},
   "outputs": [],
   "source": [
    "from typing import List, Optional\n",
    "\n",
    "class Product:\n",
    "    def __init__(self, pid: int, name: str, price: float, category: str, rating: float, stock: int):\n",
    "        self.pid = pid\n",
    "        self.name = name\n",
    "        self.price = price\n",
    "        self.category = category\n",
    "        self.rating = rating\n",
    "        self.stock = stock\n",
    "\n",
    "    def __repr__(self):\n",
    "        return f\"{self.name} - ${self.price} - ⭐{self.rating}\"\n",
    "\n",
    "class ProductSearchEngine:\n",
    "    def __init__(self):\n",
    "        self.products: List[Product] = []\n",
    "\n",
    "    def add_product(self, pid: int, name: str, price: float, category: str, rating: float, stock: int):\n",
    "        self.products.append(Product(pid, name, price, category, rating, stock))\n",
    "\n",
    "    def search(self,\n",
    "               category: Optional[str] = None,\n",
    "               min_price: Optional[float] = None,\n",
    "               max_price: Optional[float] = None,\n",
    "               min_rating: Optional[float] = None,\n",
    "               keyword: Optional[str] = None,\n",
    "               sort_by: Optional[str] = None,\n",
    "               ascending: bool = False) -> List[Product]:\n",
    "\n",
    "        results = self.products\n",
    "\n",
    "        if category:\n",
    "            results = [p for p in results if p.category.lower() == category.lower()]\n",
    "        if min_price is not None:\n",
    "            results = [p for p in results if p.price >= min_price]\n",
    "        if max_price is not None:\n",
    "            results = [p for p in results if p.price <= max_price]\n",
    "        if min_rating is not None:\n",
    "            results = [p for p in results if p.rating >= min_rating]\n",
    "        if keyword:\n",
    "            results = [p for p in results if keyword.lower() in p.name.lower()]\n",
    "\n",
    "        if sort_by == \"price\":\n",
    "            results.sort(key=lambda p: p.price, reverse=not ascending)\n",
    "        elif sort_by == \"rating\":\n",
    "            results.sort(key=lambda p: p.rating, reverse=not ascending)\n",
    "        elif sort_by == \"name\":\n",
    "            results.sort(key=lambda p: p.name)\n",
    "\n",
    "        return results"
   ]
  },
  {
   "cell_type": "code",
   "execution_count": 2,
   "id": "343f49fa",
   "metadata": {},
   "outputs": [],
   "source": [
    "store = ProductSearchEngine()\n",
    "\n",
    "store.add_product(1, \"Smartphone Xiaomi Redmi\", 799, \"Electrónica\", 4.5, 10)\n",
    "store.add_product(2, \"Xiaomi Band 7\", 199, \"Electrónica\", 4.8, 5)\n",
    "store.add_product(3, \"Lenovo Laptop IdeaPad\", 1200, \"Computación\", 4.3, 7)\n",
    "\n",
    "result = store.search(category=\"Electrónica\", min_price=100, max_price=800, sort_by=\"rating\")\n",
    "\n",
    "# → Devuelve productos 2 y 1 ordenados por rating descendente"
   ]
  },
  {
   "cell_type": "code",
   "execution_count": 3,
   "id": "48bcbeed",
   "metadata": {},
   "outputs": [
    {
     "data": {
      "text/plain": [
       "[Xiaomi Band 7 - $199 - ⭐4.8, Smartphone Xiaomi Redmi - $799 - ⭐4.5]"
      ]
     },
     "execution_count": 3,
     "metadata": {},
     "output_type": "execute_result"
    }
   ],
   "source": [
    "result"
   ]
  },
  {
   "cell_type": "markdown",
   "id": "07c00bf3",
   "metadata": {},
   "source": [
    "## Sistema de Reservas de Salas con Conflicto Mínimo (Smart Room Allocator)\n",
    "\n",
    "### 📝 Descripción:\n",
    "Vas a construir un sistema que administre reservas de salas en una empresa. Pero con una diferencia clave:\n",
    "Si no hay sala disponible en el horario solicitado, el sistema debe encontrar la sala con el menor conflicto posible (tiempo libre más cercano) o sugerir una alternativa.\n",
    "\n",
    "Este ejercicio está inspirado en los sistemas de calendarización de Yandex o Tinkoff.\n",
    "\n",
    "### 🎯 Requisitos funcionales:\n",
    "1. Puedes registrar salas (add_room(nombre)).\n",
    "\n",
    "2. Puedes hacer una reserva (book_room(nombre_sala, fecha, hora_inicio, duración_minutos)).\n",
    "\n",
    "3. Si no hay disponibilidad exacta:\n",
    "\n",
    "    - Sugerir la sala con el menor tiempo de conflicto.\n",
    "\n",
    "    - O decir que no hay forma de agendar hoy.\n",
    "\n",
    "4. Puedes listar reservas por sala y fecha."
   ]
  },
  {
   "cell_type": "code",
   "execution_count": 4,
   "id": "5cf4f179",
   "metadata": {},
   "outputs": [],
   "source": [
    "from datetime import datetime, timedelta\n",
    "from typing import List, Dict\n",
    "\n",
    "class Reservation:\n",
    "    def __init__(self, start: datetime, duration: int):\n",
    "        self.start = start\n",
    "        self.end = start + timedelta(minutes=duration)\n",
    "\n",
    "    def overlaps(self, other: 'Reservation') -> bool:\n",
    "        return self.start < other.end and other.start < self.end\n",
    "\n",
    "    def __str__(self):\n",
    "        return f\"{self.start.strftime('%H:%M')} - {self.end.strftime('%H:%M')}\"\n",
    "\n",
    "class RoomScheduler:\n",
    "    def __init__(self):\n",
    "        self.rooms: Dict[str, List[Reservation]] = {}\n",
    "\n",
    "    def add_room(self, room_name: str):\n",
    "        if room_name in self.rooms:\n",
    "            print(\"La sala ya existe.\")\n",
    "        else:\n",
    "            self.rooms[room_name] = []\n",
    "\n",
    "    def book_room(self, room_name: str, date: str, time: str, duration: int):\n",
    "        if room_name not in self.rooms:\n",
    "            print(f\"Sala {room_name} no registrada.\")\n",
    "            return\n",
    "\n",
    "        start = datetime.strptime(f\"{date} {time}\", \"%Y-%m-%d %H:%M\")\n",
    "        new_reservation = Reservation(start, duration)\n",
    "\n",
    "        for res in self.rooms[room_name]:\n",
    "            if res.overlaps(new_reservation):\n",
    "                print(f\"⚠️ Conflicto en {room_name} a las {res}\")\n",
    "                self.suggest_alternative(room_name, date, duration)\n",
    "                return\n",
    "\n",
    "        self.rooms[room_name].append(new_reservation)\n",
    "        print(f\"✅ Reserva confirmada en {room_name} de {new_reservation}\")\n",
    "\n",
    "    def suggest_alternative(self, room_name: str, date: str, duration: int):\n",
    "        print(\"🔍 Buscando alternativa...\")\n",
    "        for alt_room, reservations in self.rooms.items():\n",
    "            if alt_room == room_name:\n",
    "                continue\n",
    "            start_time = datetime.strptime(f\"{date} 08:00\", \"%Y-%m-%d %H:%M\")\n",
    "            end_time = datetime.strptime(f\"{date} 18:00\", \"%Y-%m-%d %H:%M\")\n",
    "\n",
    "            while start_time + timedelta(minutes=duration) <= end_time:\n",
    "                trial = Reservation(start_time, duration)\n",
    "                if all(not r.overlaps(trial) for r in reservations):\n",
    "                    print(f\"💡 Alternativa: reservar {alt_room} a las {start_time.strftime('%H:%M')}\")\n",
    "                    return\n",
    "                start_time += timedelta(minutes=15)\n",
    "        print(\"❌ No hay alternativa disponible hoy.\")\n",
    "\n",
    "    def list_reservations(self, room_name: str, date: str):\n",
    "        print(f\"📋 Reservas para {room_name} en {date}:\")\n",
    "        for r in sorted(self.rooms.get(room_name, []), key=lambda x: x.start):\n",
    "            if r.start.strftime(\"%Y-%m-%d\") == date:\n",
    "                print(f\" - {r}\")"
   ]
  },
  {
   "cell_type": "code",
   "execution_count": 5,
   "id": "a72a7d7e",
   "metadata": {},
   "outputs": [
    {
     "name": "stdout",
     "output_type": "stream",
     "text": [
      "✅ Reserva confirmada en Sala A de 09:00 - 10:00\n",
      "✅ Reserva confirmada en Sala A de 10:00 - 10:30\n",
      "⚠️ Conflicto en Sala A a las 09:00 - 10:00\n",
      "🔍 Buscando alternativa...\n",
      "💡 Alternativa: reservar Sala B a las 08:00\n",
      "📋 Reservas para Sala A en 2025-07-17:\n",
      " - 09:00 - 10:00\n",
      " - 10:00 - 10:30\n"
     ]
    }
   ],
   "source": [
    "scheduler = RoomScheduler()\n",
    "scheduler.add_room(\"Sala A\")\n",
    "scheduler.add_room(\"Sala B\")\n",
    "\n",
    "scheduler.book_room(\"Sala A\", \"2025-07-17\", \"09:00\", 60)\n",
    "scheduler.book_room(\"Sala A\", \"2025-07-17\", \"10:00\", 30)\n",
    "\n",
    "# Intento hacer reserva que se cruza\n",
    "scheduler.book_room(\"Sala A\", \"2025-07-17\", \"09:30\", 30)\n",
    "# → Sugerencia: usar Sala B o mover a 10:30\n",
    "\n",
    "scheduler.list_reservations(\"Sala A\", \"2025-07-17\")"
   ]
  },
  {
   "cell_type": "markdown",
   "id": "80f8f4ef",
   "metadata": {},
   "source": [
    "## Simulador de Tienda de Café\n",
    "📝 Descripción:\n",
    "Vas a crear un programa que simule una tienda de café. El sistema debe:\n",
    "\n",
    "Mostrar un menú con productos y precios.\n",
    "\n",
    "Permitir al usuario seleccionar productos y cantidades.\n",
    "\n",
    "Calcular el total de la compra.\n",
    "\n",
    "Permitir pagar con diferentes billetes/monedas y dar cambio.\n",
    "\n",
    "Mostrar un recibo final.\n"
   ]
  },
  {
   "cell_type": "code",
   "execution_count": 1,
   "id": "3d96e84b",
   "metadata": {},
   "outputs": [
    {
     "name": "stdout",
     "output_type": "stream",
     "text": [
      "Bienvenido a Café Python ☕\n",
      "1. Espresso - $3\n",
      "2. Cappuccino - $4\n",
      "3. Latte - $5\n"
     ]
    },
    {
     "ename": "ValueError",
     "evalue": "invalid literal for int() with base 10: ''",
     "output_type": "error",
     "traceback": [
      "\u001b[31m---------------------------------------------------------------------------\u001b[39m",
      "\u001b[31mValueError\u001b[39m                                Traceback (most recent call last)",
      "\u001b[36mCell\u001b[39m\u001b[36m \u001b[39m\u001b[32mIn[1]\u001b[39m\u001b[32m, line 53\u001b[39m\n\u001b[32m     51\u001b[39m \u001b[38;5;66;03m# Ejecutar\u001b[39;00m\n\u001b[32m     52\u001b[39m shop = CoffeeShop()\n\u001b[32m---> \u001b[39m\u001b[32m53\u001b[39m \u001b[43mshop\u001b[49m\u001b[43m.\u001b[49m\u001b[43mrun\u001b[49m\u001b[43m(\u001b[49m\u001b[43m)\u001b[49m\n",
      "\u001b[36mCell\u001b[39m\u001b[36m \u001b[39m\u001b[32mIn[1]\u001b[39m\u001b[32m, line 47\u001b[39m, in \u001b[36mCoffeeShop.run\u001b[39m\u001b[34m(self)\u001b[39m\n\u001b[32m     45\u001b[39m \u001b[38;5;28mself\u001b[39m.take_order()\n\u001b[32m     46\u001b[39m total = \u001b[38;5;28mself\u001b[39m.calculate_total()\n\u001b[32m---> \u001b[39m\u001b[32m47\u001b[39m \u001b[38;5;28;43mself\u001b[39;49m\u001b[43m.\u001b[49m\u001b[43mprocess_payment\u001b[49m\u001b[43m(\u001b[49m\u001b[43mtotal\u001b[49m\u001b[43m)\u001b[49m\n\u001b[32m     48\u001b[39m \u001b[38;5;28mself\u001b[39m.print_receipt()\n\u001b[32m     49\u001b[39m \u001b[38;5;28mprint\u001b[39m(\u001b[33m\"\u001b[39m\u001b[33mGracias por su compra.\u001b[39m\u001b[33m\"\u001b[39m)\n",
      "\u001b[36mCell\u001b[39m\u001b[36m \u001b[39m\u001b[32mIn[1]\u001b[39m\u001b[32m, line 30\u001b[39m, in \u001b[36mCoffeeShop.process_payment\u001b[39m\u001b[34m(self, total)\u001b[39m\n\u001b[32m     29\u001b[39m \u001b[38;5;28;01mdef\u001b[39;00m\u001b[38;5;250m \u001b[39m\u001b[34mprocess_payment\u001b[39m(\u001b[38;5;28mself\u001b[39m, total):\n\u001b[32m---> \u001b[39m\u001b[32m30\u001b[39m     paid = \u001b[38;5;28;43mint\u001b[39;49m\u001b[43m(\u001b[49m\u001b[38;5;28;43minput\u001b[39;49m\u001b[43m(\u001b[49m\u001b[33;43mf\u001b[39;49m\u001b[33;43m\"\u001b[39;49m\u001b[33;43mTotal a pagar: $\u001b[39;49m\u001b[38;5;132;43;01m{\u001b[39;49;00m\u001b[43mtotal\u001b[49m\u001b[38;5;132;43;01m}\u001b[39;49;00m\u001b[38;5;130;43;01m\\n\u001b[39;49;00m\u001b[33;43mIngrese pago: $\u001b[39;49m\u001b[33;43m\"\u001b[39;49m\u001b[43m)\u001b[49m\u001b[43m)\u001b[49m\n\u001b[32m     31\u001b[39m     \u001b[38;5;28;01mif\u001b[39;00m paid < total:\n\u001b[32m     32\u001b[39m         \u001b[38;5;28mprint\u001b[39m(\u001b[33m\"\u001b[39m\u001b[33mPago insuficiente.\u001b[39m\u001b[33m\"\u001b[39m)\n",
      "\u001b[31mValueError\u001b[39m: invalid literal for int() with base 10: ''"
     ]
    }
   ],
   "source": [
    "class CoffeeShop:\n",
    "    def __init__(self):\n",
    "        self.menu = {\n",
    "            1: (\"Espresso\", 3),\n",
    "            2: (\"Cappuccino\", 4),\n",
    "            3: (\"Latte\", 5)\n",
    "        }\n",
    "        self.order = []\n",
    "\n",
    "    def show_menu(self):\n",
    "        print(\"Bienvenido a Café Python ☕\")\n",
    "        for key, (name, price) in self.menu.items():\n",
    "            print(f\"{key}. {name} - ${price}\")\n",
    "\n",
    "    def take_order(self):\n",
    "        while True:\n",
    "            choice = int(input(\"Seleccione un producto (1-3) o 0 para finalizar: \"))\n",
    "            if choice == 0:\n",
    "                break\n",
    "            if choice not in self.menu:\n",
    "                print(\"Opción inválida.\")\n",
    "                continue\n",
    "            qty = int(input(\"Cantidad: \"))\n",
    "            self.order.append((choice, qty))\n",
    "\n",
    "    def calculate_total(self):\n",
    "        return sum(self.menu[choice][1] * qty for choice, qty in self.order)\n",
    "\n",
    "    def process_payment(self, total):\n",
    "        paid = int(input(f\"Total a pagar: ${total}\\nIngrese pago: $\"))\n",
    "        if paid < total:\n",
    "            print(\"Pago insuficiente.\")\n",
    "            return self.process_payment(total)\n",
    "        print(f\"Cambio: ${paid - total}\")\n",
    "\n",
    "    def print_receipt(self):\n",
    "        print(\"\\n--- Recibo ---\")\n",
    "        for choice, qty in self.order:\n",
    "            name, price = self.menu[choice]\n",
    "            print(f\"{name} x{qty} = ${price * qty}\")\n",
    "        print(\"--------------\")\n",
    "\n",
    "    def run(self):\n",
    "        self.show_menu()\n",
    "        self.take_order()\n",
    "        total = self.calculate_total()\n",
    "        self.process_payment(total)\n",
    "        self.print_receipt()\n",
    "        print(\"Gracias por su compra.\")\n",
    "\n",
    "# Ejecutar\n",
    "shop = CoffeeShop()\n",
    "shop.run()"
   ]
  },
  {
   "cell_type": "code",
   "execution_count": null,
   "id": "82272697",
   "metadata": {},
   "outputs": [],
   "source": []
  },
  {
   "cell_type": "code",
   "execution_count": null,
   "id": "d8653ffc",
   "metadata": {},
   "outputs": [],
   "source": []
  },
  {
   "cell_type": "code",
   "execution_count": null,
   "id": "c4e8ce5a",
   "metadata": {},
   "outputs": [],
   "source": []
  },
  {
   "cell_type": "markdown",
   "id": "9f6f79ab",
   "metadata": {},
   "source": [
    "Ejercicios básicos:\n",
    "- Función para saludar: Crea una función que reciba un nombre como parámetro y devuelva un saludo personalizado.\n",
    "- Función para calcular el área de un círculo: Recibe el radio como parámetro y devuelve el área.\n",
    "- Función para verificar si un número es par: Recibe un número como parámetro y devuelve True si es par, False en caso contrario.\n",
    "- Función para convertir grados Celsius a Fahrenheit: Recibe la temperatura en Celsius y devuelve la temperatura en Fahrenheit.\n",
    "- Función para encontrar el valor máximo de una lista: Recibe una lista de números como parámetro y devuelve el valor máximo. \n",
    "\n",
    "Ejercicios con más lógica:\n",
    "- Función para calcular el factorial de un número: Recibe un número entero positivo y devuelve su factorial. \n",
    "- Función para verificar si una cadena es un palíndromo: Recibe una cadena como parámetro y devuelve True si es un palíndromo, False en caso contrario. \n",
    "- Función para generar una lista de números primos hasta un límite: Recibe un límite como parámetro y devuelve una lista con los números primos encontrados.\n",
    "- Función para calcular el mínimo común múltiplo (MCM) de dos números: Recibe dos números como parámetros y devuelve su MCM. \n",
    "- Función para calcular el salario de un empleado con horas extras: Recibe las horas trabajadas y la tarifa por hora como parámetros. Si las horas trabajadas superan las 40, calcula las horas extras con una tarifa del 150%. \n",
    "\n",
    "Ejercicios con listas y diccionarios: \n",
    "- Función para calcular la media de una lista de números: Recibe una lista de números como parámetro y devuelve su media.\n",
    "- Función para contar la frecuencia de cada elemento en una lista: Recibe una lista como parámetro y devuelve un diccionario con la frecuencia de cada elemento.\n",
    "- Función para encontrar la intersección de dos listas: Recibe dos listas como parámetros y devuelve una nueva lista con los elementos comunes.\n",
    "- Función para ordenar una lista de números de forma ascendente: Recibe una lista como parámetro y devuelve la lista ordenada. \n",
    "\n",
    "Ejercicios con recursividad:\n",
    "1. Función recursiva para calcular la secuencia de Fibonacci:\n",
    "Recibe un número como parámetro y devuelve el término correspondiente de la secuencia de Fibonacci.\n",
    "2. Función recursiva para buscar un elemento en una lista:\n",
    "Recibe una lista y un elemento como parámetros y devuelve True si el elemento se encuentra en la lista, False en caso contrario. \n",
    "\n",
    "Consejos para resolver los ejercicios:\n",
    "\n",
    "Comienza con la estructura básica:\n",
    "\n",
    "Usa la palabra clave def para definir la función, seguida del nombre de la función y los parámetros entre paréntesis.\n",
    "\n",
    "Define el cuerpo de la función:\n",
    "\n",
    "Dentro de la función, escribe el código que realizará la tarea deseada.\n",
    "\n",
    "Utiliza la palabra clave return para devolver el resultado:\n",
    "\n",
    "Si la función debe devolver un valor, usa return seguido del valor a devolver.\n",
    "\n",
    "Prueba la función con diferentes entradas:\n",
    "\n",
    "Llama a la función con diferentes valores para asegurarte de que funciona correctamente.\n",
    "\n",
    "Divide los problemas complejos en partes más pequeñas:\n",
    "\n",
    "Si el problema es complejo, puedes dividirlo en varias funciones más pequeñas y luego combinarlas. \n",
    "\n",
    "Recuerda que la práctica es la clave para dominar la creación de funciones en Python. ¡Empieza con los ejercicios más sencillos y ve avanzando gradualmente! "
   ]
  },
  {
   "cell_type": "markdown",
   "id": "a337171c",
   "metadata": {},
   "source": [
    "**Función para saludar**: Crea una función que reciba un nombre como parámetro y devuelva un saludo personalizado."
   ]
  },
  {
   "cell_type": "code",
   "execution_count": null,
   "id": "b33afb8e",
   "metadata": {},
   "outputs": [],
   "source": [
    "def greeting(name:str) -> str:\n",
    "    #name = str(input(\"Escriba el nombre\"))\n",
    "    saludo = f\"Hola {name}\"\n",
    "    return saludo"
   ]
  },
  {
   "cell_type": "code",
   "execution_count": 6,
   "id": "a80a0d8f",
   "metadata": {},
   "outputs": [
    {
     "name": "stdout",
     "output_type": "stream",
     "text": [
      "Hola Randolph\n"
     ]
    }
   ],
   "source": [
    "print(greeting(\"Randolph\"))"
   ]
  },
  {
   "cell_type": "markdown",
   "id": "32b26d4d",
   "metadata": {},
   "source": [
    "**Función para calcular el área de un círculo**: Recibe el radio como parámetro y devuelve el área."
   ]
  },
  {
   "cell_type": "code",
   "execution_count": 5,
   "id": "b6a4c4de",
   "metadata": {},
   "outputs": [],
   "source": [
    "def area(radio:float) -> float:\n",
    "    #radio = float(input(\"Ingrese el radio\"))\n",
    "    area = radio**2\n",
    "    return area"
   ]
  },
  {
   "cell_type": "code",
   "execution_count": 6,
   "id": "a817519d",
   "metadata": {},
   "outputs": [
    {
     "name": "stdout",
     "output_type": "stream",
     "text": [
      "9\n"
     ]
    }
   ],
   "source": [
    "print(area(3))"
   ]
  },
  {
   "cell_type": "markdown",
   "id": "a5b10c05",
   "metadata": {},
   "source": [
    "**Función para verificar si un número es par**: Recibe un número como parámetro y devuelve True si es par, False en caso contrario."
   ]
  },
  {
   "cell_type": "code",
   "execution_count": 7,
   "id": "3c940a14",
   "metadata": {},
   "outputs": [],
   "source": [
    "def paridad(n):\n",
    "    if n%2 == 0 or n==0:\n",
    "        print('el numero es par')\n",
    "    else:\n",
    "        print('el numero es impar')"
   ]
  },
  {
   "cell_type": "code",
   "execution_count": 8,
   "id": "debfb7bf",
   "metadata": {},
   "outputs": [
    {
     "name": "stdout",
     "output_type": "stream",
     "text": [
      "el numero es par\n"
     ]
    }
   ],
   "source": [
    "x = int(input(\"Ingrese su numero\"))\n",
    "paridad(x)"
   ]
  },
  {
   "cell_type": "markdown",
   "id": "64af984d",
   "metadata": {},
   "source": [
    "**Función para verificar si una cadena es un palíndromo**: Recibe una cadena como parámetro y devuelve True si es un palíndromo, False en caso contrario. "
   ]
  },
  {
   "cell_type": "code",
   "execution_count": 9,
   "id": "d98fef0f",
   "metadata": {},
   "outputs": [],
   "source": [
    "def es_palindromo(cadena):\n",
    "  \"\"\"\n",
    "  Verifica si una cadena es un palíndromo.\n",
    "\n",
    "  Args:\n",
    "    cadena: La cadena a verificar.\n",
    "\n",
    "  Returns:\n",
    "    True si la cadena es un palíndromo, False en caso contrario.\n",
    "  \"\"\"\n",
    "  cadena = cadena.lower()\n",
    "  cadena_invertida = cadena[::-1]\n",
    "  return cadena == cadena_invertida"
   ]
  },
  {
   "cell_type": "code",
   "execution_count": 10,
   "id": "ac410ad2",
   "metadata": {},
   "outputs": [
    {
     "name": "stdout",
     "output_type": "stream",
     "text": [
      "\"madam\" es un palíndromo\n",
      "\"hello\" no es un palíndromo\n"
     ]
    }
   ],
   "source": [
    "cadena1 = \"madam\"\n",
    "cadena2 = \"hello\"\n",
    "\n",
    "if es_palindromo(cadena1):\n",
    "  print(f'\"{cadena1}\" es un palíndromo')\n",
    "else:\n",
    "  print(f'\"{cadena1}\" no es un palíndromo')\n",
    "\n",
    "if es_palindromo(cadena2):\n",
    "  print(f'\"{cadena2}\" es un palíndromo')\n",
    "else:\n",
    "  print(f'\"{cadena2}\" no es un palíndromo')"
   ]
  },
  {
   "cell_type": "markdown",
   "id": "6205b84b",
   "metadata": {},
   "source": [
    "**Función para generar una lista de números primos hasta un límite**: Recibe un límite como parámetro y devuelve una lista con los números primos encontrados."
   ]
  },
  {
   "cell_type": "code",
   "execution_count": 1,
   "id": "fbdf3f0f",
   "metadata": {},
   "outputs": [],
   "source": [
    "def generar_primos(limite):\n",
    "    \"\"\"\n",
    "    Genera una lista de números primos hasta un límite dado.\n",
    "\n",
    "    Args:\n",
    "        limite: El límite superior para buscar números primos.\n",
    "\n",
    "    Returns:\n",
    "        Una lista de números primos encontrados.\n",
    "    \"\"\"\n",
    "    primos = []\n",
    "    for num in range(2, limite + 1):\n",
    "        es_primo = True\n",
    "        for i in range(2, int(num**0.5) + 1):\n",
    "            if num % i == 0:\n",
    "                es_primo = False\n",
    "                break\n",
    "        if es_primo:\n",
    "            primos.append(num)\n",
    "    return primos"
   ]
  },
  {
   "cell_type": "code",
   "execution_count": 2,
   "id": "4c67e7fe",
   "metadata": {},
   "outputs": [
    {
     "name": "stdout",
     "output_type": "stream",
     "text": [
      "Números primos hasta 20: [2, 3, 5, 7, 11, 13, 17, 19]\n"
     ]
    }
   ],
   "source": [
    "# Ejemplo de uso:\n",
    "limite_maximo = 20\n",
    "lista_primos = generar_primos(limite_maximo)\n",
    "print(f\"Números primos hasta {limite_maximo}: {lista_primos}\")"
   ]
  },
  {
   "cell_type": "markdown",
   "id": "983d3629",
   "metadata": {},
   "source": [
    "## Diseña un sistema de Autocompletado tipo Google Search\n",
    "## 🧩 Problema\n",
    "Implementa un sistema de autocompletado donde, dada una lista de frases populares y su frecuencia de búsqueda, puedas:\n",
    "\n",
    "Registrar las frases ingresadas por el usuario.\n",
    "\n",
    "Cuando el usuario ingresa un prefijo, el sistema debe sugerir las 3 frases más frecuentes que comiencen con ese prefijo.\n",
    "\n",
    "Si hay empate en frecuencia, se ordenan alfabéticamente.\n",
    "\n",
    "## 📥 Input\n",
    "Lista de frases populares y su frecuencia:\n",
    "Ejemplo:\n",
    "\n",
    "python\n",
    "Copiar\n",
    "Editar\n",
    "\n",
    "sentences = [\"i love you\", \"island\", \"ironman\", \"i love leetcode\"]\n",
    "\n",
    "times = [5, 3, 2, 2]\n",
    "\n",
    "El usuario ingresa letra por letra usando el método input(c):\n",
    "\n",
    "Cada llamada con una letra actualiza las sugerencias.\n",
    "\n",
    "Si se ingresa el carácter '#', la frase hasta ahora escrita se considera nueva entrada (se guarda o actualiza su frecuencia)."
   ]
  },
  {
   "cell_type": "code",
   "execution_count": 1,
   "id": "786f77c9",
   "metadata": {},
   "outputs": [],
   "source": [
    "import heapq\n",
    "from collections import defaultdict\n",
    "\n",
    "class TrieNode:\n",
    "    def __init__(self):\n",
    "        self.children = {}\n",
    "        self.counts = defaultdict(int)\n",
    "        self.is_end = False\n",
    "\n",
    "class AutocompleteSystem:\n",
    "    def __init__(self, sentences, times):\n",
    "        self.root = TrieNode()\n",
    "        self.current_input = \"\"\n",
    "        self.curr_node = self.root\n",
    "        for sentence, time in zip(sentences, times):\n",
    "            self._add(sentence, time)\n",
    "\n",
    "    def _add(self, sentence, count):\n",
    "        node = self.root\n",
    "        for char in sentence:\n",
    "            if char not in node.children:\n",
    "                node.children[char] = TrieNode()\n",
    "            node = node.children[char]\n",
    "            node.counts[sentence] += count\n",
    "        node.is_end = True\n",
    "\n",
    "    def _lookup(self, prefix):\n",
    "        node = self.root\n",
    "        for char in prefix:\n",
    "            if char not in node.children:\n",
    "                return {}\n",
    "            node = node.children[char]\n",
    "        return node.counts\n",
    "\n",
    "    def input(self, c):\n",
    "        if c == \"#\":\n",
    "            self._add(self.current_input, 1)\n",
    "            self.current_input = \"\"\n",
    "            self.curr_node = self.root\n",
    "            return []\n",
    "        self.current_input += c\n",
    "        counts = self._lookup(self.current_input)\n",
    "        heap = [(-freq, sentence) for sentence, freq in counts.items()]\n",
    "        heapq.heapify(heap)\n",
    "        return [heapq.heappop(heap)[1] for _ in range(min(3, len(heap)))]"
   ]
  },
  {
   "cell_type": "code",
   "execution_count": 2,
   "id": "c663ce61",
   "metadata": {},
   "outputs": [
    {
     "name": "stdout",
     "output_type": "stream",
     "text": [
      "['i love you', 'island', 'i love leetcode']\n"
     ]
    }
   ],
   "source": [
    "ac = AutocompleteSystem(\n",
    "    [\"i love you\", \"island\", \"ironman\", \"i love leetcode\"],\n",
    "    [5, 3, 2, 2]\n",
    ")\n",
    "\n",
    "print(ac.input('i'))  # ['i love you', 'i love leetcode', 'island']\n",
    "#print(ac.input(' '))  # ['i love you', 'i love leetcode']\n",
    "#print(ac.input('l'))  # ['i love you', 'i love leetcode']\n",
    "#print(ac.input('o'))  # ['i love you']\n",
    "#print(ac.input('#'))  # registra \"i lo\"\n"
   ]
  },
  {
   "cell_type": "markdown",
   "id": "f5ad9387",
   "metadata": {},
   "source": [
    "**Función para encontrar el valor máximo de una lista**: Recibe una lista de números como parámetro y devuelve el valor máximo. "
   ]
  },
  {
   "cell_type": "code",
   "execution_count": 1,
   "id": "8e6e4a14",
   "metadata": {},
   "outputs": [],
   "source": [
    "def encontrar_maximo(lista):\n",
    "  \"\"\"\n",
    "  Encuentra el valor máximo en una lista de números.\n",
    "\n",
    "  Args:\n",
    "    lista: Una lista de números.\n",
    "\n",
    "  Returns:\n",
    "    El valor máximo de la lista.\n",
    "  \"\"\"\n",
    "  return max(lista)\n"
   ]
  },
  {
   "cell_type": "code",
   "execution_count": 2,
   "id": "d9c4bde7",
   "metadata": {},
   "outputs": [
    {
     "name": "stdout",
     "output_type": "stream",
     "text": [
      "El valor máximo es: 8\n"
     ]
    }
   ],
   "source": [
    "# Ejemplo de uso\n",
    "numeros = [1, 5, 2, 8, 3]\n",
    "maximo = encontrar_maximo(numeros)\n",
    "print(f\"El valor máximo es: {maximo}\")"
   ]
  },
  {
   "cell_type": "markdown",
   "id": "5e4ae044",
   "metadata": {},
   "source": [
    "**Función para calcular el factorial de un número**: Recibe un número entero positivo y devuelve su factorial. "
   ]
  },
  {
   "cell_type": "code",
   "execution_count": 1,
   "id": "979aadf7",
   "metadata": {},
   "outputs": [],
   "source": [
    "def factorial(n):\n",
    "    \"\"\"\n",
    "    Cacular el factorial de un numero \n",
    "    \"\"\"\n",
    "    result = 1\n",
    "    for i in range(1,n+1):\n",
    "        result *= i\n",
    "    return result"
   ]
  },
  {
   "cell_type": "code",
   "execution_count": 2,
   "id": "ec6b617d",
   "metadata": {},
   "outputs": [
    {
     "data": {
      "text/plain": [
       "720"
      ]
     },
     "execution_count": 2,
     "metadata": {},
     "output_type": "execute_result"
    }
   ],
   "source": [
    "x = int(input(\"Ingrese el numero\"))\n",
    "factorial(x)"
   ]
  },
  {
   "cell_type": "markdown",
   "id": "043619c4",
   "metadata": {},
   "source": [
    "## Ejercicios de datos simples"
   ]
  },
  {
   "cell_type": "markdown",
   "id": "b185373f",
   "metadata": {},
   "source": [
    "## Ejercicio 3\n",
    "Escribir un programa que pregunte el nombre del usuario en la consola y después de que el usuario lo introduzca muestre por pantalla la cadena ¡Hola <nombre>!, donde <nombre> es el nombre que el usuario haya introducido."
   ]
  },
  {
   "cell_type": "code",
   "execution_count": 1,
   "id": "ffc2b492",
   "metadata": {},
   "outputs": [
    {
     "name": "stdout",
     "output_type": "stream",
     "text": [
      "Hola Alan\n"
     ]
    }
   ],
   "source": [
    "name = str(input(\"Ingrese su nombre\"))\n",
    "print(f\"Hola {name}\")"
   ]
  },
  {
   "cell_type": "markdown",
   "id": "cb5c19db",
   "metadata": {},
   "source": [
    "## Ejercicio 4\n",
    "\n",
    "Escribir un programa que muestre por pantalla el resultado de la siguiente operación aritmética\n",
    "\n",
    "<math xmlns=\"http://www.w3.org/1998/Math/MathML\">\n",
    "  <msup>\n",
    "    <mrow data-mjx-texclass=\"INNER\">\n",
    "      <mo data-mjx-texclass=\"OPEN\">(</mo>\n",
    "      <mfrac>\n",
    "        <mrow>\n",
    "          <mn>3</mn>\n",
    "          <mo>+</mo>\n",
    "          <mn>2</mn>\n",
    "        </mrow>\n",
    "        <mrow>\n",
    "          <mn>2</mn>\n",
    "          <mo>&#x22C5;</mo>\n",
    "          <mn>5</mn>\n",
    "        </mrow>\n",
    "      </mfrac>\n",
    "      <mo data-mjx-texclass=\"CLOSE\">)</mo>\n",
    "    </mrow>\n",
    "    <mn>2</mn>\n",
    "  </msup>\n",
    "</math>"
   ]
  },
  {
   "cell_type": "code",
   "execution_count": 2,
   "id": "b73110da",
   "metadata": {},
   "outputs": [
    {
     "name": "stdout",
     "output_type": "stream",
     "text": [
      "0.25\n"
     ]
    }
   ],
   "source": [
    "print(((3+2)/(2*5))**2)"
   ]
  },
  {
   "cell_type": "markdown",
   "id": "2d5b416d",
   "metadata": {},
   "source": [
    "## Ejercicio 5\n",
    "Escribir un programa que pregunte al usuario por el número de horas trabajadas y el coste por hora. Después debe mostrar por pantalla la paga que le corresponde."
   ]
  },
  {
   "cell_type": "code",
   "execution_count": 3,
   "id": "5a75c4f2",
   "metadata": {},
   "outputs": [
    {
     "name": "stdout",
     "output_type": "stream",
     "text": [
      "Lo correspondiente a pagar es la siguiente 42000\n"
     ]
    }
   ],
   "source": [
    "hours = int(input(\"Cuantas horas trabajo?\"))\n",
    "cost = int(input(\"Precio de las\"))\n",
    "print(f\"Lo correspondiente a pagar es la siguiente {hours*cost}\")"
   ]
  },
  {
   "cell_type": "markdown",
   "id": "65465439",
   "metadata": {},
   "source": [
    "## Ejercicio 6\n",
    "Escribir un programa que lea un entero positivo <math xmlns=\"http://www.w3.org/1998/Math/MathML\">\n",
    "  <mi>n</mi>\n",
    "</math>, introducido por el usuario y después muestre en pantalla la suma de todos los enteros desde 1 hasta <math xmlns=\"http://www.w3.org/1998/Math/MathML\">\n",
    "  <mi>n</mi>\n",
    "</math>\n",
    ". La suma de los <math xmlns=\"http://www.w3.org/1998/Math/MathML\">\n",
    "  <mi>n</mi>\n",
    "</math>\n",
    " primeros enteros positivos puede ser calculada de la siguiente forma:\n",
    "\n",
    " <math xmlns=\"http://www.w3.org/1998/Math/MathML\" display=\"block\">\n",
    "  <mstyle displaystyle=\"false\" scriptlevel=\"0\">\n",
    "    <mtext>suma</mtext>\n",
    "  </mstyle>\n",
    "  <mo>=</mo>\n",
    "  <mfrac>\n",
    "    <mrow>\n",
    "      <mi>n</mi>\n",
    "      <mo stretchy=\"false\">(</mo>\n",
    "      <mi>n</mi>\n",
    "      <mo>+</mo>\n",
    "      <mn>1</mn>\n",
    "      <mo stretchy=\"false\">)</mo>\n",
    "    </mrow>\n",
    "    <mn>2</mn>\n",
    "  </mfrac>\n",
    "</math>"
   ]
  },
  {
   "cell_type": "code",
   "execution_count": 6,
   "id": "a1d71b1a",
   "metadata": {},
   "outputs": [
    {
     "name": "stdout",
     "output_type": "stream",
     "text": [
      "No es un numero positivo\n"
     ]
    }
   ],
   "source": [
    "x = int(input(\"Ingrese el numero entero\"))\n",
    "if x>=0:\n",
    "    print((x*(x+1))/2)\n",
    "else:\n",
    "    print(\"No es un numero positivo\")"
   ]
  },
  {
   "cell_type": "markdown",
   "id": "e90f0c73",
   "metadata": {},
   "source": [
    "## Ejercicio 7\n",
    "Escribir un programa que pida al usuario su peso (en kg) y estatura (en metros), calcule el índice de masa corporal y lo almacene en una variable, y muestre por pantalla la frase Tu índice de masa corporal es <imc> donde <imc> es el índice de masa corporal calculado redondeado con dos decimales."
   ]
  },
  {
   "cell_type": "code",
   "execution_count": 9,
   "id": "9cbbd220",
   "metadata": {},
   "outputs": [
    {
     "name": "stdout",
     "output_type": "stream",
     "text": [
      "Su indice de masa corporal es de 24.845679012345677\n"
     ]
    }
   ],
   "source": [
    "weight = float(input(\"ingrese su peso en Kg\"))\n",
    "hight = float(input(\"ingrese su altura en M\"))\n",
    "imc = (weight/hight**2)\n",
    "print(f\"Su indice de masa corporal es de {imc}\")"
   ]
  },
  {
   "cell_type": "markdown",
   "id": "2bac5c51",
   "metadata": {},
   "source": [
    "## Ejercicio 8\n",
    "Escribir un programa que pida al usuario dos números enteros y muestre por pantalla la n entre m da un cociente c y un resto r donde n y m son los números introducidos por el usuario, y c y r son el cociente y el resto de la división entera respectivamente."
   ]
  },
  {
   "cell_type": "code",
   "execution_count": 12,
   "id": "5132554f",
   "metadata": {},
   "outputs": [
    {
     "name": "stdout",
     "output_type": "stream",
     "text": [
      "la 4.0 entre 2.0 da un cociente 2.0 y un resto 0.0 \n"
     ]
    }
   ],
   "source": [
    "n = float(input(\"ingrese el numero dividendo\"))\n",
    "m = float(input(\"ingrese el numero divisor\"))\n",
    "c = n/m\n",
    "r = n%m\n",
    "print(f\"la {n} entre {m} da un cociente {c} y un resto {r} \")"
   ]
  },
  {
   "cell_type": "markdown",
   "id": "d633b03d",
   "metadata": {},
   "source": [
    "## Ejercicio 9\n",
    "Escribir un programa que pregunte al usuario una cantidad a invertir, el interés anual y el número de años, y muestre por pantalla el capital obtenido en la inversión."
   ]
  },
  {
   "cell_type": "code",
   "execution_count": 14,
   "id": "595c24d2",
   "metadata": {},
   "outputs": [
    {
     "name": "stdout",
     "output_type": "stream",
     "text": [
      "Este es el resultado de la capital 1462600.0000000002\n"
     ]
    }
   ],
   "source": [
    "x = float(input(\"Cantidad a invertir\"))\n",
    "a = float(input(\"ingrese los años que desea invertir\"))\n",
    "interes = x*a*(1 - 0.2687)\n",
    "print(f\"Este es el resultado de la capital {interes}\")"
   ]
  },
  {
   "cell_type": "markdown",
   "id": "5455d3f4",
   "metadata": {},
   "source": [
    "## Ejercicio 10\n",
    "Una juguetería tiene mucho éxito en dos de sus productos: payasos y muñecas. Suele hacer venta por correo y la empresa de logística les cobra por peso de cada paquete así que deben calcular el peso de los payasos y muñecas que saldrán en cada paquete a demanda. Cada payaso pesa 112 g y cada muñeca 75 g. Escribir un programa que lea el número de payasos y muñecas vendidos en el último pedido y calcule el peso total del paquete que será enviado."
   ]
  },
  {
   "cell_type": "code",
   "execution_count": 3,
   "id": "0f1e9f03",
   "metadata": {},
   "outputs": [
    {
     "name": "stdout",
     "output_type": "stream",
     "text": [
      "El peso total del paquete es 449 g\n"
     ]
    }
   ],
   "source": [
    "peso_payaso = 112\n",
    "peso_muñeca = 75\n",
    "payasos = int(input(\"Introduce el número de payasos a enviar: \"))\n",
    "muñecas = int(input(\"Introduce el número de muñecas a enviar: \"))\n",
    "peso_total = peso_payaso * payasos + peso_muñeca * muñecas\n",
    "print(\"El peso total del paquete es \" + str(peso_total) + \" g\")"
   ]
  },
  {
   "cell_type": "markdown",
   "id": "26512945",
   "metadata": {},
   "source": [
    "## Ejercicio 11\n",
    "Imagina que acabas de abrir una nueva cuenta de ahorros que te ofrece el 4% de interés al año. Estos ahorros debido a intereses, que no se cobran hasta finales de año, se te añaden al balance final de tu cuenta de ahorros. Escribir un programa que comience leyendo la cantidad de dinero depositada en la cuenta de ahorros, introducida por el usuario. Después el programa debe calcular y mostrar por pantalla la cantidad de ahorros tras el primer, segundo y tercer años. Redondear cada cantidad a dos decimales."
   ]
  },
  {
   "cell_type": "markdown",
   "id": "464d6e7d",
   "metadata": {},
   "source": [
    "En algunos casos, las cuentas de ahorros pueden calcular los intereses de forma diaria o mensual. En estos casos, la fórmula del interés simple se modifica para reflejar el período de tiempo más corto:\n",
    "\n",
    "I = (P * r * t) / 365\n",
    "\n",
    "Por ejemplo, si una cuenta de ahorros calcula los intereses de forma diaria y tiene una tasa de interés anual del 3%, los intereses generados al cabo de un día serán:\n",
    "\n",
    "I = (1000 * 0.03 / 365)\n",
    "\n",
    "I = $0.008\n",
    "\n",
    "En este caso, los intereses generados al cabo de un año serán de $2.86."
   ]
  },
  {
   "cell_type": "code",
   "execution_count": null,
   "id": "95ce17df",
   "metadata": {},
   "outputs": [],
   "source": [
    "inversion = float(input(\"Introduce la inversión inicial: \"))\n",
    "interes = 0.04\n",
    "balance1 = inversion * (1 + interes)\n",
    "print(\"Balance tras el primer año:\" + str(round(balance1, 2)))\n",
    "balance2 = balance1 * (1 + interes)\n",
    "print(\"Balance tras el segundo año:\" + str(round(balance2, 2)))\n",
    "balance3 = balance2 * (1 + interes)\n",
    "print(\"Balance tras el tercer año:\" + str(round(balance3, 2)))"
   ]
  },
  {
   "cell_type": "markdown",
   "id": "418bb1b7",
   "metadata": {},
   "source": [
    "## Ejercicio 12\n",
    "Una panadería vende barras de pan a 3.49€ cada una. El pan que no es el día tiene un descuento del 60%. Escribir un programa que comience leyendo el número de barras vendidas que no son del día. Después el programa debe mostrar el precio habitual de una barra de pan, el descuento que se le hace por no ser fresca y el coste final total."
   ]
  },
  {
   "cell_type": "code",
   "execution_count": null,
   "id": "da384d67",
   "metadata": {},
   "outputs": [],
   "source": [
    "barras = float(input(\"Ingrese el numero de barras\"))\n",
    "pan = 3.49\n",
    "descuento = 0.6\n",
    "coste = pan*barras*(1-descuento)\n",
    "print(f\"El precio de las barras es de {coste} €\")\n",
    "print(\"El descuento sobre una barra no fresca es \" + str(descuento * 100) + \"%\")\n",
    "print(\"El coste final a pagar es \" + str(round(coste, 2)) + \"€\")"
   ]
  },
  {
   "cell_type": "markdown",
   "id": "1d372e6d",
   "metadata": {},
   "source": [
    "## Ejercicios de Cadenas"
   ]
  },
  {
   "cell_type": "markdown",
   "id": "95c0797f",
   "metadata": {},
   "source": [
    "## Ejercicio 1\n",
    "Escribir un programa que pregunte el nombre del usuario en la consola y un número entero e imprima por pantalla en líneas distintas el nombre del usuario tantas veces como el número introducido."
   ]
  },
  {
   "cell_type": "code",
   "execution_count": 1,
   "id": "970bb18c",
   "metadata": {},
   "outputs": [
    {
     "name": "stdout",
     "output_type": "stream",
     "text": [
      "Randolph\n",
      "Randolph\n",
      "Randolph\n",
      "Randolph\n",
      "Randolph\n",
      "Randolph\n",
      "Randolph\n",
      "Randolph\n",
      "Randolph\n",
      "Randolph\n",
      "\n"
     ]
    }
   ],
   "source": [
    "nombre = input(\"¿Cómo te llamas? \")\n",
    "n = input(\"Introduce un número entero: \")\n",
    "print((nombre + \"\\n\") * int(n))"
   ]
  },
  {
   "cell_type": "markdown",
   "id": "977f4a5a",
   "metadata": {},
   "source": [
    "## Ejercicio 2\n",
    "Escribir un programa que pregunte el nombre completo del usuario en la consola y después muestre por pantalla el nombre completo del usuario tres veces, una con todas las letras minúsculas, otra con todas las letras mayúsculas y otra solo con la primera letra del nombre y de los apellidos en mayúscula. El usuario puede introducir su nombre combinando mayúsculas y minúsculas como quiera."
   ]
  },
  {
   "cell_type": "code",
   "execution_count": 6,
   "id": "3f4c25f2",
   "metadata": {},
   "outputs": [
    {
     "name": "stdout",
     "output_type": "stream",
     "text": [
      "RANDOLPH RAFAEL PERALTA MONTERROZA\n",
      "randolph rafael peralta monterroza\n",
      "Randolph Rafael Peralta Monterroza\n"
     ]
    }
   ],
   "source": [
    "complet_name = str(input(\"Introduzca su nombre completo\"))\n",
    "print(complet_name.upper() + '\\n' + complet_name.lower() + '\\n' + complet_name.title())"
   ]
  },
  {
   "cell_type": "markdown",
   "id": "780f140a",
   "metadata": {},
   "source": [
    "## Ejercicio 3\n",
    "Escribir un programa que pregunte el nombre del usuario en la consola y después de que el usuario lo introduzca muestre por pantalla NOMBRE tiene n letras, donde NOMBRE es el nombre de usuario en mayúsculas y n es el número de letras que tienen el nombre."
   ]
  },
  {
   "cell_type": "code",
   "execution_count": 1,
   "id": "cc62a3ac",
   "metadata": {},
   "outputs": [
    {
     "name": "stdout",
     "output_type": "stream",
     "text": [
      "el nombre de RANDOLPH tiene 8 letras\n"
     ]
    }
   ],
   "source": [
    "N = str(input(\"Introduzca su nombre\"))\n",
    "n = len(N)\n",
    "print(f\"el nombre de {N.upper()} tiene {n} letras\")"
   ]
  },
  {
   "cell_type": "markdown",
   "id": "ec12638b",
   "metadata": {},
   "source": [
    "## Ejercicio 4\n",
    "Los teléfonos de una empresa tienen el siguiente formato prefijo-número-extension donde el prefijo es el código del país +34, y la extensión tiene dos dígitos (por ejemplo +34-913724710-56). Escribir un programa que pregunte por un número de teléfono con este formato y muestre por pantalla el número de teléfono sin el prefijo y la extensión."
   ]
  },
  {
   "cell_type": "code",
   "execution_count": 4,
   "id": "58eda3d7",
   "metadata": {},
   "outputs": [
    {
     "name": "stdout",
     "output_type": "stream",
     "text": [
      "El número de teléfono es  913724710\n"
     ]
    }
   ],
   "source": [
    "tel = input(\"Introduce un número de teléfono con el formato +xx-xxxxxxxxx-xx: \")\n",
    "print('El número de teléfono es ', tel[4:-3])"
   ]
  },
  {
   "cell_type": "markdown",
   "id": "8ffd0639",
   "metadata": {},
   "source": [
    "## Ejercicio 5\n",
    "Escribir un programa que pida al usuario que introduzca una frase en la consola y muestre por pantalla la frase invertida."
   ]
  },
  {
   "cell_type": "code",
   "execution_count": 5,
   "id": "0e3c2d2a",
   "metadata": {},
   "outputs": [
    {
     "name": "stdout",
     "output_type": "stream",
     "text": [
      "hplodnaR\n"
     ]
    }
   ],
   "source": [
    "name = str(input(\"Ingrese su nombre\"))\n",
    "name_inverted = name[::-1]\n",
    "print(name_inverted)"
   ]
  },
  {
   "cell_type": "markdown",
   "id": "ecb6f63e",
   "metadata": {},
   "source": [
    "## Ejercicio 6\n",
    "Escribir un programa que pida al usuario que introduzca una frase en la consola y una vocal, y después muestre por pantalla la misma frase pero con la vocal introducida en mayúscula."
   ]
  },
  {
   "cell_type": "code",
   "execution_count": 7,
   "id": "511cc146",
   "metadata": {},
   "outputs": [
    {
     "name": "stdout",
     "output_type": "stream",
     "text": [
      "Fuerza A\n"
     ]
    }
   ],
   "source": [
    "frase = str(input(\"Introduzca su frase\"))\n",
    "vocal = str(input(\"Introduzca una vocal\"))\n",
    "print(frase + \" \" + vocal.upper())"
   ]
  },
  {
   "cell_type": "markdown",
   "id": "171ccba9",
   "metadata": {},
   "source": [
    "## Ejercicio 7\n",
    "Escribir un programa que pregunte el correo electrónico del usuario en la consola y muestre por pantalla otro correo electrónico con el mismo nombre (la parte delante de la arroba @) pero con dominio ceu.es."
   ]
  },
  {
   "cell_type": "code",
   "execution_count": 2,
   "id": "74cfef22",
   "metadata": {},
   "outputs": [
    {
     "name": "stdout",
     "output_type": "stream",
     "text": [
      "asalbe@ceu.es\n"
     ]
    }
   ],
   "source": [
    "email = input(\"Introduce tu correo electrónico: \")\n",
    "print(email[:email.find('@')] + '@ceu.es')"
   ]
  },
  {
   "cell_type": "markdown",
   "id": "03f3adf6",
   "metadata": {},
   "source": [
    "## Ejercicio 8\n",
    "Escribir un programa que pregunte por consola el precio de un producto en euros con dos decimales y muestre por pantalla el número de euros y el número de céntimos del precio introducido."
   ]
  },
  {
   "cell_type": "code",
   "execution_count": 14,
   "id": "33484adc",
   "metadata": {},
   "outputs": [
    {
     "name": "stdout",
     "output_type": "stream",
     "text": [
      "Se tiene 123 euros, donde  hay 654 centimos\n"
     ]
    }
   ],
   "source": [
    "precio = str(input(\"Introduce el precio del producto con dos decimales:  \"))\n",
    "print(f\"Se tiene {precio[:precio.find(\".\")]} euros, donde  hay {precio[precio.find(\".\")+1:]} centimos\")"
   ]
  },
  {
   "cell_type": "markdown",
   "id": "e393a43d",
   "metadata": {},
   "source": [
    "## Ejercicio 9\n",
    "Escribir un programa que pregunte al usuario la fecha de su nacimiento en formato dd/mm/aaaa y muestra por pantalla, el día, el mes y el año. Adaptar el programa anterior para que también funcione cuando el día o el mes se introduzcan con un solo carácter."
   ]
  },
  {
   "cell_type": "code",
   "execution_count": 14,
   "id": "0876a967",
   "metadata": {},
   "outputs": [
    {
     "name": "stdout",
     "output_type": "stream",
     "text": [
      "Se tiene 12 del mes 8 del año 2021\n"
     ]
    }
   ],
   "source": [
    "fecha = str(input(\"ingrese su fecha de nacimiento\"))\n",
    "fecha = fecha.split(\"/\")\n",
    "dia, mes, año = fecha\n",
    "print(f\"Se tiene {dia} del mes {mes} del año {año}\")"
   ]
  },
  {
   "cell_type": "markdown",
   "id": "8aaa6f9a",
   "metadata": {},
   "source": [
    "## Ejercicio 10\n",
    "Escribir un programa que pregunte por consola por los productos de una cesta de la compra, separados por comas, y muestre por pantalla cada uno de los productos en una línea distinta."
   ]
  },
  {
   "cell_type": "code",
   "execution_count": 20,
   "id": "fe308a49",
   "metadata": {},
   "outputs": [
    {
     "name": "stdout",
     "output_type": "stream",
     "text": [
      "manzana\n",
      " pera\n",
      " maracuya\n",
      " naranja\n"
     ]
    }
   ],
   "source": [
    "productos = str(input(\"Introduzca los productos de su cesta de compras\"))\n",
    "productos = productos.split(\",\")\n",
    "for producto in productos:\n",
    "    print(producto)"
   ]
  },
  {
   "cell_type": "markdown",
   "id": "22141018",
   "metadata": {},
   "source": [
    "## Ejercicio 11\n",
    "Escribir un programa que pregunte el nombre el un producto, su precio y un número de unidades y muestre por pantalla una cadena con el nombre del producto seguido de su precio unitario con 6 dígitos enteros y 2 decimales, el número de unidades con tres dígitos y el coste total con 8 dígitos enteros y 2 decimales."
   ]
  },
  {
   "cell_type": "code",
   "execution_count": null,
   "id": "9a2ef49d",
   "metadata": {},
   "outputs": [
    {
     "name": "stdout",
     "output_type": "stream",
     "text": [
      "Manzana:   1 unidad x 000090.00€ = 00000090.00€\n"
     ]
    }
   ],
   "source": [
    "producto = str(input(\"Cual es su producto\"))\n",
    "precio = float(input(\"Cual es su precio\"))\n",
    "unidad = int(input(\"Cuantos desea\"))\n",
    "print('{producto}: {unidad:3d} unidad x {precio:09.2f}€ = {total:011.2f}€'.format(producto = producto, unidad = unidad, precio = precio, total = unidad * precio))"
   ]
  },
  {
   "cell_type": "markdown",
   "id": "cb0a0015",
   "metadata": {},
   "source": [
    "## Ejercicios de Condicionales"
   ]
  },
  {
   "cell_type": "markdown",
   "id": "8591e54c",
   "metadata": {},
   "source": [
    "## Ejercicio 1\n",
    "Escribir un programa que pregunte al usuario su edad y muestre por pantalla si es mayor de edad o no."
   ]
  },
  {
   "cell_type": "code",
   "execution_count": 2,
   "id": "7bc0f031",
   "metadata": {},
   "outputs": [
    {
     "name": "stdout",
     "output_type": "stream",
     "text": [
      "Eres mayor de edad\n"
     ]
    }
   ],
   "source": [
    "edad = int(input(\"ingrse su edad\"))\n",
    "if edad >= 18:\n",
    "    print(\"Eres mayor de edad\")\n",
    "else:\n",
    "    print(\"Eres menor de edad\")"
   ]
  },
  {
   "cell_type": "markdown",
   "id": "9c5834bb",
   "metadata": {},
   "source": [
    "## Ejercicio 2\n",
    "Escribir un programa que almacene la cadena de caracteres contraseña en una variable, pregunte al usuario por la contraseña e imprima por pantalla si la contraseña introducida por el usuario coincide con la guardada en la variable sin tener en cuenta mayúsculas y minúsculas."
   ]
  },
  {
   "cell_type": "code",
   "execution_count": 3,
   "id": "aa0a1c19",
   "metadata": {},
   "outputs": [
    {
     "name": "stdout",
     "output_type": "stream",
     "text": [
      "Contraseña correcta\n"
     ]
    }
   ],
   "source": [
    "key = \"1234qwer\"\n",
    "password = str(input(\"introduzca la contraseña del usuario: \"))\n",
    "if password.lower() == key:\n",
    "    print(\"Contraseña correcta\")\n",
    "else:\n",
    "    print(\"Contraseña incorrecta\")"
   ]
  },
  {
   "cell_type": "markdown",
   "id": "843ce6df",
   "metadata": {},
   "source": [
    "## Ejercicio 3\n",
    "Escribir un programa que pida al usuario dos números y muestre por pantalla su división. Si el divisor es cero el programa debe mostrar un error."
   ]
  },
  {
   "cell_type": "code",
   "execution_count": 7,
   "id": "8759340a",
   "metadata": {},
   "outputs": [
    {
     "name": "stdout",
     "output_type": "stream",
     "text": [
      "La divison es 2.0\n"
     ]
    }
   ],
   "source": [
    "dividendo = float(input(\"Ingrese su numero: \"))\n",
    "divisor = float(input(\"Ingrese el numero divisor: \"))\n",
    "if divisor != 0:\n",
    "    print(f\"La divison es {dividendo/divisor}\")\n",
    "else:\n",
    "    print(\"El divisor es cero, ingrese nuevamnte la division\")"
   ]
  },
  {
   "cell_type": "markdown",
   "id": "67d0cf06",
   "metadata": {},
   "source": [
    "# Ejercicio 4\n",
    "Escribir un programa que pida al usuario un número entero y muestre por pantalla si es par o impar."
   ]
  },
  {
   "cell_type": "code",
   "execution_count": 16,
   "id": "fb84e6be",
   "metadata": {},
   "outputs": [
    {
     "name": "stdout",
     "output_type": "stream",
     "text": [
      "El numero -9 impar\n"
     ]
    }
   ],
   "source": [
    "numero = int(input(\"Ingrese su numero\"))\n",
    "if numero % 2 == 0:\n",
    "    print(f\"El numero {numero} par\")\n",
    "else:\n",
    "    print(f\"El numero {numero} impar\")"
   ]
  },
  {
   "cell_type": "markdown",
   "id": "eff5af9d",
   "metadata": {},
   "source": [
    "## Ejercicio 5\n",
    "Para tributar un determinado impuesto se debe ser mayor de 16 años y tener unos ingresos iguales o superiores a 1000 € mensuales. Escribir un programa que pregunte al usuario su edad y sus ingresos mensuales y muestre por pantalla si el usuario tiene que tributar o no."
   ]
  },
  {
   "cell_type": "code",
   "execution_count": 17,
   "id": "8ec00efb",
   "metadata": {},
   "outputs": [
    {
     "name": "stdout",
     "output_type": "stream",
     "text": [
      "No debe tributar\n"
     ]
    }
   ],
   "source": [
    "edad = int(input(\"ingrese su edad\"))\n",
    "ingresos = float(input(\"ingrese sus ingresos mensuales\"))\n",
    "if edad >= 16 and ingresos >= 1000:\n",
    "    print(\"Debe tributar\")\n",
    "else:\n",
    "    print(\"No debe tributar\")"
   ]
  },
  {
   "cell_type": "markdown",
   "id": "4bb79989",
   "metadata": {},
   "source": [
    "## Ejercicio 6\n",
    "Los alumnos de un curso se han dividido en dos grupos A y B de acuerdo al sexo y el nombre. El grupo A esta formado por las mujeres con un nombre anterior a la M y los hombres con un nombre posterior a la N y el grupo B por el resto. Escribir un programa que pregunte al usuario su nombre y sexo, y muestre por pantalla el grupo que le corresponde."
   ]
  },
  {
   "cell_type": "code",
   "execution_count": null,
   "id": "23614034",
   "metadata": {},
   "outputs": [],
   "source": [
    "name = input(\"¿Cómo te llamas? \")\n",
    "gender = input(\"¿Cuál es tu sexo (M o H)? \")\n",
    "if gender == \"M\":\n",
    "    if name.lower() < \"m\":\n",
    "        group = \"A\"\n",
    "    else:\n",
    "        group = \"B\"\n",
    "else:\n",
    "    if name.lower() > \"n\":\n",
    "        group = \"A\"\n",
    "    else:\n",
    "        group = \"B\"\n",
    "print(\"Tu grupo es \" + group)"
   ]
  },
  {
   "cell_type": "markdown",
   "id": "5f613008",
   "metadata": {},
   "source": [
    "## Ejercicio 7\n",
    "Los tramos impositivos para la declaración de la renta en un determinado país son los siguientes:\n",
    "\n",
    "```\n",
    "Renta\t                Tipo impositivo\n",
    "Menos de 10000€\t             5%\n",
    "Entre 10000€ y 20000€\t    15%\n",
    "Entre 20000€ y 35000€\t    20%\n",
    "Entre 35000€ y 60000€\t    30%\n",
    "Más de 60000€\t            45%\n",
    "```\n",
    "\n",
    "Escribir un programa que pregunte al usuario su renta anual y muestre por pantalla el tipo impositivo que le corresponde."
   ]
  },
  {
   "cell_type": "code",
   "execution_count": null,
   "id": "71b8af19",
   "metadata": {},
   "outputs": [
    {
     "name": "stdout",
     "output_type": "stream",
     "text": [
      "14814.81\n"
     ]
    }
   ],
   "source": [
    "renta = float(input(\"ingrese su renta\"))\n",
    "if renta < 10000:\n",
    "    tipo = 5\n",
    "elif renta < 20000:\n",
    "    tipo = 15\n",
    "elif renta < 35000:\n",
    "    tipo = 20\n",
    "elif renta < 60000:\n",
    "    tipo = 30\n",
    "else:\n",
    "    tipo = 45\n",
    "# Mostrar por pantalla el producto de la renta por el tipo impositivo\n",
    "print(\"Tienes que pagar \", renta * tipo / 100, \"€\", sep='')"
   ]
  },
  {
   "cell_type": "markdown",
   "id": "f16ebaad",
   "metadata": {},
   "source": [
    "## Ejercicio 8\n",
    "En una determinada empresa, sus empleados son evaluados al final de cada año. Los puntos que pueden obtener en la evaluación comienzan en 0.0 y pueden ir aumentando, traduciéndose en mejores beneficios. Los puntos que pueden conseguir los empleados pueden ser 0.0, 0.4, 0.6 o más, pero no valores intermedios entre las cifras mencionadas. A continuación se muestra una tabla con los niveles correspondientes a cada puntuación. La cantidad de dinero conseguida en cada nivel es de 2.400€ multiplicada por la puntuación del nivel.\n",
    "\n",
    "```\n",
    "Nivel\t        Puntuación\n",
    "Inaceptable\t    0.0\n",
    "Aceptable\t    0.4\n",
    "Meritorio\t    0.6 o más\n",
    "```\n",
    "\n",
    "Escribir un programa que lea la puntuación del usuario e indique su nivel de rendimiento, así como la cantidad de dinero que recibirá el usuario."
   ]
  },
  {
   "cell_type": "code",
   "execution_count": 5,
   "id": "34f21a34",
   "metadata": {},
   "outputs": [
    {
     "name": "stdout",
     "output_type": "stream",
     "text": [
      "Tu nivel de rendimiento es Meritorio\n",
      "Te corresponde cobrar 2400.00€\n"
     ]
    }
   ],
   "source": [
    "bonificacion = 2400\n",
    "inaceptable = 0\n",
    "aceptable = 0.4\n",
    "meritorio = 0.6\n",
    "puntos = float(input(\"Introduce tu puntuación: \"))\n",
    "# Clasifiación por niveles de rendimiento\n",
    "if puntos == inaceptable:\n",
    "    nivel = \"Inaceptable\"\n",
    "elif puntos == aceptable:\n",
    "    nivel = \"Aceptable\"\n",
    "elif puntos >= 0.6:\n",
    "    nivel = \"Meritorio\"\n",
    "else:\n",
    "    nivel = \"\"\n",
    "# Mostrar nivel de rendimiento\n",
    "if nivel == \"\":\n",
    "    print(\"Esta puntuación no es válida\")\n",
    "else:\n",
    "    print(\"Tu nivel de rendimiento es %s\" % nivel)\n",
    "    print(\"Te corresponde cobrar %.2f€\" % (puntos * bonificacion))"
   ]
  },
  {
   "cell_type": "markdown",
   "id": "e551fa0a",
   "metadata": {},
   "source": [
    "## Ejercicio 9\n",
    "Escribir un programa para una empresa que tiene salas de juegos para todas las edades y quiere calcular de forma automática el precio que debe cobrar a sus clientes por entrar. El programa debe preguntar al usuario la edad del cliente y mostrar el precio de la entrada. Si el cliente es menor de 4 años puede entrar gratis, si tiene entre 4 y 18 años debe pagar 5€ y si es mayor de 18 años, 10€."
   ]
  },
  {
   "cell_type": "code",
   "execution_count": null,
   "id": "33e9e811",
   "metadata": {},
   "outputs": [],
   "source": []
  },
  {
   "cell_type": "markdown",
   "id": "53b38249",
   "metadata": {},
   "source": [
    "## Ejercicios de diccionarios"
   ]
  },
  {
   "cell_type": "markdown",
   "id": "5f5c7771",
   "metadata": {},
   "source": [
    "## Ejercicio 1\n",
    "Escribir un programa que guarde en una variable el diccionario {'Euro':'€', 'Dollar':'$', 'Yen':'¥'}, pregunte al usuario por una divisa y muestre su símbolo o un mensaje de aviso si la divisa no está en el diccionario."
   ]
  },
  {
   "cell_type": "code",
   "execution_count": 3,
   "id": "ba8c171b",
   "metadata": {},
   "outputs": [
    {
     "name": "stdout",
     "output_type": "stream",
     "text": [
      "€\n"
     ]
    }
   ],
   "source": [
    "monedas = {'Euro':'€', 'Dollar':'$', 'Yen':'¥'}\n",
    "moneda = input(\"Introduce una divisa: \")\n",
    "print(monedas.get(moneda.title(), \"La divisa no está.\"))"
   ]
  },
  {
   "cell_type": "markdown",
   "id": "2cdda2a3",
   "metadata": {},
   "source": [
    "## Ejercicio 2\n",
    "Escribir un programa que pregunte al usuario su nombre, edad, dirección y teléfono y lo guarde en un diccionario. Después debe mostrar por pantalla el mensaje <nombre> tiene <edad> años, vive en <dirección> y su número de teléfono es <teléfono>."
   ]
  },
  {
   "cell_type": "code",
   "execution_count": null,
   "id": "8bb9345b",
   "metadata": {},
   "outputs": [
    {
     "name": "stdout",
     "output_type": "stream",
     "text": [
      "Te llamas Randolph y tu edad es de 29\n"
     ]
    }
   ],
   "source": [
    "nombre = str(input(\"Cual es tu nombre?\"))\n",
    "edad = int(input(\"Cual es tu edad?\"))\n",
    "direccion = str(input(\"Cual es tu direccion?\"))\n",
    "telefono = int(input(\"Cual es tu numero de telefono o celular\"))\n",
    "persona = {'nombre': nombre, 'edad': edad, 'direccion': direccion, 'telefono':telefono}\n",
    "print(f\"Te llamas {persona['nombre']}, tu edad es de {persona['edad']} vives en esta direccion {persona['direccion']} y tu telefono es {persona['telefono']}\")"
   ]
  },
  {
   "cell_type": "markdown",
   "id": "44865a3f",
   "metadata": {},
   "source": [
    "## Ejercicio 3\n",
    "Escribir un programa que guarde en un diccionario los precios de las frutas de la tabla, pregunte al usuario por una fruta, un número de kilos y muestre por pantalla el precio de ese número de kilos de fruta. Si la fruta no está en el diccionario debe mostrar un mensaje informando de ello.\n",
    "\n",
    "```\n",
    "Fruta\tPrecio\n",
    "Plátano\t 1.35\n",
    "Manzana\t 0.80\n",
    "Pera\t 0.85\n",
    "Naranja\t 0.70\n",
    "```"
   ]
  },
  {
   "cell_type": "code",
   "execution_count": 3,
   "id": "f9dd7be8",
   "metadata": {},
   "outputs": [
    {
     "name": "stdout",
     "output_type": "stream",
     "text": [
      "El precio de 2 kilos de Manzana es: $1.60\n"
     ]
    }
   ],
   "source": [
    "fruta = str(input(\"Ingrese la fruta\"))\n",
    "cantidad = int(input(\"Cuantos kilos desea llevar\"))\n",
    "\n",
    "frutas = {'Platano':1.35, 'Manzana':0.80, 'Pera':0.85, 'Naranja':0.70}\n",
    "if fruta in frutas:\n",
    "    precio = frutas[fruta]\n",
    "    total = cantidad * precio\n",
    "    print(f\"El precio de {cantidad} kilos de {fruta} es: ${total:.2f}\")\n",
    "else:\n",
    "    print(\"la fruta no esta en la lista\")"
   ]
  },
  {
   "cell_type": "markdown",
   "id": "328c85c9",
   "metadata": {},
   "source": [
    "## Ejercicio 4\n",
    "Escribir un programa que pregunte una fecha en formato dd/mm/aaaa y muestre por pantalla la misma fecha en formato dd de <mes> de aaaa donde <mes> es el nombre del mes."
   ]
  },
  {
   "cell_type": "code",
   "execution_count": 7,
   "id": "fbefab08",
   "metadata": {},
   "outputs": [
    {
     "name": "stdout",
     "output_type": "stream",
     "text": [
      "01 de enero de 2001\n"
     ]
    }
   ],
   "source": [
    "meses = {\n",
    "    '01': 'enero',\n",
    "    '02': 'febrero',\n",
    "    '03': 'marzo',\n",
    "    '04': 'abril',\n",
    "    '05': 'mayo',\n",
    "    '06': 'junio',\n",
    "    '07': 'julio',\n",
    "    '08': 'agosto',\n",
    "    '09': 'septiembre',\n",
    "    '10': 'octubre',\n",
    "    '11': 'noviembre',\n",
    "    '12': 'diciembre'\n",
    "}\n",
    "\n",
    "fecha = input(\"Ingrese la fecha en formato dd/mm/aaaa: \")\n",
    "partes = fecha.split('/')\n",
    "\n",
    "if len(partes) == 3 and partes[1] in meses:\n",
    "    dia, mes, año = partes\n",
    "    print(f\"{dia} de {meses[mes]} de {año}\")\n",
    "else:\n",
    "    print(\"Formato de fecha inválido o mes no reconocido.\")"
   ]
  },
  {
   "cell_type": "markdown",
   "id": "d89c928b",
   "metadata": {},
   "source": [
    "## Ejercicio 5\n",
    "Escribir un programa que almacene el diccionario con los créditos de las asignaturas de un curso {'Matemáticas': 6, 'Física': 4, 'Química': 5} y después muestre por pantalla los créditos de cada asignatura en el formato <asignatura> tiene <créditos> créditos, donde <asignatura> es cada una de las asignaturas del curso, y <créditos> son sus créditos. Al final debe mostrar también el número total de créditos del curso."
   ]
  },
  {
   "cell_type": "code",
   "execution_count": 5,
   "id": "227bea1d",
   "metadata": {},
   "outputs": [
    {
     "name": "stdout",
     "output_type": "stream",
     "text": [
      "Matemáticas tiene 6 créditos\n",
      "Física tiene 4 créditos\n",
      "Química tiene 5 créditos\n",
      "Número total de créditos del curso:  15\n"
     ]
    }
   ],
   "source": [
    "curso = {'Matemáticas': 6, 'Física': 4, 'Química': 5}\n",
    "total_creditos = 0\n",
    "for asignatura, creditos in curso.items():\n",
    "    print(asignatura, 'tiene', creditos, 'créditos')\n",
    "    total_creditos += creditos\n",
    "print('Número total de créditos del curso: ', total_creditos)"
   ]
  },
  {
   "cell_type": "markdown",
   "id": "e9bf3253",
   "metadata": {},
   "source": [
    "## Ejercicio 6\n",
    "Escribir un programa que cree un diccionario vacío y lo vaya llenado con información sobre una persona (por ejemplo nombre, edad, sexo, teléfono, correo electrónico, etc.) que se le pida al usuario. Cada vez que se añada un nuevo dato debe imprimirse el contenido del diccionario."
   ]
  },
  {
   "cell_type": "code",
   "execution_count": 2,
   "id": "990bc3e8",
   "metadata": {},
   "outputs": [
    {
     "name": "stdout",
     "output_type": "stream",
     "text": [
      "{'Nombre': 'Randolph'}\n"
     ]
    }
   ],
   "source": [
    "persona= {}\n",
    "continuar = True\n",
    "while continuar:\n",
    "    clave = input(\"Ingrese el dato que desea guardar\")\n",
    "    valor = input(clave + ': ')\n",
    "    persona[clave] = valor\n",
    "    print(persona)\n",
    "    conitnuar = input(\"Deseas continuar Si / No?\")\n",
    "    if continuar == 'Si':\n",
    "        continue\n",
    "    else:\n",
    "        break\n"
   ]
  },
  {
   "cell_type": "markdown",
   "id": "e7177d86",
   "metadata": {},
   "source": [
    "## Ejercicio 7\n",
    "Escribir un programa que cree un diccionario simulando una cesta de la compra. El programa debe preguntar el artículo y su precio y añadir el par al diccionario, hasta que el usuario decida terminar. Después se debe mostrar por pantalla la lista de la compra y el coste total, con el siguiente formato\n",
    "\n",
    "```\n",
    "Lista de la compra\t\n",
    "\n",
    "Artículo 1\tPrecio\n",
    "Artículo 2\tPrecio\n",
    "Artículo 3\tPrecio\n",
    "…\t…  ... ... ...\n",
    "Total\t    Coste\n",
    "```"
   ]
  },
  {
   "cell_type": "code",
   "execution_count": 1,
   "id": "24ebe9b6",
   "metadata": {},
   "outputs": [
    {
     "name": "stdout",
     "output_type": "stream",
     "text": [
      "Lista de la compra\n",
      "Mesa \t 100.0\n",
      "Silla \t 200.0\n",
      "Coste total:  300.0\n"
     ]
    }
   ],
   "source": [
    "cesta = {}\n",
    "continuar = True\n",
    "while continuar:\n",
    "    item = input('Introduce un artículo: ')\n",
    "    precio = float(input('Introduce el precio de ' + item + ': '))\n",
    "    cesta[item] = precio\n",
    "    continuar = input('¿Quieres añadir artículos a la lista (Si/No)? ') == \"Si\"\n",
    "coste = 0\n",
    "print('Lista de la compra')\n",
    "for item, precio in cesta.items():\n",
    "    print(item, '\\t', precio)\n",
    "    coste += precio\n",
    "print('Coste total: ', coste)"
   ]
  }
 ],
 "metadata": {
  "kernelspec": {
   "display_name": "venv",
   "language": "python",
   "name": "python3"
  },
  "language_info": {
   "codemirror_mode": {
    "name": "ipython",
    "version": 3
   },
   "file_extension": ".py",
   "mimetype": "text/x-python",
   "name": "python",
   "nbconvert_exporter": "python",
   "pygments_lexer": "ipython3",
   "version": "3.13.5"
  }
 },
 "nbformat": 4,
 "nbformat_minor": 5
}

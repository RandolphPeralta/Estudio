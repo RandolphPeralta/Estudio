{
 "cells": [
  {
   "cell_type": "markdown",
   "id": "17073a7f",
   "metadata": {},
   "source": [
    "## Entrenamiento para usar python "
   ]
  },
  {
   "cell_type": "code",
   "execution_count": 1,
   "id": "7baff51b",
   "metadata": {},
   "outputs": [],
   "source": [
    "def convertToBase13(num):\n",
    "    if num == 0:\n",
    "        return \"0\"\n",
    "\n",
    "    # Digits for base 13\n",
    "    base13_digits = \"0123456789ABC\"  \n",
    "    digits = \"\"\n",
    "    positive = abs(num)\n",
    "    \n",
    "    while positive > 0:\n",
    "        # Append digits/letters\n",
    "        digits += base13_digits[positive % 13]  \n",
    "        positive = positive // 13\n",
    "\n",
    "    # Reverse the string at the end\n",
    "    reversed_digits = digits[::-1]  \n",
    "    if num < 0:\n",
    "        return \"-\" + reversed_digits\n",
    "    else:\n",
    "        return reversed_digits"
   ]
  },
  {
   "cell_type": "code",
   "execution_count": 5,
   "id": "601d2b24",
   "metadata": {},
   "outputs": [
    {
     "data": {
      "text/plain": [
       "'A'"
      ]
     },
     "execution_count": 5,
     "metadata": {},
     "output_type": "execute_result"
    }
   ],
   "source": [
    "num = int(input(\"Escriba un numero\"))\n",
    "convertToBase13(num)"
   ]
  },
  {
   "cell_type": "code",
   "execution_count": 2,
   "id": "210ded6f",
   "metadata": {},
   "outputs": [],
   "source": [
    "def func(x):\n",
    "    if x == 1:\n",
    "        def rv():\n",
    "            print(\"X is equal to 1\")\n",
    "    else:\n",
    "        def rv():\n",
    "            print(\"X is not 1\")\n",
    "\n",
    "    return rv"
   ]
  },
  {
   "cell_type": "code",
   "execution_count": 5,
   "id": "8409f1e2",
   "metadata": {},
   "outputs": [
    {
     "data": {
      "text/plain": [
       "<function __main__.func.<locals>.rv()>"
      ]
     },
     "execution_count": 5,
     "metadata": {},
     "output_type": "execute_result"
    }
   ],
   "source": [
    "new_func = func(2)\n",
    "new_func"
   ]
  },
  {
   "cell_type": "code",
   "execution_count": 6,
   "id": "8a891dbc",
   "metadata": {},
   "outputs": [
    {
     "name": "stdout",
     "output_type": "stream",
     "text": [
      "class Queue:\n",
      "    '''Create a queue object with a given maximum size.\n",
      "\n",
      "    If maxsize is <= 0, the queue size is infinite.\n",
      "    '''\n",
      "\n",
      "    def __init__(self, maxsize=0):\n",
      "        self.maxsize = maxsize\n",
      "        self._init(maxsize)\n",
      "\n",
      "        # mutex must be held whenever the queue is mutating.  All methods\n",
      "        # that acquire mutex must release it before returning.  mutex\n",
      "        # is shared between the three conditions, so acquiring and\n",
      "        # releasing the conditions also acquires and releases mutex.\n",
      "        self.mutex = threading.Lock()\n",
      "\n",
      "        # Notify not_empty whenever an item is added to the queue; a\n",
      "        # thread waiting to get is notified then.\n",
      "        self.not_empty = threading.Condition(self.mutex)\n",
      "\n",
      "        # Notify not_full whenever an item is removed from the queue;\n",
      "        # a thread waiting to put is notified then.\n",
      "        self.not_full = threading.Condition(self.mutex)\n",
      "\n",
      "        # Notify all_tasks_done whenever the number of unfinished tasks\n",
      "        # drops to zero; thread waiting to join() is notified to resume\n",
      "        self.all_tasks_done = threading.Condition(self.mutex)\n",
      "        self.unfinished_tasks = 0\n",
      "\n",
      "        # Queue shutdown state\n",
      "        self.is_shutdown = False\n",
      "\n",
      "    def task_done(self):\n",
      "        '''Indicate that a formerly enqueued task is complete.\n",
      "\n",
      "        Used by Queue consumer threads.  For each get() used to fetch a task,\n",
      "        a subsequent call to task_done() tells the queue that the processing\n",
      "        on the task is complete.\n",
      "\n",
      "        If a join() is currently blocking, it will resume when all items\n",
      "        have been processed (meaning that a task_done() call was received\n",
      "        for every item that had been put() into the queue).\n",
      "\n",
      "        shutdown(immediate=True) calls task_done() for each remaining item in\n",
      "        the queue.\n",
      "\n",
      "        Raises a ValueError if called more times than there were items\n",
      "        placed in the queue.\n",
      "        '''\n",
      "        with self.all_tasks_done:\n",
      "            unfinished = self.unfinished_tasks - 1\n",
      "            if unfinished <= 0:\n",
      "                if unfinished < 0:\n",
      "                    raise ValueError('task_done() called too many times')\n",
      "                self.all_tasks_done.notify_all()\n",
      "            self.unfinished_tasks = unfinished\n",
      "\n",
      "    def join(self):\n",
      "        '''Blocks until all items in the Queue have been gotten and processed.\n",
      "\n",
      "        The count of unfinished tasks goes up whenever an item is added to the\n",
      "        queue. The count goes down whenever a consumer thread calls task_done()\n",
      "        to indicate the item was retrieved and all work on it is complete.\n",
      "\n",
      "        When the count of unfinished tasks drops to zero, join() unblocks.\n",
      "        '''\n",
      "        with self.all_tasks_done:\n",
      "            while self.unfinished_tasks:\n",
      "                self.all_tasks_done.wait()\n",
      "\n",
      "    def qsize(self):\n",
      "        '''Return the approximate size of the queue (not reliable!).'''\n",
      "        with self.mutex:\n",
      "            return self._qsize()\n",
      "\n",
      "    def empty(self):\n",
      "        '''Return True if the queue is empty, False otherwise (not reliable!).\n",
      "\n",
      "        This method is likely to be removed at some point.  Use qsize() == 0\n",
      "        as a direct substitute, but be aware that either approach risks a race\n",
      "        condition where a queue can grow before the result of empty() or\n",
      "        qsize() can be used.\n",
      "\n",
      "        To create code that needs to wait for all queued tasks to be\n",
      "        completed, the preferred technique is to use the join() method.\n",
      "        '''\n",
      "        with self.mutex:\n",
      "            return not self._qsize()\n",
      "\n",
      "    def full(self):\n",
      "        '''Return True if the queue is full, False otherwise (not reliable!).\n",
      "\n",
      "        This method is likely to be removed at some point.  Use qsize() >= n\n",
      "        as a direct substitute, but be aware that either approach risks a race\n",
      "        condition where a queue can shrink before the result of full() or\n",
      "        qsize() can be used.\n",
      "        '''\n",
      "        with self.mutex:\n",
      "            return 0 < self.maxsize <= self._qsize()\n",
      "\n",
      "    def put(self, item, block=True, timeout=None):\n",
      "        '''Put an item into the queue.\n",
      "\n",
      "        If optional args 'block' is true and 'timeout' is None (the default),\n",
      "        block if necessary until a free slot is available. If 'timeout' is\n",
      "        a non-negative number, it blocks at most 'timeout' seconds and raises\n",
      "        the Full exception if no free slot was available within that time.\n",
      "        Otherwise ('block' is false), put an item on the queue if a free slot\n",
      "        is immediately available, else raise the Full exception ('timeout'\n",
      "        is ignored in that case).\n",
      "\n",
      "        Raises ShutDown if the queue has been shut down.\n",
      "        '''\n",
      "        with self.not_full:\n",
      "            if self.is_shutdown:\n",
      "                raise ShutDown\n",
      "            if self.maxsize > 0:\n",
      "                if not block:\n",
      "                    if self._qsize() >= self.maxsize:\n",
      "                        raise Full\n",
      "                elif timeout is None:\n",
      "                    while self._qsize() >= self.maxsize:\n",
      "                        self.not_full.wait()\n",
      "                        if self.is_shutdown:\n",
      "                            raise ShutDown\n",
      "                elif timeout < 0:\n",
      "                    raise ValueError(\"'timeout' must be a non-negative number\")\n",
      "                else:\n",
      "                    endtime = time() + timeout\n",
      "                    while self._qsize() >= self.maxsize:\n",
      "                        remaining = endtime - time()\n",
      "                        if remaining <= 0.0:\n",
      "                            raise Full\n",
      "                        self.not_full.wait(remaining)\n",
      "                        if self.is_shutdown:\n",
      "                            raise ShutDown\n",
      "            self._put(item)\n",
      "            self.unfinished_tasks += 1\n",
      "            self.not_empty.notify()\n",
      "\n",
      "    def get(self, block=True, timeout=None):\n",
      "        '''Remove and return an item from the queue.\n",
      "\n",
      "        If optional args 'block' is true and 'timeout' is None (the default),\n",
      "        block if necessary until an item is available. If 'timeout' is\n",
      "        a non-negative number, it blocks at most 'timeout' seconds and raises\n",
      "        the Empty exception if no item was available within that time.\n",
      "        Otherwise ('block' is false), return an item if one is immediately\n",
      "        available, else raise the Empty exception ('timeout' is ignored\n",
      "        in that case).\n",
      "\n",
      "        Raises ShutDown if the queue has been shut down and is empty,\n",
      "        or if the queue has been shut down immediately.\n",
      "        '''\n",
      "        with self.not_empty:\n",
      "            if self.is_shutdown and not self._qsize():\n",
      "                raise ShutDown\n",
      "            if not block:\n",
      "                if not self._qsize():\n",
      "                    raise Empty\n",
      "            elif timeout is None:\n",
      "                while not self._qsize():\n",
      "                    self.not_empty.wait()\n",
      "                    if self.is_shutdown and not self._qsize():\n",
      "                        raise ShutDown\n",
      "            elif timeout < 0:\n",
      "                raise ValueError(\"'timeout' must be a non-negative number\")\n",
      "            else:\n",
      "                endtime = time() + timeout\n",
      "                while not self._qsize():\n",
      "                    remaining = endtime - time()\n",
      "                    if remaining <= 0.0:\n",
      "                        raise Empty\n",
      "                    self.not_empty.wait(remaining)\n",
      "                    if self.is_shutdown and not self._qsize():\n",
      "                        raise ShutDown\n",
      "            item = self._get()\n",
      "            self.not_full.notify()\n",
      "            return item\n",
      "\n",
      "    def put_nowait(self, item):\n",
      "        '''Put an item into the queue without blocking.\n",
      "\n",
      "        Only enqueue the item if a free slot is immediately available.\n",
      "        Otherwise raise the Full exception.\n",
      "        '''\n",
      "        return self.put(item, block=False)\n",
      "\n",
      "    def get_nowait(self):\n",
      "        '''Remove and return an item from the queue without blocking.\n",
      "\n",
      "        Only get an item if one is immediately available. Otherwise\n",
      "        raise the Empty exception.\n",
      "        '''\n",
      "        return self.get(block=False)\n",
      "\n",
      "    def shutdown(self, immediate=False):\n",
      "        '''Shut-down the queue, making queue gets and puts raise ShutDown.\n",
      "\n",
      "        By default, gets will only raise once the queue is empty. Set\n",
      "        'immediate' to True to make gets raise immediately instead.\n",
      "\n",
      "        All blocked callers of put() and get() will be unblocked. If\n",
      "        'immediate', a task is marked as done for each item remaining in\n",
      "        the queue, which may unblock callers of join().\n",
      "        '''\n",
      "        with self.mutex:\n",
      "            self.is_shutdown = True\n",
      "            if immediate:\n",
      "                while self._qsize():\n",
      "                    self._get()\n",
      "                    if self.unfinished_tasks > 0:\n",
      "                        self.unfinished_tasks -= 1\n",
      "                # release all blocked threads in `join()`\n",
      "                self.all_tasks_done.notify_all()\n",
      "            # All getters need to re-check queue-empty to raise ShutDown\n",
      "            self.not_empty.notify_all()\n",
      "            self.not_full.notify_all()\n",
      "\n",
      "    # Override these methods to implement other queue organizations\n",
      "    # (e.g. stack or priority queue).\n",
      "    # These will only be called with appropriate locks held\n",
      "\n",
      "    # Initialize the queue representation\n",
      "    def _init(self, maxsize):\n",
      "        self.queue = deque()\n",
      "\n",
      "    def _qsize(self):\n",
      "        return len(self.queue)\n",
      "\n",
      "    # Put a new item in the queue\n",
      "    def _put(self, item):\n",
      "        self.queue.append(item)\n",
      "\n",
      "    # Get an item from the queue\n",
      "    def _get(self):\n",
      "        return self.queue.popleft()\n",
      "\n",
      "    __class_getitem__ = classmethod(types.GenericAlias)\n",
      "\n"
     ]
    }
   ],
   "source": [
    "import inspect\n",
    "from queue import Queue\n",
    "\n",
    "print(inspect.getsource(Queue))"
   ]
  },
  {
   "cell_type": "markdown",
   "id": "7c5a5f0a",
   "metadata": {},
   "source": [
    "# Validador de Agendamiento de Reuniones (Calendar Booking System)\n",
    "\n",
    "## 📝 Descripción:\n",
    "Construirás un sistema de agendamiento de reuniones que:\n",
    "\n",
    "    - Permita a usuarios crear reuniones con fecha, hora de inicio y duración.\n",
    "\n",
    "    - Valide que no haya solapamientos entre reuniones existentes.\n",
    "\n",
    "    - Permita consultar las reuniones existentes de un día.\n",
    "\n",
    "    - Permita cancelar reuniones.\n",
    "\n",
    "## 🎯 Requisitos funcionales:\n",
    "    \n",
    "    - Crear reunión (schedule_meeting)\n",
    "\n",
    "    - Parámetros: start_time, duration, description\n",
    "\n",
    "    - Valida que no se cruce con ninguna otra existente.\n",
    "\n",
    "    - Listar reuniones (list_meetings(date))\n",
    "\n",
    "    - Devuelve lista ordenada por hora.\n",
    "\n",
    "    - Cancelar reunión (cancel_meeting(id))\n",
    "\n",
    "## 💡 Consideraciones técnicas:\n",
    "\n",
    "    - Usa datetime para manejar fechas y horas.\n",
    "\n",
    "    - Las reuniones duran una cantidad de minutos (duration).\n",
    "\n",
    "    - Valida que una reunión no se cruce en el tiempo con otra."
   ]
  },
  {
   "cell_type": "code",
   "execution_count": 1,
   "id": "7aa18938",
   "metadata": {},
   "outputs": [],
   "source": [
    "from datetime import datetime, timedelta\n",
    "from typing import List\n",
    "import uuid\n",
    "\n",
    "class Meeting:\n",
    "    def __init__(self, start_time: datetime, duration: int, description: str):\n",
    "        self.id = str(uuid.uuid4())\n",
    "        self.start_time = start_time\n",
    "        self.end_time = start_time + timedelta(minutes=duration)\n",
    "        self.duration = duration\n",
    "        self.description = description\n",
    "\n",
    "    def __str__(self):\n",
    "        return f\"{self.description} ({self.start_time.strftime('%H:%M')} - {self.end_time.strftime('%H:%M')})\"\n",
    "\n",
    "class MeetingScheduler:\n",
    "    def __init__(self):\n",
    "        self.meetings: List[Meeting] = []\n",
    "\n",
    "    def schedule_meeting(self, start: str, duration: int, description: str):\n",
    "        start_dt = datetime.strptime(start, \"%Y-%m-%d %H:%M\")\n",
    "        new_meeting = Meeting(start_dt, duration, description)\n",
    "\n",
    "        for meeting in self.meetings:\n",
    "            if self._overlaps(meeting, new_meeting):\n",
    "                raise ValueError(\"La nueva reunión se cruza con una existente.\")\n",
    "\n",
    "        self.meetings.append(new_meeting)\n",
    "        print(f\"Reunión programada: {new_meeting}\")\n",
    "\n",
    "    def _overlaps(self, m1: Meeting, m2: Meeting) -> bool:\n",
    "        return m1.start_time < m2.end_time and m2.start_time < m1.end_time\n",
    "\n",
    "    def list_meetings(self, date: str):\n",
    "        date_dt = datetime.strptime(date, \"%Y-%m-%d\").date()\n",
    "        filtered = [m for m in self.meetings if m.start_time.date() == date_dt]\n",
    "        for m in sorted(filtered, key=lambda x: x.start_time):\n",
    "            print(f\"[{m.id[:6]}] {m}\")\n",
    "\n",
    "    def cancel_meeting(self, meeting_id: str):\n",
    "        before = len(self.meetings)\n",
    "        self.meetings = [m for m in self.meetings if m.id != meeting_id]\n",
    "        after = len(self.meetings)\n",
    "        if before == after:\n",
    "            print(\"ID no encontrado.\")\n",
    "        else:\n",
    "            print(\"Reunión cancelada.\")"
   ]
  },
  {
   "cell_type": "code",
   "execution_count": 3,
   "id": "471541c0",
   "metadata": {},
   "outputs": [
    {
     "name": "stdout",
     "output_type": "stream",
     "text": [
      "Reunión programada: Reunión con cliente (09:00 - 10:00)\n",
      "Reunión programada: Planificación interna (10:30 - 11:00)\n"
     ]
    }
   ],
   "source": [
    "calendar = MeetingScheduler()\n",
    "\n",
    "calendar.schedule_meeting(\"2025-07-17 09:00\", 60, \"Reunión con cliente\")\n",
    "calendar.schedule_meeting(\"2025-07-17 10:30\", 30, \"Planificación interna\")"
   ]
  },
  {
   "cell_type": "code",
   "execution_count": 5,
   "id": "1dfe2fa6",
   "metadata": {},
   "outputs": [
    {
     "name": "stdout",
     "output_type": "stream",
     "text": [
      "[57eb5e] Reunión con cliente (09:00 - 10:00)\n",
      "[90a3e3] Planificación interna (10:30 - 11:00)\n"
     ]
    }
   ],
   "source": [
    "calendar.list_meetings(\"2025-07-17\")\n",
    "# → Reunión con cliente (9:00 - 10:00), Planificación interna (10:30 - 11:00)"
   ]
  },
  {
   "cell_type": "code",
   "execution_count": 6,
   "id": "ec694ee6",
   "metadata": {},
   "outputs": [
    {
     "ename": "ValueError",
     "evalue": "La nueva reunión se cruza con una existente.",
     "output_type": "error",
     "traceback": [
      "\u001b[31m---------------------------------------------------------------------------\u001b[39m",
      "\u001b[31mValueError\u001b[39m                                Traceback (most recent call last)",
      "\u001b[36mCell\u001b[39m\u001b[36m \u001b[39m\u001b[32mIn[6]\u001b[39m\u001b[32m, line 1\u001b[39m\n\u001b[32m----> \u001b[39m\u001b[32m1\u001b[39m \u001b[43mcalendar\u001b[49m\u001b[43m.\u001b[49m\u001b[43mschedule_meeting\u001b[49m\u001b[43m(\u001b[49m\u001b[33;43m\"\u001b[39;49m\u001b[33;43m2025-07-17 09:30\u001b[39;49m\u001b[33;43m\"\u001b[39;49m\u001b[43m,\u001b[49m\u001b[43m \u001b[49m\u001b[32;43m30\u001b[39;49m\u001b[43m,\u001b[49m\u001b[43m \u001b[49m\u001b[33;43m\"\u001b[39;49m\u001b[33;43mSolapada\u001b[39;49m\u001b[33;43m\"\u001b[39;49m\u001b[43m)\u001b[49m  \n\u001b[32m      2\u001b[39m \u001b[38;5;66;03m# → Error: se cruza con otra\u001b[39;00m\n",
      "\u001b[36mCell\u001b[39m\u001b[36m \u001b[39m\u001b[32mIn[1]\u001b[39m\u001b[32m, line 26\u001b[39m, in \u001b[36mMeetingScheduler.schedule_meeting\u001b[39m\u001b[34m(self, start, duration, description)\u001b[39m\n\u001b[32m     24\u001b[39m \u001b[38;5;28;01mfor\u001b[39;00m meeting \u001b[38;5;129;01min\u001b[39;00m \u001b[38;5;28mself\u001b[39m.meetings:\n\u001b[32m     25\u001b[39m     \u001b[38;5;28;01mif\u001b[39;00m \u001b[38;5;28mself\u001b[39m._overlaps(meeting, new_meeting):\n\u001b[32m---> \u001b[39m\u001b[32m26\u001b[39m         \u001b[38;5;28;01mraise\u001b[39;00m \u001b[38;5;167;01mValueError\u001b[39;00m(\u001b[33m\"\u001b[39m\u001b[33mLa nueva reunión se cruza con una existente.\u001b[39m\u001b[33m\"\u001b[39m)\n\u001b[32m     28\u001b[39m \u001b[38;5;28mself\u001b[39m.meetings.append(new_meeting)\n\u001b[32m     29\u001b[39m \u001b[38;5;28mprint\u001b[39m(\u001b[33mf\u001b[39m\u001b[33m\"\u001b[39m\u001b[33mReunión programada: \u001b[39m\u001b[38;5;132;01m{\u001b[39;00mnew_meeting\u001b[38;5;132;01m}\u001b[39;00m\u001b[33m\"\u001b[39m)\n",
      "\u001b[31mValueError\u001b[39m: La nueva reunión se cruza con una existente."
     ]
    }
   ],
   "source": [
    "calendar.schedule_meeting(\"2025-07-17 09:30\", 30, \"Solapada\")  \n",
    "# → Error: se cruza con otra"
   ]
  },
  {
   "cell_type": "markdown",
   "id": "d70a25de",
   "metadata": {},
   "source": [
    "# Diseña un sistema de detección de tasa de peticiones (Rate Limiter)\n",
    "\n",
    "## 💼 Descripción:\n",
    "Vas a construir un Rate Limiter, es decir, un componente que impide que un usuario (o IP, o servicio) haga demasiadas peticiones en un corto periodo de tiempo.\n",
    "\n",
    "    - Este patrón es usado en producción por:\n",
    "\n",
    "    - APIs públicas (OpenAI, Twitter, GitHub)\n",
    "\n",
    "    - Servicios que protegen de abuso (login, spam, etc.)\n",
    "\n",
    "## 🎯 Requisitos:\n",
    "Solo se deben permitir N peticiones por usuario por ventana de tiempo T (por ejemplo, 5 peticiones cada 10 segundos).\n",
    "\n",
    "    - Rechaza peticiones que excedan ese límite.\n",
    "\n",
    "    - Opcional: Implementa variantes como sliding window o leaky bucket si quieres ir más lejos."
   ]
  },
  {
   "cell_type": "code",
   "execution_count": 1,
   "id": "1d4197a4",
   "metadata": {},
   "outputs": [],
   "source": [
    "from collections import deque\n",
    "from typing import Dict\n",
    "\n",
    "class RateLimiter:\n",
    "    def __init__(self, max_requests: int, window_seconds: int):\n",
    "        self.max_requests = max_requests\n",
    "        self.window_seconds = window_seconds\n",
    "        self.user_requests: Dict[str, deque] = {}\n",
    "\n",
    "    def allow_request(self, user_id: str, current_time: int) -> bool:\n",
    "        \"\"\"\n",
    "        Registra y decide si la petición puede hacerse en el timestamp actual.\n",
    "        \"\"\"\n",
    "        if user_id not in self.user_requests:\n",
    "            self.user_requests[user_id] = deque()\n",
    "\n",
    "        requests = self.user_requests[user_id]\n",
    "\n",
    "        # Elimina peticiones fuera de la ventana de tiempo\n",
    "        while requests and current_time - requests[0] >= self.window_seconds:\n",
    "            requests.popleft()\n",
    "\n",
    "        if len(requests) < self.max_requests:\n",
    "            requests.append(current_time)\n",
    "            return True\n",
    "        return False"
   ]
  },
  {
   "cell_type": "code",
   "execution_count": 4,
   "id": "e87c9beb",
   "metadata": {},
   "outputs": [
    {
     "name": "stdout",
     "output_type": "stream",
     "text": [
      "True\n"
     ]
    }
   ],
   "source": [
    "limiter = RateLimiter(max_requests=3, window_seconds=10)\n",
    "\n",
    "#print(limiter.allow_request(\"user1\", 1))   # True\n",
    "#print(limiter.allow_request(\"user1\", 2))   # True\n",
    "#print(limiter.allow_request(\"user1\", 3))   # True\n",
    "#print(limiter.allow_request(\"user1\", 4))   # False (excede el límite)\n",
    "print(limiter.allow_request(\"user1\", 12))  # True (ventana reseteada)\n"
   ]
  },
  {
   "cell_type": "markdown",
   "id": "55fd2b04",
   "metadata": {},
   "source": [
    "## Sistema de Clasificación de Productos con Búsqueda y Filtros Eficientes\n",
    "\n",
    "### 📝 Descripción:\n",
    "Vas a construir un motor de búsqueda y clasificación de productos (como los usados en Alibaba, JD.com, Pinduoduo), que:\n",
    "\n",
    "1. Permite registrar productos con:\n",
    "\n",
    "    - id, nombre, precio, categoría, rating, stock\n",
    "\n",
    "2. Permite realizar búsquedas filtradas por:\n",
    "\n",
    "    - Categoría\n",
    "\n",
    "    - Precio mínimo/máximo\n",
    "\n",
    "    - Rating mínimo\n",
    "\n",
    "    - Palabras clave en el nombre\n",
    "\n",
    "3. Permite ordenar los resultados por:\n",
    "\n",
    "    - Precio (asc o desc)\n",
    "\n",
    "    - Rating\n",
    "\n",
    "    - Relevancia (match en nombre)"
   ]
  },
  {
   "cell_type": "code",
   "execution_count": 1,
   "id": "690f7883",
   "metadata": {},
   "outputs": [],
   "source": [
    "from typing import List, Optional\n",
    "\n",
    "class Product:\n",
    "    def __init__(self, pid: int, name: str, price: float, category: str, rating: float, stock: int):\n",
    "        self.pid = pid\n",
    "        self.name = name\n",
    "        self.price = price\n",
    "        self.category = category\n",
    "        self.rating = rating\n",
    "        self.stock = stock\n",
    "\n",
    "    def __repr__(self):\n",
    "        return f\"{self.name} - ${self.price} - ⭐{self.rating}\"\n",
    "\n",
    "class ProductSearchEngine:\n",
    "    def __init__(self):\n",
    "        self.products: List[Product] = []\n",
    "\n",
    "    def add_product(self, pid: int, name: str, price: float, category: str, rating: float, stock: int):\n",
    "        self.products.append(Product(pid, name, price, category, rating, stock))\n",
    "\n",
    "    def search(self,\n",
    "               category: Optional[str] = None,\n",
    "               min_price: Optional[float] = None,\n",
    "               max_price: Optional[float] = None,\n",
    "               min_rating: Optional[float] = None,\n",
    "               keyword: Optional[str] = None,\n",
    "               sort_by: Optional[str] = None,\n",
    "               ascending: bool = False) -> List[Product]:\n",
    "\n",
    "        results = self.products\n",
    "\n",
    "        if category:\n",
    "            results = [p for p in results if p.category.lower() == category.lower()]\n",
    "        if min_price is not None:\n",
    "            results = [p for p in results if p.price >= min_price]\n",
    "        if max_price is not None:\n",
    "            results = [p for p in results if p.price <= max_price]\n",
    "        if min_rating is not None:\n",
    "            results = [p for p in results if p.rating >= min_rating]\n",
    "        if keyword:\n",
    "            results = [p for p in results if keyword.lower() in p.name.lower()]\n",
    "\n",
    "        if sort_by == \"price\":\n",
    "            results.sort(key=lambda p: p.price, reverse=not ascending)\n",
    "        elif sort_by == \"rating\":\n",
    "            results.sort(key=lambda p: p.rating, reverse=not ascending)\n",
    "        elif sort_by == \"name\":\n",
    "            results.sort(key=lambda p: p.name)\n",
    "\n",
    "        return results"
   ]
  },
  {
   "cell_type": "code",
   "execution_count": 2,
   "id": "343f49fa",
   "metadata": {},
   "outputs": [],
   "source": [
    "store = ProductSearchEngine()\n",
    "\n",
    "store.add_product(1, \"Smartphone Xiaomi Redmi\", 799, \"Electrónica\", 4.5, 10)\n",
    "store.add_product(2, \"Xiaomi Band 7\", 199, \"Electrónica\", 4.8, 5)\n",
    "store.add_product(3, \"Lenovo Laptop IdeaPad\", 1200, \"Computación\", 4.3, 7)\n",
    "\n",
    "result = store.search(category=\"Electrónica\", min_price=100, max_price=800, sort_by=\"rating\")\n",
    "\n",
    "# → Devuelve productos 2 y 1 ordenados por rating descendente"
   ]
  },
  {
   "cell_type": "code",
   "execution_count": 3,
   "id": "48bcbeed",
   "metadata": {},
   "outputs": [
    {
     "data": {
      "text/plain": [
       "[Xiaomi Band 7 - $199 - ⭐4.8, Smartphone Xiaomi Redmi - $799 - ⭐4.5]"
      ]
     },
     "execution_count": 3,
     "metadata": {},
     "output_type": "execute_result"
    }
   ],
   "source": [
    "result"
   ]
  },
  {
   "cell_type": "markdown",
   "id": "07c00bf3",
   "metadata": {},
   "source": [
    "## Sistema de Reservas de Salas con Conflicto Mínimo (Smart Room Allocator)\n",
    "\n",
    "### 📝 Descripción:\n",
    "Vas a construir un sistema que administre reservas de salas en una empresa. Pero con una diferencia clave:\n",
    "Si no hay sala disponible en el horario solicitado, el sistema debe encontrar la sala con el menor conflicto posible (tiempo libre más cercano) o sugerir una alternativa.\n",
    "\n",
    "Este ejercicio está inspirado en los sistemas de calendarización de Yandex o Tinkoff.\n",
    "\n",
    "### 🎯 Requisitos funcionales:\n",
    "1. Puedes registrar salas (add_room(nombre)).\n",
    "\n",
    "2. Puedes hacer una reserva (book_room(nombre_sala, fecha, hora_inicio, duración_minutos)).\n",
    "\n",
    "3. Si no hay disponibilidad exacta:\n",
    "\n",
    "    - Sugerir la sala con el menor tiempo de conflicto.\n",
    "\n",
    "    - O decir que no hay forma de agendar hoy.\n",
    "\n",
    "4. Puedes listar reservas por sala y fecha."
   ]
  },
  {
   "cell_type": "code",
   "execution_count": 4,
   "id": "5cf4f179",
   "metadata": {},
   "outputs": [],
   "source": [
    "from datetime import datetime, timedelta\n",
    "from typing import List, Dict\n",
    "\n",
    "class Reservation:\n",
    "    def __init__(self, start: datetime, duration: int):\n",
    "        self.start = start\n",
    "        self.end = start + timedelta(minutes=duration)\n",
    "\n",
    "    def overlaps(self, other: 'Reservation') -> bool:\n",
    "        return self.start < other.end and other.start < self.end\n",
    "\n",
    "    def __str__(self):\n",
    "        return f\"{self.start.strftime('%H:%M')} - {self.end.strftime('%H:%M')}\"\n",
    "\n",
    "class RoomScheduler:\n",
    "    def __init__(self):\n",
    "        self.rooms: Dict[str, List[Reservation]] = {}\n",
    "\n",
    "    def add_room(self, room_name: str):\n",
    "        if room_name in self.rooms:\n",
    "            print(\"La sala ya existe.\")\n",
    "        else:\n",
    "            self.rooms[room_name] = []\n",
    "\n",
    "    def book_room(self, room_name: str, date: str, time: str, duration: int):\n",
    "        if room_name not in self.rooms:\n",
    "            print(f\"Sala {room_name} no registrada.\")\n",
    "            return\n",
    "\n",
    "        start = datetime.strptime(f\"{date} {time}\", \"%Y-%m-%d %H:%M\")\n",
    "        new_reservation = Reservation(start, duration)\n",
    "\n",
    "        for res in self.rooms[room_name]:\n",
    "            if res.overlaps(new_reservation):\n",
    "                print(f\"⚠️ Conflicto en {room_name} a las {res}\")\n",
    "                self.suggest_alternative(room_name, date, duration)\n",
    "                return\n",
    "\n",
    "        self.rooms[room_name].append(new_reservation)\n",
    "        print(f\"✅ Reserva confirmada en {room_name} de {new_reservation}\")\n",
    "\n",
    "    def suggest_alternative(self, room_name: str, date: str, duration: int):\n",
    "        print(\"🔍 Buscando alternativa...\")\n",
    "        for alt_room, reservations in self.rooms.items():\n",
    "            if alt_room == room_name:\n",
    "                continue\n",
    "            start_time = datetime.strptime(f\"{date} 08:00\", \"%Y-%m-%d %H:%M\")\n",
    "            end_time = datetime.strptime(f\"{date} 18:00\", \"%Y-%m-%d %H:%M\")\n",
    "\n",
    "            while start_time + timedelta(minutes=duration) <= end_time:\n",
    "                trial = Reservation(start_time, duration)\n",
    "                if all(not r.overlaps(trial) for r in reservations):\n",
    "                    print(f\"💡 Alternativa: reservar {alt_room} a las {start_time.strftime('%H:%M')}\")\n",
    "                    return\n",
    "                start_time += timedelta(minutes=15)\n",
    "        print(\"❌ No hay alternativa disponible hoy.\")\n",
    "\n",
    "    def list_reservations(self, room_name: str, date: str):\n",
    "        print(f\"📋 Reservas para {room_name} en {date}:\")\n",
    "        for r in sorted(self.rooms.get(room_name, []), key=lambda x: x.start):\n",
    "            if r.start.strftime(\"%Y-%m-%d\") == date:\n",
    "                print(f\" - {r}\")"
   ]
  },
  {
   "cell_type": "code",
   "execution_count": 5,
   "id": "a72a7d7e",
   "metadata": {},
   "outputs": [
    {
     "name": "stdout",
     "output_type": "stream",
     "text": [
      "✅ Reserva confirmada en Sala A de 09:00 - 10:00\n",
      "✅ Reserva confirmada en Sala A de 10:00 - 10:30\n",
      "⚠️ Conflicto en Sala A a las 09:00 - 10:00\n",
      "🔍 Buscando alternativa...\n",
      "💡 Alternativa: reservar Sala B a las 08:00\n",
      "📋 Reservas para Sala A en 2025-07-17:\n",
      " - 09:00 - 10:00\n",
      " - 10:00 - 10:30\n"
     ]
    }
   ],
   "source": [
    "scheduler = RoomScheduler()\n",
    "scheduler.add_room(\"Sala A\")\n",
    "scheduler.add_room(\"Sala B\")\n",
    "\n",
    "scheduler.book_room(\"Sala A\", \"2025-07-17\", \"09:00\", 60)\n",
    "scheduler.book_room(\"Sala A\", \"2025-07-17\", \"10:00\", 30)\n",
    "\n",
    "# Intento hacer reserva que se cruza\n",
    "scheduler.book_room(\"Sala A\", \"2025-07-17\", \"09:30\", 30)\n",
    "# → Sugerencia: usar Sala B o mover a 10:30\n",
    "\n",
    "scheduler.list_reservations(\"Sala A\", \"2025-07-17\")"
   ]
  },
  {
   "cell_type": "markdown",
   "id": "80f8f4ef",
   "metadata": {},
   "source": [
    "## Simulador de Tienda de Café\n",
    "📝 Descripción:\n",
    "Vas a crear un programa que simule una tienda de café. El sistema debe:\n",
    "\n",
    "Mostrar un menú con productos y precios.\n",
    "\n",
    "Permitir al usuario seleccionar productos y cantidades.\n",
    "\n",
    "Calcular el total de la compra.\n",
    "\n",
    "Permitir pagar con diferentes billetes/monedas y dar cambio.\n",
    "\n",
    "Mostrar un recibo final.\n"
   ]
  },
  {
   "cell_type": "code",
   "execution_count": 1,
   "id": "3d96e84b",
   "metadata": {},
   "outputs": [
    {
     "name": "stdout",
     "output_type": "stream",
     "text": [
      "Bienvenido a Café Python ☕\n",
      "1. Espresso - $3\n",
      "2. Cappuccino - $4\n",
      "3. Latte - $5\n"
     ]
    },
    {
     "ename": "ValueError",
     "evalue": "invalid literal for int() with base 10: ''",
     "output_type": "error",
     "traceback": [
      "\u001b[31m---------------------------------------------------------------------------\u001b[39m",
      "\u001b[31mValueError\u001b[39m                                Traceback (most recent call last)",
      "\u001b[36mCell\u001b[39m\u001b[36m \u001b[39m\u001b[32mIn[1]\u001b[39m\u001b[32m, line 53\u001b[39m\n\u001b[32m     51\u001b[39m \u001b[38;5;66;03m# Ejecutar\u001b[39;00m\n\u001b[32m     52\u001b[39m shop = CoffeeShop()\n\u001b[32m---> \u001b[39m\u001b[32m53\u001b[39m \u001b[43mshop\u001b[49m\u001b[43m.\u001b[49m\u001b[43mrun\u001b[49m\u001b[43m(\u001b[49m\u001b[43m)\u001b[49m\n",
      "\u001b[36mCell\u001b[39m\u001b[36m \u001b[39m\u001b[32mIn[1]\u001b[39m\u001b[32m, line 47\u001b[39m, in \u001b[36mCoffeeShop.run\u001b[39m\u001b[34m(self)\u001b[39m\n\u001b[32m     45\u001b[39m \u001b[38;5;28mself\u001b[39m.take_order()\n\u001b[32m     46\u001b[39m total = \u001b[38;5;28mself\u001b[39m.calculate_total()\n\u001b[32m---> \u001b[39m\u001b[32m47\u001b[39m \u001b[38;5;28;43mself\u001b[39;49m\u001b[43m.\u001b[49m\u001b[43mprocess_payment\u001b[49m\u001b[43m(\u001b[49m\u001b[43mtotal\u001b[49m\u001b[43m)\u001b[49m\n\u001b[32m     48\u001b[39m \u001b[38;5;28mself\u001b[39m.print_receipt()\n\u001b[32m     49\u001b[39m \u001b[38;5;28mprint\u001b[39m(\u001b[33m\"\u001b[39m\u001b[33mGracias por su compra.\u001b[39m\u001b[33m\"\u001b[39m)\n",
      "\u001b[36mCell\u001b[39m\u001b[36m \u001b[39m\u001b[32mIn[1]\u001b[39m\u001b[32m, line 30\u001b[39m, in \u001b[36mCoffeeShop.process_payment\u001b[39m\u001b[34m(self, total)\u001b[39m\n\u001b[32m     29\u001b[39m \u001b[38;5;28;01mdef\u001b[39;00m\u001b[38;5;250m \u001b[39m\u001b[34mprocess_payment\u001b[39m(\u001b[38;5;28mself\u001b[39m, total):\n\u001b[32m---> \u001b[39m\u001b[32m30\u001b[39m     paid = \u001b[38;5;28;43mint\u001b[39;49m\u001b[43m(\u001b[49m\u001b[38;5;28;43minput\u001b[39;49m\u001b[43m(\u001b[49m\u001b[33;43mf\u001b[39;49m\u001b[33;43m\"\u001b[39;49m\u001b[33;43mTotal a pagar: $\u001b[39;49m\u001b[38;5;132;43;01m{\u001b[39;49;00m\u001b[43mtotal\u001b[49m\u001b[38;5;132;43;01m}\u001b[39;49;00m\u001b[38;5;130;43;01m\\n\u001b[39;49;00m\u001b[33;43mIngrese pago: $\u001b[39;49m\u001b[33;43m\"\u001b[39;49m\u001b[43m)\u001b[49m\u001b[43m)\u001b[49m\n\u001b[32m     31\u001b[39m     \u001b[38;5;28;01mif\u001b[39;00m paid < total:\n\u001b[32m     32\u001b[39m         \u001b[38;5;28mprint\u001b[39m(\u001b[33m\"\u001b[39m\u001b[33mPago insuficiente.\u001b[39m\u001b[33m\"\u001b[39m)\n",
      "\u001b[31mValueError\u001b[39m: invalid literal for int() with base 10: ''"
     ]
    }
   ],
   "source": [
    "class CoffeeShop:\n",
    "    def __init__(self):\n",
    "        self.menu = {\n",
    "            1: (\"Espresso\", 3),\n",
    "            2: (\"Cappuccino\", 4),\n",
    "            3: (\"Latte\", 5)\n",
    "        }\n",
    "        self.order = []\n",
    "\n",
    "    def show_menu(self):\n",
    "        print(\"Bienvenido a Café Python ☕\")\n",
    "        for key, (name, price) in self.menu.items():\n",
    "            print(f\"{key}. {name} - ${price}\")\n",
    "\n",
    "    def take_order(self):\n",
    "        while True:\n",
    "            choice = int(input(\"Seleccione un producto (1-3) o 0 para finalizar: \"))\n",
    "            if choice == 0:\n",
    "                break\n",
    "            if choice not in self.menu:\n",
    "                print(\"Opción inválida.\")\n",
    "                continue\n",
    "            qty = int(input(\"Cantidad: \"))\n",
    "            self.order.append((choice, qty))\n",
    "\n",
    "    def calculate_total(self):\n",
    "        return sum(self.menu[choice][1] * qty for choice, qty in self.order)\n",
    "\n",
    "    def process_payment(self, total):\n",
    "        paid = int(input(f\"Total a pagar: ${total}\\nIngrese pago: $\"))\n",
    "        if paid < total:\n",
    "            print(\"Pago insuficiente.\")\n",
    "            return self.process_payment(total)\n",
    "        print(f\"Cambio: ${paid - total}\")\n",
    "\n",
    "    def print_receipt(self):\n",
    "        print(\"\\n--- Recibo ---\")\n",
    "        for choice, qty in self.order:\n",
    "            name, price = self.menu[choice]\n",
    "            print(f\"{name} x{qty} = ${price * qty}\")\n",
    "        print(\"--------------\")\n",
    "\n",
    "    def run(self):\n",
    "        self.show_menu()\n",
    "        self.take_order()\n",
    "        total = self.calculate_total()\n",
    "        self.process_payment(total)\n",
    "        self.print_receipt()\n",
    "        print(\"Gracias por su compra.\")\n",
    "\n",
    "# Ejecutar\n",
    "shop = CoffeeShop()\n",
    "shop.run()"
   ]
  },
  {
   "cell_type": "code",
   "execution_count": null,
   "id": "82272697",
   "metadata": {},
   "outputs": [],
   "source": []
  },
  {
   "cell_type": "code",
   "execution_count": null,
   "id": "d8653ffc",
   "metadata": {},
   "outputs": [],
   "source": []
  },
  {
   "cell_type": "code",
   "execution_count": null,
   "id": "c4e8ce5a",
   "metadata": {},
   "outputs": [],
   "source": []
  },
  {
   "cell_type": "markdown",
   "id": "9f6f79ab",
   "metadata": {},
   "source": [
    "Ejercicios básicos:\n",
    "- Función para saludar: Crea una función que reciba un nombre como parámetro y devuelva un saludo personalizado.\n",
    "- Función para calcular el área de un círculo: Recibe el radio como parámetro y devuelve el área.\n",
    "- Función para verificar si un número es par: Recibe un número como parámetro y devuelve True si es par, False en caso contrario.\n",
    "- Función para convertir grados Celsius a Fahrenheit: Recibe la temperatura en Celsius y devuelve la temperatura en Fahrenheit.\n",
    "- Función para encontrar el valor máximo de una lista: Recibe una lista de números como parámetro y devuelve el valor máximo. \n",
    "\n",
    "Ejercicios con más lógica:\n",
    "- Función para calcular el factorial de un número: Recibe un número entero positivo y devuelve su factorial. \n",
    "- Función para verificar si una cadena es un palíndromo: Recibe una cadena como parámetro y devuelve True si es un palíndromo, False en caso contrario. \n",
    "- Función para generar una lista de números primos hasta un límite: Recibe un límite como parámetro y devuelve una lista con los números primos encontrados.\n",
    "- Función para calcular el mínimo común múltiplo (MCM) de dos números: Recibe dos números como parámetros y devuelve su MCM. \n",
    "- Función para calcular el salario de un empleado con horas extras: Recibe las horas trabajadas y la tarifa por hora como parámetros. Si las horas trabajadas superan las 40, calcula las horas extras con una tarifa del 150%. \n",
    "\n",
    "Ejercicios con listas y diccionarios: \n",
    "- Función para calcular la media de una lista de números: Recibe una lista de números como parámetro y devuelve su media.\n",
    "- Función para contar la frecuencia de cada elemento en una lista: Recibe una lista como parámetro y devuelve un diccionario con la frecuencia de cada elemento.\n",
    "- Función para encontrar la intersección de dos listas: Recibe dos listas como parámetros y devuelve una nueva lista con los elementos comunes.\n",
    "- Función para ordenar una lista de números de forma ascendente: Recibe una lista como parámetro y devuelve la lista ordenada. \n",
    "\n",
    "Ejercicios con recursividad:\n",
    "1. Función recursiva para calcular la secuencia de Fibonacci:\n",
    "Recibe un número como parámetro y devuelve el término correspondiente de la secuencia de Fibonacci.\n",
    "2. Función recursiva para buscar un elemento en una lista:\n",
    "Recibe una lista y un elemento como parámetros y devuelve True si el elemento se encuentra en la lista, False en caso contrario. \n",
    "\n",
    "Consejos para resolver los ejercicios:\n",
    "\n",
    "Comienza con la estructura básica:\n",
    "\n",
    "Usa la palabra clave def para definir la función, seguida del nombre de la función y los parámetros entre paréntesis.\n",
    "\n",
    "Define el cuerpo de la función:\n",
    "\n",
    "Dentro de la función, escribe el código que realizará la tarea deseada.\n",
    "\n",
    "Utiliza la palabra clave return para devolver el resultado:\n",
    "\n",
    "Si la función debe devolver un valor, usa return seguido del valor a devolver.\n",
    "\n",
    "Prueba la función con diferentes entradas:\n",
    "\n",
    "Llama a la función con diferentes valores para asegurarte de que funciona correctamente.\n",
    "\n",
    "Divide los problemas complejos en partes más pequeñas:\n",
    "\n",
    "Si el problema es complejo, puedes dividirlo en varias funciones más pequeñas y luego combinarlas. \n",
    "\n",
    "Recuerda que la práctica es la clave para dominar la creación de funciones en Python. ¡Empieza con los ejercicios más sencillos y ve avanzando gradualmente! "
   ]
  },
  {
   "cell_type": "markdown",
   "id": "a337171c",
   "metadata": {},
   "source": [
    "**Función para saludar**: Crea una función que reciba un nombre como parámetro y devuelva un saludo personalizado."
   ]
  },
  {
   "cell_type": "code",
   "execution_count": null,
   "id": "b33afb8e",
   "metadata": {},
   "outputs": [],
   "source": [
    "def greeting(name:str) -> str:\n",
    "    #name = str(input(\"Escriba el nombre\"))\n",
    "    saludo = f\"Hola {name}\"\n",
    "    return saludo"
   ]
  },
  {
   "cell_type": "code",
   "execution_count": 6,
   "id": "a80a0d8f",
   "metadata": {},
   "outputs": [
    {
     "name": "stdout",
     "output_type": "stream",
     "text": [
      "Hola Randolph\n"
     ]
    }
   ],
   "source": [
    "print(greeting(\"Randolph\"))"
   ]
  },
  {
   "cell_type": "markdown",
   "id": "32b26d4d",
   "metadata": {},
   "source": [
    "**Función para calcular el área de un círculo**: Recibe el radio como parámetro y devuelve el área."
   ]
  },
  {
   "cell_type": "code",
   "execution_count": 5,
   "id": "b6a4c4de",
   "metadata": {},
   "outputs": [],
   "source": [
    "def area(radio:float) -> float:\n",
    "    #radio = float(input(\"Ingrese el radio\"))\n",
    "    area = radio**2\n",
    "    return area"
   ]
  },
  {
   "cell_type": "code",
   "execution_count": 6,
   "id": "a817519d",
   "metadata": {},
   "outputs": [
    {
     "name": "stdout",
     "output_type": "stream",
     "text": [
      "9\n"
     ]
    }
   ],
   "source": [
    "print(area(3))"
   ]
  },
  {
   "cell_type": "markdown",
   "id": "a5b10c05",
   "metadata": {},
   "source": [
    "**Función para verificar si un número es par**: Recibe un número como parámetro y devuelve True si es par, False en caso contrario."
   ]
  },
  {
   "cell_type": "code",
   "execution_count": 7,
   "id": "3c940a14",
   "metadata": {},
   "outputs": [],
   "source": [
    "def paridad(n):\n",
    "    if n%2 == 0 or n==0:\n",
    "        print('el numero es par')\n",
    "    else:\n",
    "        print('el numero es impar')"
   ]
  },
  {
   "cell_type": "code",
   "execution_count": 8,
   "id": "debfb7bf",
   "metadata": {},
   "outputs": [
    {
     "name": "stdout",
     "output_type": "stream",
     "text": [
      "el numero es par\n"
     ]
    }
   ],
   "source": [
    "x = int(input(\"Ingrese su numero\"))\n",
    "paridad(x)"
   ]
  },
  {
   "cell_type": "markdown",
   "id": "64af984d",
   "metadata": {},
   "source": [
    "**Función para verificar si una cadena es un palíndromo**: Recibe una cadena como parámetro y devuelve True si es un palíndromo, False en caso contrario. "
   ]
  },
  {
   "cell_type": "code",
   "execution_count": 9,
   "id": "d98fef0f",
   "metadata": {},
   "outputs": [],
   "source": [
    "def es_palindromo(cadena):\n",
    "  \"\"\"\n",
    "  Verifica si una cadena es un palíndromo.\n",
    "\n",
    "  Args:\n",
    "    cadena: La cadena a verificar.\n",
    "\n",
    "  Returns:\n",
    "    True si la cadena es un palíndromo, False en caso contrario.\n",
    "  \"\"\"\n",
    "  cadena = cadena.lower()\n",
    "  cadena_invertida = cadena[::-1]\n",
    "  return cadena == cadena_invertida"
   ]
  },
  {
   "cell_type": "code",
   "execution_count": 10,
   "id": "ac410ad2",
   "metadata": {},
   "outputs": [
    {
     "name": "stdout",
     "output_type": "stream",
     "text": [
      "\"madam\" es un palíndromo\n",
      "\"hello\" no es un palíndromo\n"
     ]
    }
   ],
   "source": [
    "cadena1 = \"madam\"\n",
    "cadena2 = \"hello\"\n",
    "\n",
    "if es_palindromo(cadena1):\n",
    "  print(f'\"{cadena1}\" es un palíndromo')\n",
    "else:\n",
    "  print(f'\"{cadena1}\" no es un palíndromo')\n",
    "\n",
    "if es_palindromo(cadena2):\n",
    "  print(f'\"{cadena2}\" es un palíndromo')\n",
    "else:\n",
    "  print(f'\"{cadena2}\" no es un palíndromo')"
   ]
  },
  {
   "cell_type": "markdown",
   "id": "6205b84b",
   "metadata": {},
   "source": [
    "**Función para generar una lista de números primos hasta un límite**: Recibe un límite como parámetro y devuelve una lista con los números primos encontrados."
   ]
  },
  {
   "cell_type": "code",
   "execution_count": 1,
   "id": "fbdf3f0f",
   "metadata": {},
   "outputs": [],
   "source": [
    "def generar_primos(limite):\n",
    "    \"\"\"\n",
    "    Genera una lista de números primos hasta un límite dado.\n",
    "\n",
    "    Args:\n",
    "        limite: El límite superior para buscar números primos.\n",
    "\n",
    "    Returns:\n",
    "        Una lista de números primos encontrados.\n",
    "    \"\"\"\n",
    "    primos = []\n",
    "    for num in range(2, limite + 1):\n",
    "        es_primo = True\n",
    "        for i in range(2, int(num**0.5) + 1):\n",
    "            if num % i == 0:\n",
    "                es_primo = False\n",
    "                break\n",
    "        if es_primo:\n",
    "            primos.append(num)\n",
    "    return primos"
   ]
  },
  {
   "cell_type": "code",
   "execution_count": 2,
   "id": "4c67e7fe",
   "metadata": {},
   "outputs": [
    {
     "name": "stdout",
     "output_type": "stream",
     "text": [
      "Números primos hasta 20: [2, 3, 5, 7, 11, 13, 17, 19]\n"
     ]
    }
   ],
   "source": [
    "# Ejemplo de uso:\n",
    "limite_maximo = 20\n",
    "lista_primos = generar_primos(limite_maximo)\n",
    "print(f\"Números primos hasta {limite_maximo}: {lista_primos}\")"
   ]
  },
  {
   "cell_type": "markdown",
   "id": "983d3629",
   "metadata": {},
   "source": [
    "## Diseña un sistema de Autocompletado tipo Google Search\n",
    "## 🧩 Problema\n",
    "Implementa un sistema de autocompletado donde, dada una lista de frases populares y su frecuencia de búsqueda, puedas:\n",
    "\n",
    "Registrar las frases ingresadas por el usuario.\n",
    "\n",
    "Cuando el usuario ingresa un prefijo, el sistema debe sugerir las 3 frases más frecuentes que comiencen con ese prefijo.\n",
    "\n",
    "Si hay empate en frecuencia, se ordenan alfabéticamente.\n",
    "\n",
    "## 📥 Input\n",
    "Lista de frases populares y su frecuencia:\n",
    "Ejemplo:\n",
    "\n",
    "python\n",
    "Copiar\n",
    "Editar\n",
    "\n",
    "sentences = [\"i love you\", \"island\", \"ironman\", \"i love leetcode\"]\n",
    "\n",
    "times = [5, 3, 2, 2]\n",
    "\n",
    "El usuario ingresa letra por letra usando el método input(c):\n",
    "\n",
    "Cada llamada con una letra actualiza las sugerencias.\n",
    "\n",
    "Si se ingresa el carácter '#', la frase hasta ahora escrita se considera nueva entrada (se guarda o actualiza su frecuencia)."
   ]
  },
  {
   "cell_type": "code",
   "execution_count": 1,
   "id": "786f77c9",
   "metadata": {},
   "outputs": [],
   "source": [
    "import heapq\n",
    "from collections import defaultdict\n",
    "\n",
    "class TrieNode:\n",
    "    def __init__(self):\n",
    "        self.children = {}\n",
    "        self.counts = defaultdict(int)\n",
    "        self.is_end = False\n",
    "\n",
    "class AutocompleteSystem:\n",
    "    def __init__(self, sentences, times):\n",
    "        self.root = TrieNode()\n",
    "        self.current_input = \"\"\n",
    "        self.curr_node = self.root\n",
    "        for sentence, time in zip(sentences, times):\n",
    "            self._add(sentence, time)\n",
    "\n",
    "    def _add(self, sentence, count):\n",
    "        node = self.root\n",
    "        for char in sentence:\n",
    "            if char not in node.children:\n",
    "                node.children[char] = TrieNode()\n",
    "            node = node.children[char]\n",
    "            node.counts[sentence] += count\n",
    "        node.is_end = True\n",
    "\n",
    "    def _lookup(self, prefix):\n",
    "        node = self.root\n",
    "        for char in prefix:\n",
    "            if char not in node.children:\n",
    "                return {}\n",
    "            node = node.children[char]\n",
    "        return node.counts\n",
    "\n",
    "    def input(self, c):\n",
    "        if c == \"#\":\n",
    "            self._add(self.current_input, 1)\n",
    "            self.current_input = \"\"\n",
    "            self.curr_node = self.root\n",
    "            return []\n",
    "        self.current_input += c\n",
    "        counts = self._lookup(self.current_input)\n",
    "        heap = [(-freq, sentence) for sentence, freq in counts.items()]\n",
    "        heapq.heapify(heap)\n",
    "        return [heapq.heappop(heap)[1] for _ in range(min(3, len(heap)))]"
   ]
  },
  {
   "cell_type": "code",
   "execution_count": 2,
   "id": "c663ce61",
   "metadata": {},
   "outputs": [
    {
     "name": "stdout",
     "output_type": "stream",
     "text": [
      "['i love you', 'island', 'i love leetcode']\n"
     ]
    }
   ],
   "source": [
    "ac = AutocompleteSystem(\n",
    "    [\"i love you\", \"island\", \"ironman\", \"i love leetcode\"],\n",
    "    [5, 3, 2, 2]\n",
    ")\n",
    "\n",
    "print(ac.input('i'))  # ['i love you', 'i love leetcode', 'island']\n",
    "#print(ac.input(' '))  # ['i love you', 'i love leetcode']\n",
    "#print(ac.input('l'))  # ['i love you', 'i love leetcode']\n",
    "#print(ac.input('o'))  # ['i love you']\n",
    "#print(ac.input('#'))  # registra \"i lo\"\n"
   ]
  },
  {
   "cell_type": "markdown",
   "id": "f5ad9387",
   "metadata": {},
   "source": [
    "**Función para encontrar el valor máximo de una lista**: Recibe una lista de números como parámetro y devuelve el valor máximo. "
   ]
  },
  {
   "cell_type": "code",
   "execution_count": 1,
   "id": "8e6e4a14",
   "metadata": {},
   "outputs": [],
   "source": [
    "def encontrar_maximo(lista):\n",
    "  \"\"\"\n",
    "  Encuentra el valor máximo en una lista de números.\n",
    "\n",
    "  Args:\n",
    "    lista: Una lista de números.\n",
    "\n",
    "  Returns:\n",
    "    El valor máximo de la lista.\n",
    "  \"\"\"\n",
    "  return max(lista)\n"
   ]
  },
  {
   "cell_type": "code",
   "execution_count": 2,
   "id": "d9c4bde7",
   "metadata": {},
   "outputs": [
    {
     "name": "stdout",
     "output_type": "stream",
     "text": [
      "El valor máximo es: 8\n"
     ]
    }
   ],
   "source": [
    "# Ejemplo de uso\n",
    "numeros = [1, 5, 2, 8, 3]\n",
    "maximo = encontrar_maximo(numeros)\n",
    "print(f\"El valor máximo es: {maximo}\")"
   ]
  },
  {
   "cell_type": "markdown",
   "id": "5e4ae044",
   "metadata": {},
   "source": [
    "**Función para calcular el factorial de un número**: Recibe un número entero positivo y devuelve su factorial. "
   ]
  },
  {
   "cell_type": "code",
   "execution_count": 1,
   "id": "979aadf7",
   "metadata": {},
   "outputs": [],
   "source": [
    "def factorial(n):\n",
    "    \"\"\"\n",
    "    Cacular el factorial de un numero \n",
    "    \"\"\"\n",
    "    result = 1\n",
    "    for i in range(1,n+1):\n",
    "        result *= i\n",
    "    return result"
   ]
  },
  {
   "cell_type": "code",
   "execution_count": 2,
   "id": "ec6b617d",
   "metadata": {},
   "outputs": [
    {
     "data": {
      "text/plain": [
       "720"
      ]
     },
     "execution_count": 2,
     "metadata": {},
     "output_type": "execute_result"
    }
   ],
   "source": [
    "x = int(input(\"Ingrese el numero\"))\n",
    "factorial(x)"
   ]
  },
  {
   "cell_type": "markdown",
   "id": "043619c4",
   "metadata": {},
   "source": [
    "## Ejercicios de datos simples"
   ]
  },
  {
   "cell_type": "markdown",
   "id": "b185373f",
   "metadata": {},
   "source": [
    "## Ejercicio 3\n",
    "Escribir un programa que pregunte el nombre del usuario en la consola y después de que el usuario lo introduzca muestre por pantalla la cadena ¡Hola <nombre>!, donde <nombre> es el nombre que el usuario haya introducido."
   ]
  },
  {
   "cell_type": "code",
   "execution_count": 1,
   "id": "ffc2b492",
   "metadata": {},
   "outputs": [
    {
     "name": "stdout",
     "output_type": "stream",
     "text": [
      "Hola Alan\n"
     ]
    }
   ],
   "source": [
    "name = str(input(\"Ingrese su nombre\"))\n",
    "print(f\"Hola {name}\")"
   ]
  },
  {
   "cell_type": "markdown",
   "id": "cb5c19db",
   "metadata": {},
   "source": [
    "## Ejercicio 4\n",
    "\n",
    "Escribir un programa que muestre por pantalla el resultado de la siguiente operación aritmética\n",
    "\n",
    "<math xmlns=\"http://www.w3.org/1998/Math/MathML\">\n",
    "  <msup>\n",
    "    <mrow data-mjx-texclass=\"INNER\">\n",
    "      <mo data-mjx-texclass=\"OPEN\">(</mo>\n",
    "      <mfrac>\n",
    "        <mrow>\n",
    "          <mn>3</mn>\n",
    "          <mo>+</mo>\n",
    "          <mn>2</mn>\n",
    "        </mrow>\n",
    "        <mrow>\n",
    "          <mn>2</mn>\n",
    "          <mo>&#x22C5;</mo>\n",
    "          <mn>5</mn>\n",
    "        </mrow>\n",
    "      </mfrac>\n",
    "      <mo data-mjx-texclass=\"CLOSE\">)</mo>\n",
    "    </mrow>\n",
    "    <mn>2</mn>\n",
    "  </msup>\n",
    "</math>"
   ]
  },
  {
   "cell_type": "code",
   "execution_count": 2,
   "id": "b73110da",
   "metadata": {},
   "outputs": [
    {
     "name": "stdout",
     "output_type": "stream",
     "text": [
      "0.25\n"
     ]
    }
   ],
   "source": [
    "print(((3+2)/(2*5))**2)"
   ]
  },
  {
   "cell_type": "markdown",
   "id": "2d5b416d",
   "metadata": {},
   "source": [
    "## Ejercicio 5\n",
    "Escribir un programa que pregunte al usuario por el número de horas trabajadas y el coste por hora. Después debe mostrar por pantalla la paga que le corresponde."
   ]
  },
  {
   "cell_type": "code",
   "execution_count": 3,
   "id": "5a75c4f2",
   "metadata": {},
   "outputs": [
    {
     "name": "stdout",
     "output_type": "stream",
     "text": [
      "Lo correspondiente a pagar es la siguiente 42000\n"
     ]
    }
   ],
   "source": [
    "hours = int(input(\"Cuantas horas trabajo?\"))\n",
    "cost = int(input(\"Precio de las\"))\n",
    "print(f\"Lo correspondiente a pagar es la siguiente {hours*cost}\")"
   ]
  },
  {
   "cell_type": "markdown",
   "id": "65465439",
   "metadata": {},
   "source": [
    "## Ejercicio 6\n",
    "Escribir un programa que lea un entero positivo <math xmlns=\"http://www.w3.org/1998/Math/MathML\">\n",
    "  <mi>n</mi>\n",
    "</math>, introducido por el usuario y después muestre en pantalla la suma de todos los enteros desde 1 hasta <math xmlns=\"http://www.w3.org/1998/Math/MathML\">\n",
    "  <mi>n</mi>\n",
    "</math>\n",
    ". La suma de los <math xmlns=\"http://www.w3.org/1998/Math/MathML\">\n",
    "  <mi>n</mi>\n",
    "</math>\n",
    " primeros enteros positivos puede ser calculada de la siguiente forma:\n",
    "\n",
    " <math xmlns=\"http://www.w3.org/1998/Math/MathML\" display=\"block\">\n",
    "  <mstyle displaystyle=\"false\" scriptlevel=\"0\">\n",
    "    <mtext>suma</mtext>\n",
    "  </mstyle>\n",
    "  <mo>=</mo>\n",
    "  <mfrac>\n",
    "    <mrow>\n",
    "      <mi>n</mi>\n",
    "      <mo stretchy=\"false\">(</mo>\n",
    "      <mi>n</mi>\n",
    "      <mo>+</mo>\n",
    "      <mn>1</mn>\n",
    "      <mo stretchy=\"false\">)</mo>\n",
    "    </mrow>\n",
    "    <mn>2</mn>\n",
    "  </mfrac>\n",
    "</math>"
   ]
  },
  {
   "cell_type": "code",
   "execution_count": 6,
   "id": "a1d71b1a",
   "metadata": {},
   "outputs": [
    {
     "name": "stdout",
     "output_type": "stream",
     "text": [
      "No es un numero positivo\n"
     ]
    }
   ],
   "source": [
    "x = int(input(\"Ingrese el numero entero\"))\n",
    "if x>=0:\n",
    "    print((x*(x+1))/2)\n",
    "else:\n",
    "    print(\"No es un numero positivo\")"
   ]
  },
  {
   "cell_type": "markdown",
   "id": "e90f0c73",
   "metadata": {},
   "source": [
    "## Ejercicio 7\n",
    "Escribir un programa que pida al usuario su peso (en kg) y estatura (en metros), calcule el índice de masa corporal y lo almacene en una variable, y muestre por pantalla la frase Tu índice de masa corporal es <imc> donde <imc> es el índice de masa corporal calculado redondeado con dos decimales."
   ]
  },
  {
   "cell_type": "code",
   "execution_count": 9,
   "id": "9cbbd220",
   "metadata": {},
   "outputs": [
    {
     "name": "stdout",
     "output_type": "stream",
     "text": [
      "Su indice de masa corporal es de 24.845679012345677\n"
     ]
    }
   ],
   "source": [
    "weight = float(input(\"ingrese su peso en Kg\"))\n",
    "hight = float(input(\"ingrese su altura en M\"))\n",
    "imc = (weight/hight**2)\n",
    "print(f\"Su indice de masa corporal es de {imc}\")"
   ]
  },
  {
   "cell_type": "markdown",
   "id": "2bac5c51",
   "metadata": {},
   "source": [
    "## Ejercicio 8\n",
    "Escribir un programa que pida al usuario dos números enteros y muestre por pantalla la n entre m da un cociente c y un resto r donde n y m son los números introducidos por el usuario, y c y r son el cociente y el resto de la división entera respectivamente."
   ]
  },
  {
   "cell_type": "code",
   "execution_count": 1,
   "id": "5132554f",
   "metadata": {},
   "outputs": [
    {
     "name": "stdout",
     "output_type": "stream",
     "text": [
      "el numero 4.0 entre 2.0 da un cociente 2.0 y un resto 0.0 \n"
     ]
    }
   ],
   "source": [
    "n = float(input(\"ingrese el numero dividendo\"))\n",
    "m = float(input(\"ingrese el numero divisor\"))\n",
    "c = n/m\n",
    "r = n%m\n",
    "print(f\"el numero {n} entre {m} da un cociente {c} y un resto {r} \")"
   ]
  },
  {
   "cell_type": "markdown",
   "id": "d633b03d",
   "metadata": {},
   "source": [
    "## Ejercicio 9\n",
    "Escribir un programa que pregunte al usuario una cantidad a invertir, el interés anual y el número de años, y muestre por pantalla el capital obtenido en la inversión."
   ]
  },
  {
   "cell_type": "code",
   "execution_count": 14,
   "id": "595c24d2",
   "metadata": {},
   "outputs": [
    {
     "name": "stdout",
     "output_type": "stream",
     "text": [
      "Este es el resultado de la capital 1462600.0000000002\n"
     ]
    }
   ],
   "source": [
    "x = float(input(\"Cantidad a invertir\"))\n",
    "a = float(input(\"ingrese los años que desea invertir\"))\n",
    "interes = x*a*(1 - 0.2687)\n",
    "print(f\"Este es el resultado de la capital {interes}\")"
   ]
  },
  {
   "cell_type": "markdown",
   "id": "5455d3f4",
   "metadata": {},
   "source": [
    "## Ejercicio 10\n",
    "Una juguetería tiene mucho éxito en dos de sus productos: payasos y muñecas. Suele hacer venta por correo y la empresa de logística les cobra por peso de cada paquete así que deben calcular el peso de los payasos y muñecas que saldrán en cada paquete a demanda. Cada payaso pesa 112 g y cada muñeca 75 g. Escribir un programa que lea el número de payasos y muñecas vendidos en el último pedido y calcule el peso total del paquete que será enviado."
   ]
  },
  {
   "cell_type": "code",
   "execution_count": 3,
   "id": "0f1e9f03",
   "metadata": {},
   "outputs": [
    {
     "name": "stdout",
     "output_type": "stream",
     "text": [
      "El peso total del paquete es 449 g\n"
     ]
    }
   ],
   "source": [
    "peso_payaso = 112\n",
    "peso_muñeca = 75\n",
    "payasos = int(input(\"Introduce el número de payasos a enviar: \"))\n",
    "muñecas = int(input(\"Introduce el número de muñecas a enviar: \"))\n",
    "peso_total = peso_payaso * payasos + peso_muñeca * muñecas\n",
    "print(\"El peso total del paquete es \" + str(peso_total) + \" g\")"
   ]
  },
  {
   "cell_type": "markdown",
   "id": "26512945",
   "metadata": {},
   "source": [
    "## Ejercicio 11\n",
    "Imagina que acabas de abrir una nueva cuenta de ahorros que te ofrece el 4% de interés al año. Estos ahorros debido a intereses, que no se cobran hasta finales de año, se te añaden al balance final de tu cuenta de ahorros. Escribir un programa que comience leyendo la cantidad de dinero depositada en la cuenta de ahorros, introducida por el usuario. Después el programa debe calcular y mostrar por pantalla la cantidad de ahorros tras el primer, segundo y tercer años. Redondear cada cantidad a dos decimales."
   ]
  },
  {
   "cell_type": "markdown",
   "id": "464d6e7d",
   "metadata": {},
   "source": [
    "En algunos casos, las cuentas de ahorros pueden calcular los intereses de forma diaria o mensual. En estos casos, la fórmula del interés simple se modifica para reflejar el período de tiempo más corto:\n",
    "\n",
    "I = (P * r * t) / 365\n",
    "\n",
    "Por ejemplo, si una cuenta de ahorros calcula los intereses de forma diaria y tiene una tasa de interés anual del 3%, los intereses generados al cabo de un día serán:\n",
    "\n",
    "I = (1000 * 0.03 / 365)\n",
    "\n",
    "I = $0.008\n",
    "\n",
    "En este caso, los intereses generados al cabo de un año serán de $2.86."
   ]
  },
  {
   "cell_type": "code",
   "execution_count": null,
   "id": "95ce17df",
   "metadata": {},
   "outputs": [],
   "source": [
    "inversion = float(input(\"Introduce la inversión inicial: \"))\n",
    "interes = 0.04\n",
    "balance1 = inversion * (1 + interes)\n",
    "print(\"Balance tras el primer año:\" + str(round(balance1, 2)))\n",
    "balance2 = balance1 * (1 + interes)\n",
    "print(\"Balance tras el segundo año:\" + str(round(balance2, 2)))\n",
    "balance3 = balance2 * (1 + interes)\n",
    "print(\"Balance tras el tercer año:\" + str(round(balance3, 2)))"
   ]
  },
  {
   "cell_type": "markdown",
   "id": "418bb1b7",
   "metadata": {},
   "source": [
    "## Ejercicio 12\n",
    "Una panadería vende barras de pan a 3.49€ cada una. El pan que no es el día tiene un descuento del 60%. Escribir un programa que comience leyendo el número de barras vendidas que no son del día. Después el programa debe mostrar el precio habitual de una barra de pan, el descuento que se le hace por no ser fresca y el coste final total."
   ]
  },
  {
   "cell_type": "code",
   "execution_count": null,
   "id": "da384d67",
   "metadata": {},
   "outputs": [],
   "source": [
    "barras = float(input(\"Ingrese el numero de barras\"))\n",
    "pan = 3.49\n",
    "descuento = 0.6\n",
    "coste = pan*barras*(1-descuento)\n",
    "print(f\"El precio de las barras es de {coste} €\")\n",
    "print(\"El descuento sobre una barra no fresca es \" + str(descuento * 100) + \"%\")\n",
    "print(\"El coste final a pagar es \" + str(round(coste, 2)) + \"€\")"
   ]
  },
  {
   "cell_type": "markdown",
   "id": "1d372e6d",
   "metadata": {},
   "source": [
    "## Ejercicios de Cadenas"
   ]
  },
  {
   "cell_type": "markdown",
   "id": "95c0797f",
   "metadata": {},
   "source": [
    "## Ejercicio 1\n",
    "Escribir un programa que pregunte el nombre del usuario en la consola y un número entero e imprima por pantalla en líneas distintas el nombre del usuario tantas veces como el número introducido."
   ]
  },
  {
   "cell_type": "code",
   "execution_count": 1,
   "id": "970bb18c",
   "metadata": {},
   "outputs": [
    {
     "name": "stdout",
     "output_type": "stream",
     "text": [
      "Randolph\n",
      "Randolph\n",
      "Randolph\n",
      "Randolph\n",
      "Randolph\n",
      "Randolph\n",
      "Randolph\n",
      "Randolph\n",
      "Randolph\n",
      "Randolph\n",
      "\n"
     ]
    }
   ],
   "source": [
    "nombre = input(\"¿Cómo te llamas? \")\n",
    "n = input(\"Introduce un número entero: \")\n",
    "print((nombre + \"\\n\") * int(n))"
   ]
  },
  {
   "cell_type": "markdown",
   "id": "977f4a5a",
   "metadata": {},
   "source": [
    "## Ejercicio 2\n",
    "Escribir un programa que pregunte el nombre completo del usuario en la consola y después muestre por pantalla el nombre completo del usuario tres veces, una con todas las letras minúsculas, otra con todas las letras mayúsculas y otra solo con la primera letra del nombre y de los apellidos en mayúscula. El usuario puede introducir su nombre combinando mayúsculas y minúsculas como quiera."
   ]
  },
  {
   "cell_type": "code",
   "execution_count": 6,
   "id": "3f4c25f2",
   "metadata": {},
   "outputs": [
    {
     "name": "stdout",
     "output_type": "stream",
     "text": [
      "RANDOLPH RAFAEL PERALTA MONTERROZA\n",
      "randolph rafael peralta monterroza\n",
      "Randolph Rafael Peralta Monterroza\n"
     ]
    }
   ],
   "source": [
    "complet_name = str(input(\"Introduzca su nombre completo\"))\n",
    "print(complet_name.upper() + '\\n' + complet_name.lower() + '\\n' + complet_name.title())"
   ]
  },
  {
   "cell_type": "markdown",
   "id": "780f140a",
   "metadata": {},
   "source": [
    "## Ejercicio 3\n",
    "Escribir un programa que pregunte el nombre del usuario en la consola y después de que el usuario lo introduzca muestre por pantalla NOMBRE tiene n letras, donde NOMBRE es el nombre de usuario en mayúsculas y n es el número de letras que tienen el nombre."
   ]
  },
  {
   "cell_type": "code",
   "execution_count": 1,
   "id": "cc62a3ac",
   "metadata": {},
   "outputs": [
    {
     "name": "stdout",
     "output_type": "stream",
     "text": [
      "el nombre de RANDOLPH tiene 8 letras\n"
     ]
    }
   ],
   "source": [
    "N = str(input(\"Introduzca su nombre\"))\n",
    "n = len(N)\n",
    "print(f\"el nombre de {N.upper()} tiene {n} letras\")"
   ]
  },
  {
   "cell_type": "markdown",
   "id": "ec12638b",
   "metadata": {},
   "source": [
    "## Ejercicio 4\n",
    "Los teléfonos de una empresa tienen el siguiente formato prefijo-número-extension donde el prefijo es el código del país +34, y la extensión tiene dos dígitos (por ejemplo +34-913724710-56). Escribir un programa que pregunte por un número de teléfono con este formato y muestre por pantalla el número de teléfono sin el prefijo y la extensión."
   ]
  },
  {
   "cell_type": "code",
   "execution_count": 4,
   "id": "58eda3d7",
   "metadata": {},
   "outputs": [
    {
     "name": "stdout",
     "output_type": "stream",
     "text": [
      "El número de teléfono es  913724710\n"
     ]
    }
   ],
   "source": [
    "tel = input(\"Introduce un número de teléfono con el formato +xx-xxxxxxxxx-xx: \")\n",
    "print('El número de teléfono es ', tel[4:-3])"
   ]
  },
  {
   "cell_type": "markdown",
   "id": "8ffd0639",
   "metadata": {},
   "source": [
    "## Ejercicio 5\n",
    "Escribir un programa que pida al usuario que introduzca una frase en la consola y muestre por pantalla la frase invertida."
   ]
  },
  {
   "cell_type": "code",
   "execution_count": 5,
   "id": "0e3c2d2a",
   "metadata": {},
   "outputs": [
    {
     "name": "stdout",
     "output_type": "stream",
     "text": [
      "hplodnaR\n"
     ]
    }
   ],
   "source": [
    "name = str(input(\"Ingrese su nombre\"))\n",
    "name_inverted = name[::-1]\n",
    "print(name_inverted)"
   ]
  },
  {
   "cell_type": "markdown",
   "id": "ecb6f63e",
   "metadata": {},
   "source": [
    "## Ejercicio 6\n",
    "Escribir un programa que pida al usuario que introduzca una frase en la consola y una vocal, y después muestre por pantalla la misma frase pero con la vocal introducida en mayúscula."
   ]
  },
  {
   "cell_type": "code",
   "execution_count": 7,
   "id": "511cc146",
   "metadata": {},
   "outputs": [
    {
     "name": "stdout",
     "output_type": "stream",
     "text": [
      "Fuerza A\n"
     ]
    }
   ],
   "source": [
    "frase = str(input(\"Introduzca su frase\"))\n",
    "vocal = str(input(\"Introduzca una vocal\"))\n",
    "print(frase + \" \" + vocal.upper())"
   ]
  },
  {
   "cell_type": "markdown",
   "id": "171ccba9",
   "metadata": {},
   "source": [
    "## Ejercicio 7\n",
    "Escribir un programa que pregunte el correo electrónico del usuario en la consola y muestre por pantalla otro correo electrónico con el mismo nombre (la parte delante de la arroba @) pero con dominio ceu.es."
   ]
  },
  {
   "cell_type": "code",
   "execution_count": 2,
   "id": "74cfef22",
   "metadata": {},
   "outputs": [
    {
     "name": "stdout",
     "output_type": "stream",
     "text": [
      "asalbe@ceu.es\n"
     ]
    }
   ],
   "source": [
    "email = input(\"Introduce tu correo electrónico: \")\n",
    "print(email[:email.find('@')] + '@ceu.es')"
   ]
  },
  {
   "cell_type": "markdown",
   "id": "03f3adf6",
   "metadata": {},
   "source": [
    "## Ejercicio 8\n",
    "Escribir un programa que pregunte por consola el precio de un producto en euros con dos decimales y muestre por pantalla el número de euros y el número de céntimos del precio introducido."
   ]
  },
  {
   "cell_type": "code",
   "execution_count": 14,
   "id": "33484adc",
   "metadata": {},
   "outputs": [
    {
     "name": "stdout",
     "output_type": "stream",
     "text": [
      "Se tiene 123 euros, donde  hay 654 centimos\n"
     ]
    }
   ],
   "source": [
    "precio = str(input(\"Introduce el precio del producto con dos decimales:  \"))\n",
    "print(f\"Se tiene {precio[:precio.find(\".\")]} euros, donde  hay {precio[precio.find(\".\")+1:]} centimos\")"
   ]
  },
  {
   "cell_type": "markdown",
   "id": "e393a43d",
   "metadata": {},
   "source": [
    "## Ejercicio 9\n",
    "Escribir un programa que pregunte al usuario la fecha de su nacimiento en formato dd/mm/aaaa y muestra por pantalla, el día, el mes y el año. Adaptar el programa anterior para que también funcione cuando el día o el mes se introduzcan con un solo carácter."
   ]
  },
  {
   "cell_type": "code",
   "execution_count": 14,
   "id": "0876a967",
   "metadata": {},
   "outputs": [
    {
     "name": "stdout",
     "output_type": "stream",
     "text": [
      "Se tiene 12 del mes 8 del año 2021\n"
     ]
    }
   ],
   "source": [
    "fecha = str(input(\"ingrese su fecha de nacimiento\"))\n",
    "fecha = fecha.split(\"/\")\n",
    "dia, mes, año = fecha\n",
    "print(f\"Se tiene {dia} del mes {mes} del año {año}\")"
   ]
  },
  {
   "cell_type": "markdown",
   "id": "8aaa6f9a",
   "metadata": {},
   "source": [
    "## Ejercicio 10\n",
    "Escribir un programa que pregunte por consola por los productos de una cesta de la compra, separados por comas, y muestre por pantalla cada uno de los productos en una línea distinta."
   ]
  },
  {
   "cell_type": "code",
   "execution_count": 20,
   "id": "fe308a49",
   "metadata": {},
   "outputs": [
    {
     "name": "stdout",
     "output_type": "stream",
     "text": [
      "manzana\n",
      " pera\n",
      " maracuya\n",
      " naranja\n"
     ]
    }
   ],
   "source": [
    "productos = str(input(\"Introduzca los productos de su cesta de compras\"))\n",
    "productos = productos.split(\",\")\n",
    "for producto in productos:\n",
    "    print(producto)"
   ]
  },
  {
   "cell_type": "markdown",
   "id": "22141018",
   "metadata": {},
   "source": [
    "## Ejercicio 11\n",
    "Escribir un programa que pregunte el nombre el un producto, su precio y un número de unidades y muestre por pantalla una cadena con el nombre del producto seguido de su precio unitario con 6 dígitos enteros y 2 decimales, el número de unidades con tres dígitos y el coste total con 8 dígitos enteros y 2 decimales."
   ]
  },
  {
   "cell_type": "code",
   "execution_count": null,
   "id": "9a2ef49d",
   "metadata": {},
   "outputs": [
    {
     "name": "stdout",
     "output_type": "stream",
     "text": [
      "Manzana:   1 unidad x 000090.00€ = 00000090.00€\n"
     ]
    }
   ],
   "source": [
    "producto = str(input(\"Cual es su producto\"))\n",
    "precio = float(input(\"Cual es su precio\"))\n",
    "unidad = int(input(\"Cuantos desea\"))\n",
    "print('{producto}: {unidad:3d} unidad x {precio:09.2f}€ = {total:011.2f}€'.format(producto = producto, unidad = unidad, precio = precio, total = unidad * precio))"
   ]
  },
  {
   "cell_type": "markdown",
   "id": "cb0a0015",
   "metadata": {},
   "source": [
    "## Ejercicios de Condicionales"
   ]
  },
  {
   "cell_type": "markdown",
   "id": "8591e54c",
   "metadata": {},
   "source": [
    "## Ejercicio 1\n",
    "Escribir un programa que pregunte al usuario su edad y muestre por pantalla si es mayor de edad o no."
   ]
  },
  {
   "cell_type": "code",
   "execution_count": 2,
   "id": "7bc0f031",
   "metadata": {},
   "outputs": [
    {
     "name": "stdout",
     "output_type": "stream",
     "text": [
      "Eres mayor de edad\n"
     ]
    }
   ],
   "source": [
    "edad = int(input(\"ingrse su edad\"))\n",
    "if edad >= 18:\n",
    "    print(\"Eres mayor de edad\")\n",
    "else:\n",
    "    print(\"Eres menor de edad\")"
   ]
  },
  {
   "cell_type": "markdown",
   "id": "9c5834bb",
   "metadata": {},
   "source": [
    "## Ejercicio 2\n",
    "Escribir un programa que almacene la cadena de caracteres contraseña en una variable, pregunte al usuario por la contraseña e imprima por pantalla si la contraseña introducida por el usuario coincide con la guardada en la variable sin tener en cuenta mayúsculas y minúsculas."
   ]
  },
  {
   "cell_type": "code",
   "execution_count": 3,
   "id": "aa0a1c19",
   "metadata": {},
   "outputs": [
    {
     "name": "stdout",
     "output_type": "stream",
     "text": [
      "Contraseña correcta\n"
     ]
    }
   ],
   "source": [
    "key = \"1234qwer\"\n",
    "password = str(input(\"introduzca la contraseña del usuario: \"))\n",
    "if password.lower() == key:\n",
    "    print(\"Contraseña correcta\")\n",
    "else:\n",
    "    print(\"Contraseña incorrecta\")"
   ]
  },
  {
   "cell_type": "markdown",
   "id": "843ce6df",
   "metadata": {},
   "source": [
    "## Ejercicio 3\n",
    "Escribir un programa que pida al usuario dos números y muestre por pantalla su división. Si el divisor es cero el programa debe mostrar un error."
   ]
  },
  {
   "cell_type": "code",
   "execution_count": 7,
   "id": "8759340a",
   "metadata": {},
   "outputs": [
    {
     "name": "stdout",
     "output_type": "stream",
     "text": [
      "La divison es 2.0\n"
     ]
    }
   ],
   "source": [
    "dividendo = float(input(\"Ingrese su numero: \"))\n",
    "divisor = float(input(\"Ingrese el numero divisor: \"))\n",
    "if divisor != 0:\n",
    "    print(f\"La divison es {dividendo/divisor}\")\n",
    "else:\n",
    "    print(\"El divisor es cero, ingrese nuevamnte la division\")"
   ]
  },
  {
   "cell_type": "markdown",
   "id": "67d0cf06",
   "metadata": {},
   "source": [
    "# Ejercicio 4\n",
    "Escribir un programa que pida al usuario un número entero y muestre por pantalla si es par o impar."
   ]
  },
  {
   "cell_type": "code",
   "execution_count": 16,
   "id": "fb84e6be",
   "metadata": {},
   "outputs": [
    {
     "name": "stdout",
     "output_type": "stream",
     "text": [
      "El numero -9 impar\n"
     ]
    }
   ],
   "source": [
    "numero = int(input(\"Ingrese su numero\"))\n",
    "if numero % 2 == 0:\n",
    "    print(f\"El numero {numero} par\")\n",
    "else:\n",
    "    print(f\"El numero {numero} impar\")"
   ]
  },
  {
   "cell_type": "markdown",
   "id": "eff5af9d",
   "metadata": {},
   "source": [
    "## Ejercicio 5\n",
    "Para tributar un determinado impuesto se debe ser mayor de 16 años y tener unos ingresos iguales o superiores a 1000 € mensuales. Escribir un programa que pregunte al usuario su edad y sus ingresos mensuales y muestre por pantalla si el usuario tiene que tributar o no."
   ]
  },
  {
   "cell_type": "code",
   "execution_count": 17,
   "id": "8ec00efb",
   "metadata": {},
   "outputs": [
    {
     "name": "stdout",
     "output_type": "stream",
     "text": [
      "No debe tributar\n"
     ]
    }
   ],
   "source": [
    "edad = int(input(\"ingrese su edad\"))\n",
    "ingresos = float(input(\"ingrese sus ingresos mensuales\"))\n",
    "if edad >= 16 and ingresos >= 1000:\n",
    "    print(\"Debe tributar\")\n",
    "else:\n",
    "    print(\"No debe tributar\")"
   ]
  },
  {
   "cell_type": "markdown",
   "id": "4bb79989",
   "metadata": {},
   "source": [
    "## Ejercicio 6\n",
    "Los alumnos de un curso se han dividido en dos grupos A y B de acuerdo al sexo y el nombre. El grupo A esta formado por las mujeres con un nombre anterior a la M y los hombres con un nombre posterior a la N y el grupo B por el resto. Escribir un programa que pregunte al usuario su nombre y sexo, y muestre por pantalla el grupo que le corresponde."
   ]
  },
  {
   "cell_type": "code",
   "execution_count": null,
   "id": "23614034",
   "metadata": {},
   "outputs": [],
   "source": [
    "name = input(\"¿Cómo te llamas? \")\n",
    "gender = input(\"¿Cuál es tu sexo (M o H)? \")\n",
    "if gender == \"M\":\n",
    "    if name.lower() < \"m\":\n",
    "        group = \"A\"\n",
    "    else:\n",
    "        group = \"B\"\n",
    "else:\n",
    "    if name.lower() > \"n\":\n",
    "        group = \"A\"\n",
    "    else:\n",
    "        group = \"B\"\n",
    "print(\"Tu grupo es \" + group)"
   ]
  },
  {
   "cell_type": "markdown",
   "id": "5f613008",
   "metadata": {},
   "source": [
    "## Ejercicio 7\n",
    "Los tramos impositivos para la declaración de la renta en un determinado país son los siguientes:\n",
    "\n",
    "```\n",
    "Renta\t                Tipo impositivo\n",
    "Menos de 10000€\t             5%\n",
    "Entre 10000€ y 20000€\t    15%\n",
    "Entre 20000€ y 35000€\t    20%\n",
    "Entre 35000€ y 60000€\t    30%\n",
    "Más de 60000€\t            45%\n",
    "```\n",
    "\n",
    "Escribir un programa que pregunte al usuario su renta anual y muestre por pantalla el tipo impositivo que le corresponde."
   ]
  },
  {
   "cell_type": "code",
   "execution_count": null,
   "id": "71b8af19",
   "metadata": {},
   "outputs": [
    {
     "name": "stdout",
     "output_type": "stream",
     "text": [
      "14814.81\n"
     ]
    }
   ],
   "source": [
    "renta = float(input(\"ingrese su renta\"))\n",
    "if renta < 10000:\n",
    "    tipo = 5\n",
    "elif renta < 20000:\n",
    "    tipo = 15\n",
    "elif renta < 35000:\n",
    "    tipo = 20\n",
    "elif renta < 60000:\n",
    "    tipo = 30\n",
    "else:\n",
    "    tipo = 45\n",
    "# Mostrar por pantalla el producto de la renta por el tipo impositivo\n",
    "print(\"Tienes que pagar \", renta * tipo / 100, \"€\", sep='')"
   ]
  },
  {
   "cell_type": "markdown",
   "id": "f16ebaad",
   "metadata": {},
   "source": [
    "## Ejercicio 8\n",
    "En una determinada empresa, sus empleados son evaluados al final de cada año. Los puntos que pueden obtener en la evaluación comienzan en 0.0 y pueden ir aumentando, traduciéndose en mejores beneficios. Los puntos que pueden conseguir los empleados pueden ser 0.0, 0.4, 0.6 o más, pero no valores intermedios entre las cifras mencionadas. A continuación se muestra una tabla con los niveles correspondientes a cada puntuación. La cantidad de dinero conseguida en cada nivel es de 2.400€ multiplicada por la puntuación del nivel.\n",
    "\n",
    "```\n",
    "Nivel\t        Puntuación\n",
    "Inaceptable\t    0.0\n",
    "Aceptable\t    0.4\n",
    "Meritorio\t    0.6 o más\n",
    "```\n",
    "\n",
    "Escribir un programa que lea la puntuación del usuario e indique su nivel de rendimiento, así como la cantidad de dinero que recibirá el usuario."
   ]
  },
  {
   "cell_type": "code",
   "execution_count": 5,
   "id": "34f21a34",
   "metadata": {},
   "outputs": [
    {
     "name": "stdout",
     "output_type": "stream",
     "text": [
      "Tu nivel de rendimiento es Meritorio\n",
      "Te corresponde cobrar 2400.00€\n"
     ]
    }
   ],
   "source": [
    "bonificacion = 2400\n",
    "inaceptable = 0\n",
    "aceptable = 0.4\n",
    "meritorio = 0.6\n",
    "puntos = float(input(\"Introduce tu puntuación: \"))\n",
    "# Clasifiación por niveles de rendimiento\n",
    "if puntos == inaceptable:\n",
    "    nivel = \"Inaceptable\"\n",
    "elif puntos == aceptable:\n",
    "    nivel = \"Aceptable\"\n",
    "elif puntos >= 0.6:\n",
    "    nivel = \"Meritorio\"\n",
    "else:\n",
    "    nivel = \"\"\n",
    "# Mostrar nivel de rendimiento\n",
    "if nivel == \"\":\n",
    "    print(\"Esta puntuación no es válida\")\n",
    "else:\n",
    "    print(\"Tu nivel de rendimiento es %s\" % nivel)\n",
    "    print(\"Te corresponde cobrar %.2f€\" % (puntos * bonificacion))"
   ]
  },
  {
   "cell_type": "markdown",
   "id": "e551fa0a",
   "metadata": {},
   "source": [
    "## Ejercicio 9\n",
    "Escribir un programa para una empresa que tiene salas de juegos para todas las edades y quiere calcular de forma automática el precio que debe cobrar a sus clientes por entrar. El programa debe preguntar al usuario la edad del cliente y mostrar el precio de la entrada. Si el cliente es menor de 4 años puede entrar gratis, si tiene entre 4 y 18 años debe pagar 5€ y si es mayor de 18 años, 10€."
   ]
  },
  {
   "cell_type": "code",
   "execution_count": 6,
   "id": "33e9e811",
   "metadata": {},
   "outputs": [
    {
     "name": "stdout",
     "output_type": "stream",
     "text": [
      "Debe pagar 5€\n"
     ]
    }
   ],
   "source": [
    "edad = int(input(\"Introduza su edad\"))\n",
    "if edad <= 0:\n",
    "    print(\"No es una edad adecuada\")\n",
    "elif edad < 4:\n",
    "    print(\"Entrada gratis\")\n",
    "elif edad < 18:\n",
    "    print(\"Debe pagar 5€\")\n",
    "else:\n",
    "    print(\"Debe pagar 10€\")"
   ]
  },
  {
   "cell_type": "markdown",
   "id": "3cedb8d1",
   "metadata": {},
   "source": [
    "## Ejercicio 10\n",
    "La pizzería Bella Napoli ofrece pizzas vegetarianas y no vegetarianas a sus clientes. Los ingredientes para cada tipo de pizza aparecen a continuación.\n",
    "\n",
    "- Ingredientes vegetarianos: Pimiento y tofu.\n",
    "- Ingredientes no vegetarianos: Peperoni, Jamón y Salmón.\n",
    "\n",
    "Escribir un programa que pregunte al usuario si quiere una pizza vegetariana o no, y en función de su respuesta le muestre un menú con los ingredientes disponibles para que elija. Solo se puede eligir un ingrediente además de la mozzarella y el tomate que están en todas la pizzas. Al final se debe mostrar por pantalla si la pizza elegida es vegetariana o no y todos los ingredientes que lleva."
   ]
  },
  {
   "cell_type": "code",
   "execution_count": 12,
   "id": "88f0cec8",
   "metadata": {},
   "outputs": [
    {
     "name": "stdout",
     "output_type": "stream",
     "text": [
      "Bienvenido a la pizzeria Bella Napoli.\n",
      "Tipos de pizza\n",
      "\t1- Vegetariana\n",
      "\t2- No vegetariana\n",
      "\n",
      "Escogio pizza vegetariana\n",
      "Su pizza es vegetariana de mozarella, tomate y jamón\n"
     ]
    }
   ],
   "source": [
    "# Presentación del menú con los tipos de pizza\n",
    "print(\"Bienvenido a la pizzeria Bella Napoli.\\nTipos de pizza\\n\\t1- Vegetariana\\n\\t2- No vegetariana\\n\")\n",
    "pizza = input(\"Escoga su pizza:  1. vegetariana o 2. no vegetariana\")\n",
    "if pizza == \"1\":\n",
    "    print(\"Escogio pizza vegetariana\")\n",
    "    ingrediente_v = input(\"Que ingrediente desea:  1. pimiento o 2. tofu.\")\n",
    "    if ingrediente_v == \"1\":\n",
    "        print(\"Su pizza es vegetariana de mozarella, tomate y pimiento\")\n",
    "    else:\n",
    "        print(\"Su pizza es vegetariana de mozarella, tomate y tofu\")\n",
    "else:\n",
    "    print(\"Escogio pizza vegetariana\")\n",
    "    ingrediente = input(\"Que ingrediente desea:  1. peperoni, 2. jamón y 3. salmón.\")\n",
    "    if ingrediente == \"1\":\n",
    "        print(\"Su pizza es vegetariana de mozarella, tomate y peperoni\")\n",
    "    elif ingrediente == \"2\":\n",
    "        print(\"Su pizza es vegetariana de mozarella, tomate y jamón\")\n",
    "    elif ingrediente == \"3\":\n",
    "        print(\"Su pizza es vegetariana de mozarella, tomate y salmón\")\n",
    "\n"
   ]
  },
  {
   "cell_type": "markdown",
   "id": "d8955262",
   "metadata": {},
   "source": [
    "## Ejercicios de Bucles"
   ]
  },
  {
   "cell_type": "markdown",
   "id": "17b8505a",
   "metadata": {},
   "source": [
    "## Ejercicio 1\n",
    "Escribir un programa que pida al usuario una palabra y la muestre por pantalla 10 veces."
   ]
  },
  {
   "cell_type": "code",
   "execution_count": 17,
   "id": "0351e14c",
   "metadata": {},
   "outputs": [
    {
     "name": "stdout",
     "output_type": "stream",
     "text": [
      "Randolph\n",
      "Randolph\n",
      "Randolph\n",
      "Randolph\n",
      "Randolph\n",
      "Randolph\n",
      "Randolph\n",
      "Randolph\n",
      "Randolph\n",
      "Randolph\n"
     ]
    }
   ],
   "source": [
    "name = str(input(\"ingrese su nombre: \"))\n",
    "for i in range(10):\n",
    "    print(name)"
   ]
  },
  {
   "cell_type": "markdown",
   "id": "9fd1cda4",
   "metadata": {},
   "source": [
    "## Ejercicio 2\n",
    "Escribir un programa que pregunte al usuario su edad y muestre por pantalla todos los años que ha cumplido (desde 1 hasta su edad)."
   ]
  },
  {
   "cell_type": "code",
   "execution_count": 21,
   "id": "2e3efb20",
   "metadata": {},
   "outputs": [
    {
     "name": "stdout",
     "output_type": "stream",
     "text": [
      "Usted cumpio 1 años\n",
      "Usted cumpio 2 años\n",
      "Usted cumpio 3 años\n",
      "Usted cumpio 4 años\n",
      "Usted cumpio 5 años\n",
      "Usted cumpio 6 años\n",
      "Usted cumpio 7 años\n",
      "Usted cumpio 8 años\n",
      "Usted cumpio 9 años\n",
      "Usted cumpio 10 años\n",
      "Usted cumpio 11 años\n",
      "Usted cumpio 12 años\n",
      "Usted cumpio 13 años\n",
      "Usted cumpio 14 años\n",
      "Usted cumpio 15 años\n",
      "Usted cumpio 16 años\n",
      "Usted cumpio 17 años\n",
      "Usted cumpio 18 años\n",
      "Usted cumpio 19 años\n",
      "Usted cumpio 20 años\n"
     ]
    }
   ],
   "source": [
    "age = int(input(\"Cual es su edad\"))\n",
    "for i in range(age):\n",
    "    print(\"Usted cumpio \" + str(i+1) + \" años\")"
   ]
  },
  {
   "cell_type": "markdown",
   "id": "b08d8cbf",
   "metadata": {},
   "source": [
    "## Ejercicio 3\n",
    "Escribir un programa que pida al usuario un número entero positivo y muestre por pantalla todos los números impares desde 1 hasta ese número separados por comas."
   ]
  },
  {
   "cell_type": "code",
   "execution_count": 3,
   "id": "dd85fe37",
   "metadata": {},
   "outputs": [
    {
     "name": "stdout",
     "output_type": "stream",
     "text": [
      "1, 3, 5, 7, "
     ]
    }
   ],
   "source": [
    "n = int(input(\"Ingrese su numero entero positivo\"))\n",
    "if n <= 0:\n",
    "    print(\"No es un entero positivo\")\n",
    "else:\n",
    "    for i in range(1, n+1, 2):\n",
    "        print(i, end = \", \")"
   ]
  },
  {
   "cell_type": "markdown",
   "id": "2ce37795",
   "metadata": {},
   "source": [
    "## Ejercicio 4\n",
    "Escribir un programa que pida al usuario un número entero positivo y muestre por pantalla la cuenta atrás desde ese número hasta cero separados por comas."
   ]
  },
  {
   "cell_type": "code",
   "execution_count": 1,
   "id": "4f6c24f3",
   "metadata": {},
   "outputs": [
    {
     "name": "stdout",
     "output_type": "stream",
     "text": [
      "9, 8, 7, 6, 5, 4, 3, 2, 1, "
     ]
    }
   ],
   "source": [
    "n = int(input(\"Ingrese su numero entero positivo\"))\n",
    "if n <= 0:\n",
    "    print(\"No es un entero positivo\")\n",
    "else:\n",
    "    for i in range(n, 0, -1):\n",
    "        print(i, end = \", \")"
   ]
  },
  {
   "cell_type": "markdown",
   "id": "3fbd3603",
   "metadata": {},
   "source": [
    "## Ejercicio 5\n",
    "Escribir un programa que pregunte al usuario una cantidad a invertir, el interés anual y el número de años, y muestre por pantalla el capital obtenido en la inversión cada año que dura la inversión."
   ]
  },
  {
   "cell_type": "code",
   "execution_count": 2,
   "id": "4518f56a",
   "metadata": {},
   "outputs": [
    {
     "name": "stdout",
     "output_type": "stream",
     "text": [
      "En 1 Años obtendra en inversion 1100.0\n",
      "En 2 Años obtendra en inversion 1210.0\n",
      "En 3 Años obtendra en inversion 1331.0\n",
      "En 4 Años obtendra en inversion 1464.1000000000001\n"
     ]
    }
   ],
   "source": [
    "inversion = float(input(\"Ingrese su inversion: \"))\n",
    "interes = int(input(\"Ingrese su interes anual: \"))\n",
    "anios = int(input(\"Ingrese la cantidad de años: \"))\n",
    "for i in range(anios):\n",
    "    inversion *= 1 + interes/100\n",
    "    print(\"En \" + str(i+1) + \" Años obtendra en inversion \" + str(inversion))"
   ]
  },
  {
   "cell_type": "markdown",
   "id": "edf9cad5",
   "metadata": {},
   "source": [
    "## Ejercicio 6\n",
    "Escribir un programa que pida al usuario un número entero y muestre por pantalla un triángulo rectángulo como el de más abajo, de altura el número introducido.\n",
    "\n",
    "```\n",
    "*\n",
    "**\n",
    "***\n",
    "****\n",
    "*****\n",
    "```"
   ]
  },
  {
   "cell_type": "code",
   "execution_count": 3,
   "id": "c25afa41",
   "metadata": {},
   "outputs": [
    {
     "name": "stdout",
     "output_type": "stream",
     "text": [
      "\n",
      "*\n",
      "**\n",
      "***\n",
      "****\n",
      "*****\n",
      "******\n",
      "*******\n"
     ]
    }
   ],
   "source": [
    "entero = int(input(\"Dame un entero positivo: \"))\n",
    "for i in range(entero):\n",
    "    print(i*\"*\")"
   ]
  },
  {
   "cell_type": "markdown",
   "id": "6c3838f3",
   "metadata": {},
   "source": [
    "## Ejercicio 7\n",
    "Escribir un programa que muestre por pantalla la tabla de multiplicar del 1 al 10."
   ]
  },
  {
   "cell_type": "code",
   "execution_count": 8,
   "id": "24127f57",
   "metadata": {},
   "outputs": [
    {
     "name": "stdout",
     "output_type": "stream",
     "text": [
      "1\t2\t3\t4\t5\t6\t7\t8\t9\t\n",
      "2\t4\t6\t8\t10\t12\t14\t16\t18\t\n",
      "3\t6\t9\t12\t15\t18\t21\t24\t27\t\n",
      "4\t8\t12\t16\t20\t24\t28\t32\t36\t\n",
      "5\t10\t15\t20\t25\t30\t35\t40\t45\t\n",
      "6\t12\t18\t24\t30\t36\t42\t48\t54\t\n",
      "7\t14\t21\t28\t35\t42\t49\t56\t63\t\n",
      "8\t16\t24\t32\t40\t48\t56\t64\t72\t\n",
      "9\t18\t27\t36\t45\t54\t63\t72\t81\t\n"
     ]
    }
   ],
   "source": [
    "for i in range(1, 10):\n",
    "    for j in range(1, 10):\n",
    "        print(i*j, end =\"\\t\")\n",
    "    print(\"\")"
   ]
  },
  {
   "cell_type": "markdown",
   "id": "911b3a92",
   "metadata": {},
   "source": [
    "## Ejercicio 8\n",
    "Escribir un programa que pida al usuario un número entero y muestre por pantalla un triángulo rectángulo como el de más abajo.\n",
    "\n",
    "```\n",
    "1\n",
    "3 1\n",
    "5 3 1\n",
    "7 5 3 1\n",
    "9 7 5 3 1\n",
    "```"
   ]
  },
  {
   "cell_type": "code",
   "execution_count": 36,
   "id": "a325bb2c",
   "metadata": {},
   "outputs": [
    {
     "name": "stdout",
     "output_type": "stream",
     "text": [
      "1\t \n",
      "3\t1\t \n",
      "5\t3\t1\t \n",
      "7\t5\t3\t1\t \n",
      "9\t7\t5\t3\t1\t \n"
     ]
    }
   ],
   "source": [
    "n = int(input(\"ingrese su numero entero\"))\n",
    "for i in range(1, n+1, 2):\n",
    "    for j in range(i, 0, -2):\n",
    "        print(j , end=\"\\t\")\n",
    "    print(\" \")"
   ]
  },
  {
   "cell_type": "markdown",
   "id": "9faa94c9",
   "metadata": {},
   "source": [
    "## Ejercicio 9\n",
    "Escribir un programa que almacene la cadena de caracteres contraseña en una variable, pregunte al usuario por la contraseña hasta que introduzca la contraseña correcta."
   ]
  },
  {
   "cell_type": "code",
   "execution_count": 45,
   "id": "e17174f9",
   "metadata": {},
   "outputs": [
    {
     "name": "stdout",
     "output_type": "stream",
     "text": [
      "Contraseña correcta\n"
     ]
    }
   ],
   "source": [
    "key = \"contraseña\"\n",
    "password =\"\"\n",
    "while password != key:\n",
    "    password = str(input(\"Introduce la contraseña: \"))\n",
    "print(\"Contraseña correcta\")"
   ]
  },
  {
   "cell_type": "markdown",
   "id": "7451fbad",
   "metadata": {},
   "source": [
    "## Ejercicio 10\n",
    "Escribir un programa que pida al usuario un número entero y muestre por pantalla si es un número primo o no."
   ]
  },
  {
   "cell_type": "code",
   "execution_count": 34,
   "id": "2c1fbdf0",
   "metadata": {},
   "outputs": [
    {
     "name": "stdout",
     "output_type": "stream",
     "text": [
      "9 no es primo\n"
     ]
    }
   ],
   "source": [
    "n = int(input(\"Introduce un número entero positivo mayor que 2: \"))\n",
    "for i in range(2, n):\n",
    "    if n % i == 0:\n",
    "        break\n",
    "if (i + 1)  == n:\n",
    "    print(str(n) + \" es primo\")\n",
    "else: \n",
    "    print(str(n) + \" no es primo\")"
   ]
  },
  {
   "cell_type": "markdown",
   "id": "48fb3ab5",
   "metadata": {},
   "source": [
    "## Ejercicio 11\n",
    "Escribir un programa que pida al usuario una palabra y luego muestre por pantalla una a una las letras de la palabra introducida empezando por la última."
   ]
  },
  {
   "cell_type": "code",
   "execution_count": 9,
   "id": "d57d2c12",
   "metadata": {},
   "outputs": [
    {
     "name": "stdout",
     "output_type": "stream",
     "text": [
      "Su palabra tiene 7 letras\n",
      "a\n",
      "r\n",
      "b\n",
      "a\n",
      "l\n",
      "a\n",
      "p\n"
     ]
    }
   ],
   "source": [
    "words = str(input(\"Introducir una palabra: \"))\n",
    "print(f\"Su palabra tiene {len(words)} letras\")\n",
    "for i in range(len(words)-1, -1, -1):\n",
    "    print(words[i])"
   ]
  },
  {
   "cell_type": "markdown",
   "id": "94871576",
   "metadata": {},
   "source": [
    "## Ejercicio 12\n",
    "Escribir un programa en el que se pregunte al usuario por una frase y una letra, y muestre por pantalla el número de veces que aparece la letra en la frase."
   ]
  },
  {
   "cell_type": "code",
   "execution_count": 15,
   "id": "f90a00a7",
   "metadata": {},
   "outputs": [
    {
     "name": "stdout",
     "output_type": "stream",
     "text": [
      "la letra a aparece 3 veces en la palabra\n"
     ]
    }
   ],
   "source": [
    "frase = str(input(\"ingrese su frase: \"))\n",
    "letra = str(input(\"ingrese su letra: \"))\n",
    "numero = 0\n",
    "for i in range(0, len(frase)):\n",
    "    if letra == frase[i]:\n",
    "        numero += 1\n",
    "print(f\"la letra {letra} aparece {numero} veces en la {frase}\")"
   ]
  },
  {
   "cell_type": "markdown",
   "id": "17b34a9c",
   "metadata": {},
   "source": [
    "## Ejercicio 13\n",
    "Escribir un programa que muestre el eco de todo lo que el usuario introduzca hasta que el usuario escriba “salir” que terminará."
   ]
  },
  {
   "cell_type": "code",
   "execution_count": null,
   "id": "e325a9c0",
   "metadata": {},
   "outputs": [
    {
     "name": "stdout",
     "output_type": "stream",
     "text": [
      "Hola\n",
      "tumae\n",
      "JAJAJA\n",
      "Salir\n",
      "Finalizar\n"
     ]
    }
   ],
   "source": [
    "salida = \"Salir\"\n",
    "eco = \"\"\n",
    "while eco != salida:\n",
    "    eco = str(input(\"Introduce la frase: \"))\n",
    "    print(eco)\n",
    "print(\"Finalizar\")"
   ]
  },
  {
   "cell_type": "markdown",
   "id": "daabe3cd",
   "metadata": {},
   "source": [
    "## Ejercicios de Listas y Tuplas"
   ]
  },
  {
   "cell_type": "markdown",
   "id": "314a6d55",
   "metadata": {},
   "source": [
    "## Ejercicio 1\n",
    "Escribir un programa que almacene las asignaturas de un curso (por ejemplo Matemáticas, Física, Química, Historia y Lengua) en una lista y la muestre por pantalla."
   ]
  },
  {
   "cell_type": "code",
   "execution_count": 4,
   "id": "6e42e7fc",
   "metadata": {},
   "outputs": [
    {
     "data": {
      "text/plain": [
       "['Matemáticas, Física, Química, Historia y Lengua']"
      ]
     },
     "execution_count": 4,
     "metadata": {},
     "output_type": "execute_result"
    }
   ],
   "source": [
    "lista = []\n",
    "asignatura = \"\"\n",
    "while asignatura == \"\" :\n",
    "    asignatura = str(input(\"Ingrese su asignatura \"))\n",
    "lista.append(asignatura)\n",
    "lista"
   ]
  },
  {
   "cell_type": "markdown",
   "id": "a746bced",
   "metadata": {},
   "source": [
    "## Ejercicio 2\n",
    "Escribir un programa que almacene las asignaturas de un curso (por ejemplo Matemáticas, Física, Química, Historia y Lengua) en una lista y la muestre por pantalla el mensaje: Yo estudio \"asignatura\", donde \"asignatura\" es cada una de las asignaturas de la lista."
   ]
  },
  {
   "cell_type": "code",
   "execution_count": 5,
   "id": "dd508867",
   "metadata": {},
   "outputs": [
    {
     "name": "stdout",
     "output_type": "stream",
     "text": [
      "Yo estudio Matemáticas, donde Matemáticas es cada una de las asignaturas de la lista.\n",
      "Yo estudio Física, donde Física es cada una de las asignaturas de la lista.\n",
      "Yo estudio Química, donde Química es cada una de las asignaturas de la lista.\n",
      "Yo estudio Historia, donde Historia es cada una de las asignaturas de la lista.\n",
      "Yo estudio Lengua, donde Lengua es cada una de las asignaturas de la lista.\n"
     ]
    }
   ],
   "source": [
    "asignaturas = [\"Matemáticas\", \"Física\", \"Química\", \"Historia\", \"Lengua\"]\n",
    "for asignatura in asignaturas:\n",
    "    print(f\"Yo estudio {asignatura}, donde {asignatura} es cada una de las asignaturas de la lista.\")"
   ]
  },
  {
   "cell_type": "markdown",
   "id": "a26104ba",
   "metadata": {},
   "source": [
    "## Ejercicio 3\n",
    "Escribir un programa que almacene las asignaturas de un curso (por ejemplo Matemáticas, Física, Química, Historia y Lengua) en una lista, pregunte al usuario la nota que ha sacado en cada asignatura, y después las muestre por pantalla con el mensaje. En \"asignatura\" has sacado \"nota\" donde \"asignatura\" es cada una des las asignaturas de la lista y \"nota\" cada una de las correspondientes notas introducidas por el usuario."
   ]
  },
  {
   "cell_type": "code",
   "execution_count": null,
   "id": "54dfd503",
   "metadata": {},
   "outputs": [
    {
     "name": "stdout",
     "output_type": "stream",
     "text": [
      "En Matemáticas has sacado 5\n",
      "En Física has sacado 4\n",
      "En Química has sacado 5\n",
      "En Historia has sacado 4\n",
      "En Lengua has sacado 5\n"
     ]
    }
   ],
   "source": [
    "asignaturas = [\"Matemáticas\", \"Física\", \"Química\", \"Historia\", \"Lengua\"]\n",
    "nota = []\n",
    "for asignatura in asignaturas:\n",
    "    nota = int(input(f\"Que saco en la asignatura {asignatura}\"))\n",
    "    print(f\"En {asignatura} has sacado {nota}\")"
   ]
  },
  {
   "cell_type": "markdown",
   "id": "ce47cfb6",
   "metadata": {},
   "source": [
    "## Ejercicio 4\n",
    "Escribir un programa que pregunte al usuario los números ganadores de la lotería primitiva, los almacene en una lista y los muestre por pantalla ordenados de menor a mayor."
   ]
  },
  {
   "cell_type": "code",
   "execution_count": 1,
   "id": "4ceb41dd",
   "metadata": {},
   "outputs": [
    {
     "name": "stdout",
     "output_type": "stream",
     "text": [
      "Los numero ganadores son: [123, 321, 345, 456, 3456, 7765]\n"
     ]
    }
   ],
   "source": [
    "awarded = []\n",
    "for i in range(6):\n",
    "    awarded.append(int(input(\"Ingrese los numero de loteria ganadores: \")))\n",
    "awarded.sort()\n",
    "print(f\"Los numero ganadores son: {awarded}\")"
   ]
  },
  {
   "cell_type": "markdown",
   "id": "0105575d",
   "metadata": {},
   "source": [
    "## Ejercicio 5\n",
    "Escribir un programa que almacene en una lista los números del 1 al 10 y los muestre por pantalla en orden inverso separados por comas."
   ]
  },
  {
   "cell_type": "code",
   "execution_count": 4,
   "id": "e58dc8f3",
   "metadata": {},
   "outputs": [
    {
     "name": "stdout",
     "output_type": "stream",
     "text": [
      "10, 9, 8, 7, 6, 5, 4, 3, 2, 1, "
     ]
    }
   ],
   "source": [
    "numbers = [1, 2, 3, 4, 5, 6, 7, 8, 9, 10]\n",
    "for i in range(1, 11):\n",
    "    print(numbers[-i], end=\", \")"
   ]
  },
  {
   "cell_type": "markdown",
   "id": "aa72c145",
   "metadata": {},
   "source": [
    "## Ejercicio 6\n",
    "Escribir un programa que almacene las asignaturas de un curso (por ejemplo Matemáticas, Física, Química, Historia y Lengua) en una lista, pregunte al usuario la nota que ha sacado en cada asignatura y elimine de la lista las asignaturas aprobadas. Al final el programa debe mostrar por pantalla las asignaturas que el usuario tiene que repetir."
   ]
  },
  {
   "cell_type": "code",
   "execution_count": 14,
   "id": "0da4e7b0",
   "metadata": {},
   "outputs": [],
   "source": [
    "asignaturas = [\"Matemáticas\", \"Física\", \"Química\", \"Historia\", \"Lengua\"]"
   ]
  },
  {
   "cell_type": "code",
   "execution_count": 15,
   "id": "b2ca3455",
   "metadata": {},
   "outputs": [
    {
     "name": "stdout",
     "output_type": "stream",
     "text": [
      "En Matemáticas tienes esta nota: 5 y fue aprobada\n",
      "En Física tienes esta nota: 4 y fue aprobada\n",
      "En Química tienes esta nota: 3 y fue aprobada\n",
      "Debes repetir la asignatura Historia\n",
      "Debes repetir la asignatura Lengua\n"
     ]
    }
   ],
   "source": [
    "\n",
    "pasadas = []\n",
    "for asignatura in asignaturas:\n",
    "    nota = int(input(f\"Asigne la nota de la asignatura {asignatura}: \"))\n",
    "    if nota >= 3:\n",
    "        pasadas.append(asignatura)\n",
    "        print(f\"En {asignatura} tienes esta nota: {nota} y fue aprobada\")\n",
    "    else:\n",
    "        print(f\"Debes repetir la asignatura {asignatura}\")\n",
    "for asignatura in pasadas:\n",
    "    asignaturas.remove(asignatura)"
   ]
  },
  {
   "cell_type": "markdown",
   "id": "13898adc",
   "metadata": {},
   "source": [
    "## Ejercicio 7\n",
    "Escribir un programa que almacene el abecedario en una lista, elimine de la lista las letras que ocupen posiciones múltiplos de 3, y muestre por pantalla la lista resultante."
   ]
  },
  {
   "cell_type": "code",
   "execution_count": 8,
   "id": "8b162718",
   "metadata": {},
   "outputs": [
    {
     "name": "stdout",
     "output_type": "stream",
     "text": [
      "la letra a se elimino, porque tiene indice 0\n",
      "la letra d se elimino, porque tiene indice 3\n",
      "la letra g se elimino, porque tiene indice 6\n",
      "la letra j se elimino, porque tiene indice 9\n"
     ]
    }
   ],
   "source": [
    "abcdario = ['a', 'b', 'c', 'd', 'e', 'f', 'g', 'h', 'i', 'j']\n",
    "for i in abcdario:\n",
    "    if abcdario.index(i) % 3 == 0:\n",
    "        print(f\"la letra {i} se elimino, porque tiene indice {abcdario.index(i)}\")\n",
    "abcdario.remove(i)"
   ]
  },
  {
   "cell_type": "markdown",
   "id": "59003453",
   "metadata": {},
   "source": [
    "## Ejercicio 8\n",
    "Escribir un programa que pida al usuario una palabra y muestre por pantalla si es un palíndromo."
   ]
  },
  {
   "cell_type": "code",
   "execution_count": 15,
   "id": "8953ac02",
   "metadata": {},
   "outputs": [
    {
     "name": "stdout",
     "output_type": "stream",
     "text": [
      "La palabra arañara es un palindromo\n"
     ]
    }
   ],
   "source": [
    "palabra = str(input(\"Ingrese su palabra: \"))\n",
    "arbalap = palabra[::-1]\n",
    "if palabra == arbalap:\n",
    "    print(f\"La palabra {palabra} es un palindromo\")\n",
    "else:\n",
    "    print(f\"La palabra {palabra} no es un palindromo\")"
   ]
  },
  {
   "cell_type": "markdown",
   "id": "bc302e16",
   "metadata": {},
   "source": [
    "## Ejercicio 9\n",
    "Escribir un programa que pida al usuario una palabra y muestre por pantalla el número de veces que contiene cada vocal."
   ]
  },
  {
   "cell_type": "code",
   "execution_count": null,
   "id": "68450dde",
   "metadata": {},
   "outputs": [
    {
     "name": "stdout",
     "output_type": "stream",
     "text": [
      "La letra a aparece 2 veces, en la palabra amar\n"
     ]
    }
   ],
   "source": [
    "palabra = str(input(\"Ingrese su palabra: \"))\n",
    "letra = str(input(\"Ingrese la letra: \"))\n",
    "conteo = 0\n",
    "for i in palabra:\n",
    "    if letra == i:\n",
    "        conteo += 1\n",
    "print(f\"La letra {letra} aparece {conteo} veces, en la palabra {palabra}\")"
   ]
  },
  {
   "cell_type": "markdown",
   "id": "3611e366",
   "metadata": {},
   "source": [
    "## Ejercicio 10\n",
    "Escribir un programa que almacene en una lista los siguientes precios, 50, 75, 46, 22, 80, 65, 8, y muestre por pantalla el menor y el mayor de los precios."
   ]
  },
  {
   "cell_type": "code",
   "execution_count": 2,
   "id": "d5e614c9",
   "metadata": {},
   "outputs": [
    {
     "name": "stdout",
     "output_type": "stream",
     "text": [
      "El menor precio es 8 y el mayor precio es 80\n"
     ]
    }
   ],
   "source": [
    "precios = [50, 75, 46, 22, 80, 65, 8]\n",
    "precios.sort()\n",
    "print(f\"El menor precio es {precios[0]} y el mayor precio es {precios[-1]}\")"
   ]
  },
  {
   "cell_type": "code",
   "execution_count": 3,
   "id": "52291147",
   "metadata": {},
   "outputs": [
    {
     "name": "stdout",
     "output_type": "stream",
     "text": [
      "El mínimo es 8\n",
      "El máximo es 80\n"
     ]
    }
   ],
   "source": [
    "prices = [50, 75, 46, 22, 80, 65, 8]\n",
    "min = max = prices[0]\n",
    "for price in prices:\n",
    "    if price < min:\n",
    "        min = price\n",
    "    elif price > max:\n",
    "        max = price \n",
    "print(\"El mínimo es \" + str(min)) \n",
    "print(\"El máximo es \" + str(max))"
   ]
  },
  {
   "cell_type": "markdown",
   "id": "8c997256",
   "metadata": {},
   "source": [
    "## Ejercicio 11\n",
    "Escribir un programa que almacene los vectores (1,2,3) y (-1,0,2) en dos listas y muestre por pantalla su producto escalar."
   ]
  },
  {
   "cell_type": "code",
   "execution_count": 18,
   "id": "ed036c0d",
   "metadata": {},
   "outputs": [
    {
     "name": "stdout",
     "output_type": "stream",
     "text": [
      "5\n"
     ]
    }
   ],
   "source": [
    "u1 = (1,2,3)\n",
    "u2 = (-1,0,2)\n",
    "v1 = list(u1)\n",
    "v2 = list(u2)\n",
    "k = 0\n",
    "for i in v1:\n",
    "    for j in v2:\n",
    "        if v1.index(i) == v2.index(j):\n",
    "            k += i*j\n",
    "print(k)"
   ]
  },
  {
   "cell_type": "markdown",
   "id": "a830daa4",
   "metadata": {},
   "source": [
    "## Ejercicio 12\n",
    "Escribir un programa que almacene las matrices\n",
    "\n",
    "<math xmlns=\"http://www.w3.org/1998/Math/MathML\" display=\"block\">\n",
    "  <mi>A</mi>\n",
    "  <mo>=</mo>\n",
    "  <mrow data-mjx-texclass=\"INNER\">\n",
    "    <mo data-mjx-texclass=\"OPEN\">(</mo>\n",
    "    <mtable columnalign=\"right right right\" columnspacing=\"1em\" rowspacing=\"4pt\">\n",
    "      <mtr>\n",
    "        <mtd>\n",
    "          <mn>1</mn>\n",
    "        </mtd>\n",
    "        <mtd>\n",
    "          <mn>2</mn>\n",
    "        </mtd>\n",
    "        <mtd>\n",
    "          <mn>3</mn>\n",
    "        </mtd>\n",
    "      </mtr>\n",
    "      <mtr>\n",
    "        <mtd>\n",
    "          <mn>4</mn>\n",
    "        </mtd>\n",
    "        <mtd>\n",
    "          <mn>5</mn>\n",
    "        </mtd>\n",
    "        <mtd>\n",
    "          <mn>6</mn>\n",
    "        </mtd>\n",
    "      </mtr>\n",
    "    </mtable>\n",
    "    <mo data-mjx-texclass=\"CLOSE\">)</mo>\n",
    "  </mrow>\n",
    "  <mstyle scriptlevel=\"0\">\n",
    "    <mspace width=\"1em\"></mspace>\n",
    "  </mstyle>\n",
    "  <mi>y</mi>\n",
    "  <mstyle scriptlevel=\"0\">\n",
    "    <mspace width=\"1em\"></mspace>\n",
    "  </mstyle>\n",
    "  <mi>B</mi>\n",
    "  <mo>=</mo>\n",
    "  <mrow data-mjx-texclass=\"INNER\">\n",
    "    <mo data-mjx-texclass=\"OPEN\">(</mo>\n",
    "    <mtable columnalign=\"right right\" columnspacing=\"1em\" rowspacing=\"4pt\">\n",
    "      <mtr>\n",
    "        <mtd>\n",
    "          <mo>&#x2212;</mo>\n",
    "          <mn>1</mn>\n",
    "        </mtd>\n",
    "        <mtd>\n",
    "          <mn>0</mn>\n",
    "        </mtd>\n",
    "      </mtr>\n",
    "      <mtr>\n",
    "        <mtd>\n",
    "          <mn>0</mn>\n",
    "        </mtd>\n",
    "        <mtd>\n",
    "          <mn>1</mn>\n",
    "        </mtd>\n",
    "      </mtr>\n",
    "      <mtr>\n",
    "        <mtd>\n",
    "          <mn>1</mn>\n",
    "        </mtd>\n",
    "        <mtd>\n",
    "          <mn>1</mn>\n",
    "        </mtd>\n",
    "      </mtr>\n",
    "    </mtable>\n",
    "    <mo data-mjx-texclass=\"CLOSE\">)</mo>\n",
    "  </mrow>\n",
    "</math>\n",
    " \n",
    "en una lista y muestre por pantalla su producto.\n",
    "Nota: Para representar matrices mediante listas usar listas anidadas, representando cada vector fila en una lista."
   ]
  },
  {
   "cell_type": "code",
   "execution_count": null,
   "id": "847ef043",
   "metadata": {},
   "outputs": [
    {
     "name": "stdout",
     "output_type": "stream",
     "text": [
      "(2, 5)\n",
      "(2, 11)\n"
     ]
    }
   ],
   "source": [
    "a = ((1,2,3),(4,5,6))\n",
    "b = ((-1,0), (0,1), (1,1))\n",
    "result = [[0,0], [0,0]]\n",
    "\n",
    "for i in range(len(a)):\n",
    "    for j in range(len(b[0])):\n",
    "        for k in range(len(b)):\n",
    "            result[i][j] += (a[i][k]*b[k][j])\n",
    "\n",
    "for i in range(len(result)):\n",
    "    result[i] = tuple(result[i])\n",
    "result = tuple(result)\n",
    "for i in range(len(result)):\n",
    "    print(result[i])"
   ]
  },
  {
   "cell_type": "markdown",
   "id": "308b1881",
   "metadata": {},
   "source": [
    "## Ejercicio 13\n",
    "Escribir un programa que pregunte por una muestra de números, separados por comas, los guarde en una lista y muestre por pantalla su media y desviación típica."
   ]
  },
  {
   "cell_type": "code",
   "execution_count": 8,
   "id": "d44098c4",
   "metadata": {},
   "outputs": [
    {
     "name": "stdout",
     "output_type": "stream",
     "text": [
      "Su media es de 5.0 y su desviacion tipica es 6.666666666666667\n"
     ]
    }
   ],
   "source": [
    "lista = input(\"Inrese su lista de numeros por comas: \")\n",
    "lista = lista.split(\",\")\n",
    "n = len(lista)\n",
    "for p in range(n):\n",
    "    lista[p] = int(lista[p])\n",
    "j = 0\n",
    "m = 0\n",
    "for i in lista:\n",
    "    j += i\n",
    "u = j/len(lista)\n",
    "\n",
    "for k in lista:\n",
    "    m += (k-u)**2\n",
    "d = m/len(lista)\n",
    "\n",
    "print(f\"Su media es de {u} y su desviacion tipica es {d}\")"
   ]
  },
  {
   "cell_type": "markdown",
   "id": "53b38249",
   "metadata": {},
   "source": [
    "## Ejercicios de diccionarios"
   ]
  },
  {
   "cell_type": "markdown",
   "id": "5f5c7771",
   "metadata": {},
   "source": [
    "## Ejercicio 1\n",
    "Escribir un programa que guarde en una variable el diccionario {'Euro':'€', 'Dollar':'$', 'Yen':'¥'}, pregunte al usuario por una divisa y muestre su símbolo o un mensaje de aviso si la divisa no está en el diccionario."
   ]
  },
  {
   "cell_type": "code",
   "execution_count": 1,
   "id": "ba8c171b",
   "metadata": {},
   "outputs": [
    {
     "name": "stdout",
     "output_type": "stream",
     "text": [
      "¥\n"
     ]
    }
   ],
   "source": [
    "monedas = {'Euro':'€', 'Dollar':'$', 'Yen':'¥'}\n",
    "moneda = input(\"Introduce una divisa: \")\n",
    "print(monedas.get(moneda.title(), \"La divisa no está.\"))"
   ]
  },
  {
   "cell_type": "markdown",
   "id": "2cdda2a3",
   "metadata": {},
   "source": [
    "## Ejercicio 2\n",
    "Escribir un programa que pregunte al usuario su nombre, edad, dirección y teléfono y lo guarde en un diccionario. Después debe mostrar por pantalla el mensaje <nombre> tiene <edad> años, vive en <dirección> y su número de teléfono es <teléfono>."
   ]
  },
  {
   "cell_type": "code",
   "execution_count": 2,
   "id": "8bb9345b",
   "metadata": {},
   "outputs": [
    {
     "name": "stdout",
     "output_type": "stream",
     "text": [
      "Te llamas Randolph, tu edad es de 29 vives en esta direccion Call 32C #17-75 y tu telefono es 3013587938\n"
     ]
    }
   ],
   "source": [
    "nombre = str(input(\"Cual es tu nombre?\"))\n",
    "edad = int(input(\"Cual es tu edad?\"))\n",
    "direccion = str(input(\"Cual es tu direccion?\"))\n",
    "telefono = int(input(\"Cual es tu numero de telefono o celular\"))\n",
    "persona = {'nombre': nombre, 'edad': edad, 'direccion': direccion, 'telefono':telefono}\n",
    "print(f\"Te llamas {persona['nombre']}, tu edad es de {persona['edad']} vives en esta direccion {persona['direccion']} y tu telefono es {persona['telefono']}\")"
   ]
  },
  {
   "cell_type": "markdown",
   "id": "44865a3f",
   "metadata": {},
   "source": [
    "## Ejercicio 3\n",
    "Escribir un programa que guarde en un diccionario los precios de las frutas de la tabla, pregunte al usuario por una fruta, un número de kilos y muestre por pantalla el precio de ese número de kilos de fruta. Si la fruta no está en el diccionario debe mostrar un mensaje informando de ello.\n",
    "\n",
    "```\n",
    "Fruta\tPrecio\n",
    "Plátano\t 1.35\n",
    "Manzana\t 0.80\n",
    "Pera\t 0.85\n",
    "Naranja\t 0.70\n",
    "```"
   ]
  },
  {
   "cell_type": "code",
   "execution_count": 3,
   "id": "f9dd7be8",
   "metadata": {},
   "outputs": [
    {
     "name": "stdout",
     "output_type": "stream",
     "text": [
      "El precio de 2 kilos de Manzana es: $1.60\n"
     ]
    }
   ],
   "source": [
    "fruta = str(input(\"Ingrese la fruta\"))\n",
    "cantidad = int(input(\"Cuantos kilos desea llevar\"))\n",
    "\n",
    "frutas = {'Platano':1.35, 'Manzana':0.80, 'Pera':0.85, 'Naranja':0.70}\n",
    "if fruta in frutas:\n",
    "    precio = frutas[fruta]\n",
    "    total = cantidad * precio\n",
    "    print(f\"El precio de {cantidad} kilos de {fruta} es: ${total:.2f}\")\n",
    "else:\n",
    "    print(\"la fruta no esta en la lista\")"
   ]
  },
  {
   "cell_type": "markdown",
   "id": "328c85c9",
   "metadata": {},
   "source": [
    "## Ejercicio 4\n",
    "Escribir un programa que pregunte una fecha en formato dd/mm/aaaa y muestre por pantalla la misma fecha en formato dd de <mes> de aaaa donde <mes> es el nombre del mes."
   ]
  },
  {
   "cell_type": "code",
   "execution_count": 7,
   "id": "fbefab08",
   "metadata": {},
   "outputs": [
    {
     "name": "stdout",
     "output_type": "stream",
     "text": [
      "01 de enero de 2001\n"
     ]
    }
   ],
   "source": [
    "meses = {\n",
    "    '01': 'enero',\n",
    "    '02': 'febrero',\n",
    "    '03': 'marzo',\n",
    "    '04': 'abril',\n",
    "    '05': 'mayo',\n",
    "    '06': 'junio',\n",
    "    '07': 'julio',\n",
    "    '08': 'agosto',\n",
    "    '09': 'septiembre',\n",
    "    '10': 'octubre',\n",
    "    '11': 'noviembre',\n",
    "    '12': 'diciembre'\n",
    "}\n",
    "\n",
    "fecha = input(\"Ingrese la fecha en formato dd/mm/aaaa: \")\n",
    "partes = fecha.split('/')\n",
    "\n",
    "if len(partes) == 3 and partes[1] in meses:\n",
    "    dia, mes, año = partes\n",
    "    print(f\"{dia} de {meses[mes]} de {año}\")\n",
    "else:\n",
    "    print(\"Formato de fecha inválido o mes no reconocido.\")"
   ]
  },
  {
   "cell_type": "markdown",
   "id": "d89c928b",
   "metadata": {},
   "source": [
    "## Ejercicio 5\n",
    "Escribir un programa que almacene el diccionario con los créditos de las asignaturas de un curso {'Matemáticas': 6, 'Física': 4, 'Química': 5} y después muestre por pantalla los créditos de cada asignatura en el formato <asignatura> tiene <créditos> créditos, donde <asignatura> es cada una de las asignaturas del curso, y <créditos> son sus créditos. Al final debe mostrar también el número total de créditos del curso."
   ]
  },
  {
   "cell_type": "code",
   "execution_count": 5,
   "id": "227bea1d",
   "metadata": {},
   "outputs": [
    {
     "name": "stdout",
     "output_type": "stream",
     "text": [
      "Matemáticas tiene 6 créditos\n",
      "Física tiene 4 créditos\n",
      "Química tiene 5 créditos\n",
      "Número total de créditos del curso:  15\n"
     ]
    }
   ],
   "source": [
    "curso = {'Matemáticas': 6, 'Física': 4, 'Química': 5}\n",
    "total_creditos = 0\n",
    "for asignatura, creditos in curso.items():\n",
    "    print(asignatura, 'tiene', creditos, 'créditos')\n",
    "    total_creditos += creditos\n",
    "print('Número total de créditos del curso: ', total_creditos)"
   ]
  },
  {
   "cell_type": "markdown",
   "id": "e9bf3253",
   "metadata": {},
   "source": [
    "## Ejercicio 6\n",
    "Escribir un programa que cree un diccionario vacío y lo vaya llenado con información sobre una persona (por ejemplo nombre, edad, sexo, teléfono, correo electrónico, etc.) que se le pida al usuario. Cada vez que se añada un nuevo dato debe imprimirse el contenido del diccionario."
   ]
  },
  {
   "cell_type": "code",
   "execution_count": null,
   "id": "990bc3e8",
   "metadata": {},
   "outputs": [
    {
     "name": "stdout",
     "output_type": "stream",
     "text": [
      "{'Nombre': 'Randolph'}\n"
     ]
    }
   ],
   "source": [
    "persona= {}\n",
    "continuar = True\n",
    "while continuar:\n",
    "    clave = input(\"Ingrese el dato que desea guardar\")\n",
    "    valor = input(clave + ': ')\n",
    "    persona[clave] = valor\n",
    "    print(persona)\n",
    "    conitnuar = input(\"Deseas continuar Si / No?\")\n",
    "    if continuar == 'Si':\n",
    "        continue\n",
    "    else:\n",
    "        break"
   ]
  },
  {
   "cell_type": "markdown",
   "id": "e7177d86",
   "metadata": {},
   "source": [
    "## Ejercicio 7\n",
    "Escribir un programa que cree un diccionario simulando una cesta de la compra. El programa debe preguntar el artículo y su precio y añadir el par al diccionario, hasta que el usuario decida terminar. Después se debe mostrar por pantalla la lista de la compra y el coste total, con el siguiente formato\n",
    "\n",
    "```\n",
    "Lista de la compra\t\n",
    "\n",
    "Artículo 1\tPrecio\n",
    "Artículo 2\tPrecio\n",
    "Artículo 3\tPrecio\n",
    "…\t…  ... ... ...\n",
    "Total\t    Coste\n",
    "```"
   ]
  },
  {
   "cell_type": "code",
   "execution_count": 1,
   "id": "24ebe9b6",
   "metadata": {},
   "outputs": [
    {
     "name": "stdout",
     "output_type": "stream",
     "text": [
      "Lista de la compra\n",
      "Mesa \t 100.0\n",
      "Silla \t 200.0\n",
      "Coste total:  300.0\n"
     ]
    }
   ],
   "source": [
    "cesta = {}\n",
    "continuar = True\n",
    "while continuar:\n",
    "    item = input('Introduce un artículo: ')\n",
    "    precio = float(input('Introduce el precio de ' + item + ': '))\n",
    "    cesta[item] = precio\n",
    "    continuar = input('¿Quieres añadir artículos a la lista (Si/No)? ') == \"Si\"\n",
    "coste = 0\n",
    "print('Lista de la compra')\n",
    "for item, precio in cesta.items():\n",
    "    print(item, '\\t', precio)\n",
    "    coste += precio\n",
    "print('Coste total: ', coste)"
   ]
  },
  {
   "cell_type": "code",
   "execution_count": 1,
   "id": "29c0041f",
   "metadata": {},
   "outputs": [
    {
     "name": "stdout",
     "output_type": "stream",
     "text": [
      "Plato-------------500.0\n"
     ]
    }
   ],
   "source": [
    "cesta = {}\n",
    "\n",
    "bandera = \"s\"\n",
    "total = 0\n",
    "while bandera == \"s\":\n",
    "    articulo = str(input(\"Nombre del articulo: \\n\"))\n",
    "    precio = float(input(\"Precio del articulo: $\"))\n",
    "\n",
    "    cesta[articulo] = precio\n",
    "\n",
    "    bandera = str(input(\"Quiere agregar este articulo? prsiona (s) de lo contrario (n)\"))\n",
    "\n",
    "for i in cesta:\n",
    "    print(i + \"-------------\" + str(cesta[i]))"
   ]
  },
  {
   "cell_type": "markdown",
   "id": "dd01d1ca",
   "metadata": {},
   "source": [
    "## Ejercicio 8\n",
    "Escribir un programa que cree un diccionario de traducción español-inglés. El usuario introducirá las palabras en español e inglés separadas por dos puntos, y cada par palabra:traducción separados por comas. El programa debe crear un diccionario con las palabras y sus traducciones. Después pedirá una frase en español y utilizará el diccionario para traducirla palabra a palabra. Si una palabra no está en el diccionario debe dejarla sin traducir."
   ]
  },
  {
   "cell_type": "code",
   "execution_count": 1,
   "id": "2e728a2c",
   "metadata": {},
   "outputs": [
    {
     "name": "stdout",
     "output_type": "stream",
     "text": [
      " Red "
     ]
    }
   ],
   "source": [
    "diccionario = {}\n",
    "palabras = input(\"Introduce la lista de palabras y traducciones en formato palabra:traducción separadas por comas: \")\n",
    "for i in palabras.split(','):\n",
    "    clave, valor = i.split(':')\n",
    "    diccionario[clave] = valor\n",
    "frase = input('Introduce una frase en español: ')\n",
    "for i in frase.split():\n",
    "    if i in diccionario:\n",
    "        print(diccionario[i], end=' ')\n",
    "    else:\n",
    "        print(i, end=' ')"
   ]
  },
  {
   "cell_type": "markdown",
   "id": "4a9d756d",
   "metadata": {},
   "source": [
    "## Ejercicio 9\n",
    "Escribir un programa que gestione las facturas pendientes de cobro de una empresa. Las facturas se almacenarán en un diccionario donde la clave de cada factura será el número de factura y el valor el coste de la factura. El programa debe preguntar al usuario si quiere añadir una nueva factura, pagar una existente o terminar. Si desea añadir una nueva factura se preguntará por el número de factura y su coste y se añadirá al diccionario. Si se desea pagar una factura se preguntará por el número de factura y se eliminará del diccionario. Después de cada operación el programa debe mostrar por pantalla la cantidad cobrada hasta el momento y la cantidad pendiente de cobro."
   ]
  },
  {
   "cell_type": "code",
   "execution_count": 2,
   "id": "407368ad",
   "metadata": {},
   "outputs": [
    {
     "name": "stdout",
     "output_type": "stream",
     "text": [
      "Pendiente: $5432.0\n",
      "Cobrado el dia de hoy: $0\n",
      "Pendiente: $5432.0\n",
      "Cobrado el dia de hoy: $0\n",
      "\n",
      "\n"
     ]
    }
   ],
   "source": [
    "facturas = {}\n",
    "bandera = \"s\"\n",
    "pendiente = 0\n",
    "cobrado = 0\n",
    "\n",
    "while bandera == \"s\":\n",
    "    op = input(\"MENU\\nQue accion deseas realizar:\\n1-Agregar factura\\n2-Pagar factura\\n3.-SALIR\")\n",
    "\n",
    "    if op == \"1\":\n",
    "        numf = int(input(\"AGREGAR FACTURA\\nNumero de factura:\\n\"))\n",
    "        valor = float(input(\"Importe de factura:\\n\"))\n",
    "        facturas[numf] = valor\n",
    "        pendiente += valor\n",
    "        print(\"Pendiente: $\" + str(pendiente))\n",
    "        print(\"Cobrado el dia de hoy: $\" + str(cobrado))\n",
    "\n",
    "    elif op == \"2\":\n",
    "        numf = int(input(\"PAGAR FACTURA\\nEscribe el numero de factura:\\n\"))\n",
    "        if numf in facturas:\n",
    "            pendiente -= facturas[numf]\n",
    "            cobrado += facturas[numf]\n",
    "        else:\n",
    "            print(\"ERROR: No se encontro la factura\")\n",
    "            \n",
    "        print(\"Pendiente: $\" + str(pendiente))\n",
    "        print(\"Cobrado el dia de hoy: $\" + str(cobrado))\n",
    "\n",
    "    elif op == \"3\":\n",
    "        print(\"Pendiente: $\" + str(pendiente))\n",
    "        print(\"Cobrado el dia de hoy: $\" + str(cobrado) + \"\\n\\n\")\n",
    "        bandera = \"n\""
   ]
  },
  {
   "cell_type": "markdown",
   "id": "6bc46e00",
   "metadata": {},
   "source": [
    "## Ejercicio 10\n",
    "Escribir un programa que permita gestionar la base de datos de clientes de una empresa. Los clientes se guardarán en un diccionario en el que la clave de cada cliente será su NIF, y el valor será otro diccionario con los datos del cliente (nombre, dirección, teléfono, correo, preferente), donde preferente tendrá el valor True si se trata de un cliente preferente. El programa debe preguntar al usuario por una opción del siguiente menú: (1) Añadir cliente, (2) Eliminar cliente, (3) Mostrar cliente, (4) Listar todos los clientes, (5) Listar clientes preferentes, (6) Terminar. En función de la opción elegida el programa tendrá que hacer lo siguiente:\n",
    "\n",
    "1. Preguntar los datos del cliente, crear un diccionario con los datos y añadirlo a la base de datos.\n",
    "2. Preguntar por el NIF del cliente y eliminar sus datos de la base de datos.\n",
    "3. Preguntar por el NIF del cliente y mostrar sus datos.\n",
    "4. Mostrar lista de todos los clientes de la base datos con su NIF y nombre.\n",
    "5. Mostrar la lista de clientes preferentes de la base de datos con su NIF y nombre.\n",
    "6. Terminar el programa."
   ]
  },
  {
   "cell_type": "code",
   "execution_count": null,
   "id": "ef2a4b6a",
   "metadata": {},
   "outputs": [
    {
     "name": "stdout",
     "output_type": "stream",
     "text": [
      "opcion 1\n",
      "opcion 2\n",
      "Este usuario no existe\n",
      "\n",
      "USUARIO ELIMINADO\n",
      "\n"
     ]
    }
   ],
   "source": [
    "clientes = {}\n",
    "bandera = \"s\"\n",
    "\n",
    "while bandera == \"s\":\n",
    "    op = input(\"MENU\\nQue opcion deseas realizar\\n(1)Agregar cliente\\n(2)Eliminar cliente\\n(3)Muestre cliente\\n(4)Listar todos los clientes\\n(5)Listar clientes referentes\\n(6)Salir\")\n",
    "\n",
    "    if op == \"1\":\n",
    "        print(\"opcion 1\")\n",
    "        nif = input(\"NIF: \")\n",
    "        nombre = input(\"Nombre\")\n",
    "        direccion = input(\"Direccion\")\n",
    "        telefono = input(\"Telefono\")\n",
    "        correo = input(\"Correo\")\n",
    "        preferente = input(\"Es usuari prefente?(true/false): \")\n",
    "        preferente = preferente.lower()\n",
    "        cliente = {\"nombre\": nombre, \"direccion\": correo, \"telefono\": telefono, \"correo\": correo, \"preferente\": preferente}\n",
    "        cliente[nif] = cliente\n",
    "    \n",
    "    elif op == \"2\":\n",
    "        print(\"opcion 2\")\n",
    "        nif = input(\"\\nELIMINAR USUARIO\\nEscribir el NIF del usuario:\\n\")\n",
    "        if nif in clientes:\n",
    "            for clave, valor in clientes[nif].items():\n",
    "                print(clave + \" : \" + clave)\n",
    "                del(clientes[nif])\n",
    "        else:\n",
    "            print(\"Este usuario no existe\\n\")\n",
    "        print(\"USUARIO ELIMINADO\\n\")\n",
    "        \n",
    "    elif op == \"3\":\n",
    "        print(\"opcion 3\")\n",
    "        nif = input(\"\\nBUSCAR CLIENTE\\nEscribe el NIF del usuario:\\n\")\n",
    "        if nif in clientes:\n",
    "            for clave, valor in clientes[nif].items():\n",
    "                print(clave + \" : \" + valor)\n",
    "        else:\n",
    "            print(\"Este usuario no existe\\n\")\n",
    "        print(\"\\n\")\n",
    "    \n",
    "    elif op == \"4\":\n",
    "        for nif in clientes:\n",
    "                print(\"-----------------\")\n",
    "                for clave, valor in clientes[nif].items():\n",
    "                    print(clave + \" : \" + valor)\n",
    "\n",
    "\n",
    "    elif op == \"5\":\n",
    "        print(\"opcion 5\")\n",
    "        for j in clientes:\n",
    "            for k in clientes[j].items():\n",
    "                if \"true\" in k:\n",
    "                    for y in clientes[j].items():\n",
    "                        if \"nombre\" in y:\n",
    "                            clave = y[0].title()\n",
    "                            valor = y[1].title()\n",
    "                            print(\"USUARIO VIP: \" + j + clave + \":\" + valor + \"\\n\")\n",
    "        \n",
    "    \n",
    "    elif op == \"6\":\n",
    "        bandera = \"n\"\n"
   ]
  },
  {
   "cell_type": "code",
   "execution_count": null,
   "id": "5145620c",
   "metadata": {},
   "outputs": [],
   "source": [
    "clientes = {}\n",
    "opcion = ''\n",
    "while opcion != '6':\n",
    "    if opcion == '1':\n",
    "        nif = input('Introduce NIF del cliente: ')\n",
    "        nombre = input('Introduce el nombre del cliente: ')\n",
    "        direccion = input('Introduce la dirección del cliente: ')\n",
    "        telefono = input('Introduce el teléfono del cliente: ')\n",
    "        email = input('Introduce el correo electrónico del cliente: ')\n",
    "        vip = input('¿Es un cliente preferente (S/N)? ')\n",
    "        cliente = {'nombre':nombre, 'dirección':direccion, 'teléfono':telefono, 'email':email, 'preferente':vip=='S'}\n",
    "        clientes[nif] = cliente\n",
    "    if opcion == '2':\n",
    "        nif = input('Introduce NIF del cliente: ')\n",
    "        if nif in clientes:\n",
    "            del clientes[nif]\n",
    "        else:\n",
    "            print('No existe el cliente con el nif', nif)\n",
    "    if opcion == '3':\n",
    "        nif = input('Introduce NIF del cliente: ')\n",
    "        if nif in clientes:\n",
    "            print('NIF:', nif)\n",
    "            for clave, valor in clientes[nif].items():\n",
    "                print(clave.title() + ':', valor)\n",
    "        else:\n",
    "            print('No existe el cliente con el nif', nif)\n",
    "    if opcion == '4':\n",
    "        print('Lista de clientes')\n",
    "        for clave, valor in clientes.items():\n",
    "            print(clave, valor['nombre'])\n",
    "    if opcion == '5':\n",
    "        print('Lista de clientes preferentes')\n",
    "        for clave, valor in clientes.items():\n",
    "            if valor['preferente']:\n",
    "                print(clave, valor['nombre'])\n",
    "    opcion = input('Menú de opciones\\n(1) Añadir cliente\\n(2) Eliminar cliente\\n(3) Mostrar cliente\\n(4) Listar clientes\\n(5) Listar clientes preferentes\\n(6) Terminar\\nElige una opción:')\n"
   ]
  },
  {
   "cell_type": "markdown",
   "id": "64f8f4e5",
   "metadata": {},
   "source": [
    "## Ejercicio 11\n",
    "El directorio de los clientes de una empresa está organizado en una cadena de texto como la de más abajo, donde cada línea contiene la información del nombre, email, teléfono, nif, y el descuento que se le aplica. Las líneas se separan con el carácter de cambio de línea \\n y la primera línea contiene los nombres de los campos con la información contenida en el directorio."
   ]
  },
  {
   "cell_type": "markdown",
   "id": "6992664d",
   "metadata": {},
   "source": [
    "\"nif;nombre;email;teléfono;descuento\\n01234567L;Luis González;luisgonzalez@mail.com;656343576;12.5\\n71476342J;Macarena Ramírez;macarena@mail.com;692839321;8\\n63823376M;Juan José Martínez;juanjo@mail.com;664888233;5.2\\n98376547F;Carmen Sánchez;carmen@mail.com;667677855;15.7\""
   ]
  },
  {
   "cell_type": "markdown",
   "id": "944a9fd6",
   "metadata": {},
   "source": [
    "Escribir un programa que genere un diccionario con la información del directorio, donde cada elemento corresponda a un cliente y tenga por clave su nif y por valor otro diccionario con el resto de la información del cliente. Los diccionarios con la información de cada cliente tendrán como claves los nombres de los campos y como valores la información de cada cliente correspondientes a los campos. Es decir, un diccionario como el siguiente"
   ]
  },
  {
   "cell_type": "markdown",
   "id": "09f95358",
   "metadata": {},
   "source": [
    "{'01234567L': {'nombre': 'Luis González', 'email': 'luisgonzalez@mail.com', 'teléfono': '656343576', 'descuento': 12.5}, '71476342J': {'nombre': 'Macarena Ramírez', 'email': 'macarena@mail.com', 'teléfono': '692839321', 'descuento': 8.0}, '63823376M': {'nombre': 'Juan José Martínez', 'email': 'juanjo@mail.com', 'teléfono': '664888233', 'descuento': 5.2}, '98376547F': {'nombre': 'Carmen Sánchez', 'email': 'carmen@mail.com', 'teléfono': '667677855', 'descuento': 15.7}}"
   ]
  },
  {
   "cell_type": "code",
   "execution_count": 2,
   "id": "95b057ae",
   "metadata": {},
   "outputs": [
    {
     "name": "stdout",
     "output_type": "stream",
     "text": [
      "{'01234567L': {'descuento': '12.5'}, '71476342J': {'descuento': '8'}, '63823376M': {'descuento': '5.2'}, '98376547F': {'descuento': '15.7'}}\n"
     ]
    }
   ],
   "source": [
    "directorioCad = \"nif;nombre;email;teléfono;descuento\\n01234567L;Luis González;luisgonzalez@mail.com;656343576;12.5\\n71476342J;Macarena Ramírez;macarena@mail.com;692839321;8\\n63823376M;Juan José Martínez;juanjo@mail.com;664888233;5.2\\n98376547F;Carmen Sánchez;carmen@mail.com;667677855;15.7\"\n",
    "DirectorioD = {}\n",
    "\n",
    "lista_clientes = directorioCad.split(\"\\n\")\n",
    "lista_campos = lista_clientes[0].split(\";\")\n",
    "\n",
    "for i in lista_clientes[1:]:\n",
    "    diccionario_cliente = {}\n",
    "    lista_cliente = i.split(\";\")\n",
    "    for j in range(len(lista_cliente)):\n",
    "        if j == 0:\n",
    "            nif = lista_cliente[j]\n",
    "    else:\n",
    "        diccionario_cliente[lista_campos[j]] = lista_cliente[j]\n",
    "    DirectorioD[nif] = diccionario_cliente\n",
    "\n",
    "print(DirectorioD)    "
   ]
  },
  {
   "cell_type": "markdown",
   "id": "fc6892aa",
   "metadata": {},
   "source": [
    "## -- Ejercicios de diccionarios\n",
    "## Ejercicio 1 Permalink\n",
    "Escribe un programa python que pida un número por teclado y que cree un diccionario cuyas claves sean desde el número 1 hasta el número indicado, y los valores sean los cuadrados de las claves."
   ]
  },
  {
   "cell_type": "code",
   "execution_count": 4,
   "id": "f9b0763d",
   "metadata": {},
   "outputs": [
    {
     "name": "stdout",
     "output_type": "stream",
     "text": [
      "{1: 1, 2: 4, 3: 9, 4: 16, 5: 25, 6: 36}\n"
     ]
    }
   ],
   "source": [
    "numero = int(input(\"Escriba un numero\"))\n",
    "diccionario ={}\n",
    "\n",
    "for i in range(1, numero+1):\n",
    "    diccionario[i] = i*i\n",
    "\n",
    "print(diccionario)"
   ]
  },
  {
   "cell_type": "markdown",
   "id": "ccab00e7",
   "metadata": {},
   "source": [
    "## Ejercicio 2 Permalink\n",
    "Escribe un programa que lea una cadena y devuelva un diccionario con la cantidad de apariciones de cada carácter en la cadena."
   ]
  },
  {
   "cell_type": "code",
   "execution_count": 9,
   "id": "cdf7c521",
   "metadata": {},
   "outputs": [
    {
     "name": "stdout",
     "output_type": "stream",
     "text": [
      "La palabra que ingresaste fue pitagoras y este es tu diccionario {'p': 1, 'i': 1, 't': 1, 'a': 2, 'g': 1, 'o': 1, 'r': 1, 's': 1}\n"
     ]
    }
   ],
   "source": [
    "texto = input(\"introduce el texto: \")\n",
    "diccionario = {}\n",
    "\n",
    "for elemento in texto:\n",
    "    if elemento in diccionario:\n",
    "        diccionario[elemento] += 1\n",
    "    else:\n",
    "        diccionario[elemento] = 1\n",
    "\n",
    "print(f\"La palabra que ingresaste fue {texto} y este es tu diccionario {diccionario}\")"
   ]
  },
  {
   "cell_type": "markdown",
   "id": "f65db384",
   "metadata": {},
   "source": [
    "## Ejercicio 3 Permalink\n",
    "Vamos a crear un programa en python donde vamos a declarar un diccionario para guardar los precios de las distintas frutas. El programa pedirá el nombre de la fruta y la cantidad que se ha vendido y nos mostrará el precio final de la fruta a partir de los datos guardados en el diccionario. Si la fruta no existe nos dará un error. Tras cada consulta el programa nos preguntará si queremos hacer otra consulta."
   ]
  },
  {
   "cell_type": "code",
   "execution_count": 10,
   "id": "2a4ca6c7",
   "metadata": {},
   "outputs": [
    {
     "name": "stdout",
     "output_type": "stream",
     "text": [
      "Ha comprado 1 manzana su costo es de 500\n",
      "Ha comprado 4 pera su costo es de 1300\n",
      "Ha comprado 6 uva su costo es de 3100\n",
      "El total de su compra es 3100\n"
     ]
    }
   ],
   "source": [
    "diccionario = {\"manzana\": 500, \"pera\": 200, \"uva\": 300}\n",
    "bandera = \"s\"\n",
    "costo = 0\n",
    "while bandera == \"s\":\n",
    "   fruta = input(\"Que fruta desea comprar: \")\n",
    "   cantidad = int(input(\"Que cantidad desea comprar: \"))\n",
    "   if fruta in diccionario:\n",
    "      costo += diccionario[fruta]*cantidad\n",
    "   else:\n",
    "      print(\"la fruta no esta en el diccionario\")\n",
    "   \n",
    "\n",
    "   valor = input(\"Deseas continuar para hacer otra consulta: s/n\")\n",
    "   bandera = valor\n",
    "   print(f\"Ha comprado {cantidad} {fruta} su costo es de {costo}\")\n",
    "print(f\"El total de su compra es {costo}\")"
   ]
  },
  {
   "cell_type": "markdown",
   "id": "1de0883f",
   "metadata": {},
   "source": [
    "## Ejercicio 4 Permalink\n",
    "Codifica un programa en python que nos permita guardar los nombres de los alumnos de una clase y las notas que han obtenido. Cada alumno puede tener distinta cantidad de notas. Guarda la información en un diccionario cuya claves serán los nombres de los alumnos y los valores serán listas con las notas de cada alumno.\n",
    "\n",
    "El programa pedirá el número de alumnos que vamos a introducir, pedirá su nombre e irá pidiendo sus notas hasta que introduzcamos un número negativo. Al final el programa nos mostrará la lista de alumnos y la nota media obtenida por cada uno de ellos. Nota: si se introduce el nombre de un alumno que ya existe el programa nos dará un error."
   ]
  },
  {
   "cell_type": "code",
   "execution_count": null,
   "id": "5623b1bc",
   "metadata": {},
   "outputs": [],
   "source": [
    "alumnos = {}\n",
    "\n",
    "try:\n",
    "    num_alumnos = int(input(\"¿Cuántos alumnos vas a introducir? \"))\n",
    "except ValueError:\n",
    "    print(\"Por favor, introduce un número válido.\")\n",
    "\n",
    "for i in range(n):\n",
    "        nombre = input(f\"\\nIntroduce el nombre del alumno #{i + 1}: \").strip()\n",
    "        if nombre in alumnos:\n",
    "            print(\"❌ Error: El alumno ya existe. No se puede introducir dos veces.\")\n",
    "            continue\n",
    "\n",
    "        notas = []\n",
    "        while True:\n",
    "            try:\n",
    "                nota = float(input(f\"Introduce una nota para {nombre} (número negativo para terminar): \"))\n",
    "                if nota < 0:\n",
    "                    break\n",
    "                notas.append(nota)\n",
    "            except ValueError:\n",
    "                print(\"⚠️ Por favor, introduce una nota válida.\")\n",
    "\n",
    "        alumnos[nombre] = notas\n",
    "        \n",
    "alumnos"
   ]
  },
  {
   "cell_type": "code",
   "execution_count": null,
   "id": "61161027",
   "metadata": {},
   "outputs": [
    {
     "name": "stdout",
     "output_type": "stream",
     "text": [
      "{'Jose': [1, 2]}\n"
     ]
    }
   ],
   "source": [
    "nombre = input(\"Nombre del alumno: \")\n",
    "nota = int(input(\"Mencione su nota: \"))\n",
    "\n",
    "diccionario = {}\n",
    "\n",
    "if nombre in diccionario:\n",
    "    diccionario[nombre].append(nota)\n",
    "else:\n",
    "    diccionario[nombre] = [nota]\n",
    "\n",
    "print(diccionario)"
   ]
  },
  {
   "cell_type": "code",
   "execution_count": null,
   "id": "2a58a339",
   "metadata": {},
   "outputs": [],
   "source": [
    "def main():\n",
    "    alumnos = {}\n",
    "    try:\n",
    "        num_alumnos = int(input(\"¿Cuántos alumnos vas a introducir? \"))\n",
    "    except ValueError:\n",
    "        print(\"Por favor, introduce un número válido.\")\n",
    "        return\n",
    "\n",
    "    for i in range(num_alumnos):\n",
    "        nombre = input(f\"\\nIntroduce el nombre del alumno #{i + 1}: \").strip()\n",
    "        if nombre in alumnos:\n",
    "            print(\"❌ Error: El alumno ya existe. No se puede introducir dos veces.\")\n",
    "            continue\n",
    "\n",
    "        notas = []\n",
    "        while True:\n",
    "            try:\n",
    "                nota = float(input(f\"Introduce una nota para {nombre} (número negativo para terminar): \"))\n",
    "                if nota < 0:\n",
    "                    break\n",
    "                notas.append(nota)\n",
    "            except ValueError:\n",
    "                print(\"⚠️ Por favor, introduce una nota válida.\")\n",
    "\n",
    "        alumnos[nombre] = notas\n",
    "\n",
    "    print(\"\\n📊 Resultados:\")\n",
    "    for nombre, notas in alumnos.items():\n",
    "        if notas:\n",
    "            media = sum(notas) / len(notas)\n",
    "            print(f\"{nombre}: Media = {media:.2f}\")\n",
    "        else:\n",
    "            print(f\"{nombre}: No se introdujeron notas.\")\n",
    "\n",
    "if __name__ == \"__main__\":\n",
    "    main()"
   ]
  },
  {
   "cell_type": "markdown",
   "id": "7074a121",
   "metadata": {},
   "source": [
    "## Ejercicio 5 Permalink\n",
    "Escribir un programa que implemente una agenda. En la agenda se podrán guardar nombres y números de teléfono. El programa nos dará el siguiente menú:\n",
    "\n",
    "- Añadir/modificar: Nos pide un nombre. Si el nombre se encuentra en la agenda, debe mostrar el teléfono y, opcionalmente, permitir modificarlo si no es correcto. Si el nombre no se encuentra, debe permitir ingresar el teléfono correspondiente.\n",
    "- Buscar: Nos pide una cadena de caracteres, y nos muestras todos los contactos cuyos nombres comiencen por dicha cadena.\n",
    "- Borrar: Nos pide un nombre y si existe nos preguntará si queremos borrarlo de la agenda.\n",
    "- Listar: Nos muestra todos los contactos de la agenda."
   ]
  },
  {
   "cell_type": "code",
   "execution_count": 1,
   "id": "98416f0d",
   "metadata": {},
   "outputs": [
    {
     "name": "stdout",
     "output_type": "stream",
     "text": [
      "\n",
      "--- MENÚ AGENDA ---\n",
      "1. Añadir / Modificar\n",
      "2. Buscar\n",
      "3. Borrar\n",
      "4. Listar\n",
      "5. Salir\n",
      "Saliendo de la agenda...\n"
     ]
    }
   ],
   "source": [
    "agenda = {}\n",
    "\n",
    "while True:\n",
    "    print(\"\\n--- MENÚ AGENDA ---\")\n",
    "    print(\"1. Añadir / Modificar\")\n",
    "    print(\"2. Buscar\")\n",
    "    print(\"3. Borrar\")\n",
    "    print(\"4. Listar\")\n",
    "    print(\"5. Salir\")\n",
    "\n",
    "    opcion = input(\"Elige una opción: \")\n",
    "\n",
    "    if opcion == \"1\":\n",
    "        nombre = input(\"Introduce el nombre: \")\n",
    "        if nombre in agenda:\n",
    "            print(\"El teléfono actual de\", nombre, \"es:\", agenda[nombre])\n",
    "            cambiar = input(\"¿Quieres modificarlo? (s/n): \")\n",
    "            if cambiar.lower() == \"s\":\n",
    "                telefono = input(\"Introduce el nuevo teléfono: \")\n",
    "                agenda[nombre] = telefono\n",
    "        else:\n",
    "            telefono = input(\"Introduce el teléfono: \")\n",
    "            agenda[nombre] = telefono\n",
    "\n",
    "    elif opcion == \"2\":\n",
    "        cadena = input(\"Introduce el comienzo del nombre a buscar: \")\n",
    "        for nombre in agenda:\n",
    "            if nombre.startswith(cadena):\n",
    "                print(nombre, \"->\", agenda[nombre])\n",
    "\n",
    "    elif opcion == \"3\":\n",
    "        nombre = input(\"Introduce el nombre a borrar: \")\n",
    "        if nombre in agenda:\n",
    "            confirmar = input(\"¿Seguro que quieres borrarlo? (s/n): \")\n",
    "            if confirmar.lower() == \"s\":\n",
    "                del agenda[nombre]\n",
    "                print(\"Contacto eliminado.\")\n",
    "        else:\n",
    "            print(\"Ese contacto no existe.\")\n",
    "\n",
    "    elif opcion == \"4\":\n",
    "        if len(agenda) == 0:\n",
    "            print(\"La agenda está vacía.\")\n",
    "        else:\n",
    "            for nombre, telefono in agenda.items():\n",
    "                print(nombre, \"->\", telefono)\n",
    "\n",
    "    elif opcion == \"5\":\n",
    "        print(\"Saliendo de la agenda...\")\n",
    "        break\n",
    "\n",
    "    else:\n",
    "        print(\"Opción no válida. Intenta de nuevo.\")"
   ]
  },
  {
   "cell_type": "markdown",
   "id": "7642c732",
   "metadata": {},
   "source": [
    "## Ejercicio 1: agregar estudiantes y sus calificaciones a un diccionario\n",
    "Crea un programa que permita agregar nombres de estudiantes como claves y sus calificaciones como valores en un diccionario. Luego, imprime el diccionario."
   ]
  },
  {
   "cell_type": "code",
   "execution_count": 2,
   "id": "a9f61e80",
   "metadata": {},
   "outputs": [
    {
     "data": {
      "text/plain": [
       "{'Randolph': 5}"
      ]
     },
     "execution_count": 2,
     "metadata": {},
     "output_type": "execute_result"
    }
   ],
   "source": [
    "diccionario = {}\n",
    "\n",
    "bandera = \"si\"\n",
    "\n",
    "while bandera == \"si\":\n",
    "    nombre = input(\"Nombre del estudiante: \")\n",
    "    nota = int(input(\"Mencione la nota\"))\n",
    "    bandera = input(\"Deseas continuar si/no?\")\n",
    "\n",
    "diccionario[nombre] = nota\n",
    "\n",
    "diccionario"
   ]
  },
  {
   "cell_type": "code",
   "execution_count": null,
   "id": "23b573cd",
   "metadata": {},
   "outputs": [],
   "source": [
    "# Crear un diccionario vacío\n",
    "calificaciones = {}\n",
    "\n",
    "# Pedir el número de estudiantes\n",
    "num_estudiantes = int(input(\"¿Cuántos estudiantes quieres agregar?: \"))\n",
    "\n",
    "# Agregar estudiantes y calificaciones al diccionario\n",
    "for i in range(num_estudiantes):\n",
    "    nombre = input(f\"Introduce el nombre del estudiante {i + 1}: \")\n",
    "    calificacion = int(input(f\"Introduce la calificación de {nombre}: \"))\n",
    "    calificaciones[nombre] = calificacion\n",
    "\n",
    "# Mostrar el diccionario con las calificaciones\n",
    "print(\"Diccionario de estudiantes y calificaciones:\", calificaciones)"
   ]
  },
  {
   "cell_type": "markdown",
   "id": "df90d47a",
   "metadata": {},
   "source": [
    "## Ejercicio 2: buscar un valor en un diccionario\n",
    "Escribe un programa que permita al usuario buscar una clave en un diccionario de frutas y colores. Si la clave existe, muestra el color; de lo contrario, muestra un mensaje indicando que no se encontró."
   ]
  },
  {
   "cell_type": "code",
   "execution_count": 4,
   "id": "5f8aee8d",
   "metadata": {},
   "outputs": [
    {
     "name": "stdout",
     "output_type": "stream",
     "text": [
      "La fruta no esta en el diccionario\n"
     ]
    }
   ],
   "source": [
    "diccionario = {\"manzana\":\"rojo\", \"pera\":\"verde\", \"uva\":\"morada\"}\n",
    "\n",
    "nombre =input(\"Mecione la fruta: \")\n",
    "\n",
    "if nombre in diccionario:\n",
    "    fruta = diccionario[nombre]\n",
    "    print(fruta)\n",
    "else:\n",
    "    print(\"La fruta no esta en el diccionario\")"
   ]
  },
  {
   "cell_type": "markdown",
   "id": "5f10ce44",
   "metadata": {},
   "source": [
    "## Ejercicio 3: actualizar los precios de productos en un diccionario\n",
    "Escribe un programa que permita actualizar el precio de un producto en un diccionario de productos y precios. Si el producto no existe, se debe añadir."
   ]
  },
  {
   "cell_type": "code",
   "execution_count": 2,
   "id": "95cb724c",
   "metadata": {},
   "outputs": [
    {
     "data": {
      "text/plain": [
       "{'silla': 500, 'mesa': 200, 'portatil': 700}"
      ]
     },
     "execution_count": 2,
     "metadata": {},
     "output_type": "execute_result"
    }
   ],
   "source": [
    "diccionario = {\"silla\": 500, \"mesa\":600, \"portatil\":700}\n",
    "\n",
    "producto = input(\"Mencione el producto: \")\n",
    "\n",
    "if producto in diccionario:\n",
    "    precio = int(input(\"Actualice su precio: \"))\n",
    "    diccionario[producto] = precio\n",
    "else:\n",
    "    precio = int(input(\"Introduzca su precio: \"))\n",
    "    diccionario[producto] = precio\n",
    "\n",
    "diccionario\n"
   ]
  },
  {
   "cell_type": "markdown",
   "id": "34f2edc7",
   "metadata": {},
   "source": [
    "## Ejercicio 4: eliminar claves con valores negativos en un diccionario\n",
    "Escribe un programa que elimine las claves de un diccionario que tienen valores negativos. Usa un diccionario con números enteros como ejemplo."
   ]
  },
  {
   "cell_type": "code",
   "execution_count": 7,
   "metadata": {},
   "outputs": [
    {
     "data": {
      "text/plain": [
       "{'uno': 1, 'dos': 2, 'tres': 3, 'cuatro': 4}"
      ]
     },
     "execution_count": 7,
     "metadata": {},
     "output_type": "execute_result"
    }
   ],
   "source": [
    "diccionario = {\"uno\":1, \"dos\":2, \"menos-1\":-1, \"tres\":3, \"cuatro\":4}\n",
    "\n",
    "for numero in dict(diccionario):\n",
    "    valor = diccionario[numero]\n",
    "    if valor <0:\n",
    "        del(diccionario[numero])\n",
    "\n",
    "diccionario"
   ]
  },
  {
   "cell_type": "code",
   "execution_count": null,
   "id": "e209e59b",
   "metadata": {},
   "outputs": [],
   "source": [
    "# Definir un diccionario con números enteros\n",
    "numeros = {\n",
    "    \"a\": 5,\n",
    "    \"b\": -3,\n",
    "    \"c\": 8,\n",
    "    \"d\": -1\n",
    "}\n",
    "\n",
    "# Crear una lista de claves a eliminar\n",
    "claves_a_eliminar = [clave for clave, valor in numeros.items() if valor < 0]\n",
    "\n",
    "# Eliminar las claves con valores negativos\n",
    "for clave in claves_a_eliminar:\n",
    "    del numeros[clave]\n",
    "\n",
    "# Mostrar el diccionario actualizado\n",
    "print(\"Diccionario sin valores negativos:\", numeros)"
   ]
  },
  {
   "cell_type": "markdown",
   "id": "6b42b4f0",
   "metadata": {},
   "source": [
    "## Ejercicio 5: contar la frecuencia de letras en una palabra\n",
    "Escribe un programa que cuente cuántas veces aparece cada letra en una palabra dada por el usuario, usando un diccionario."
   ]
  },
  {
   "cell_type": "code",
   "execution_count": 8,
   "metadata": {},
   "outputs": [
    {
     "name": "stdout",
     "output_type": "stream",
     "text": [
      "La letra a en la palabra araña aparace 3 veces\n"
     ]
    }
   ],
   "source": [
    "palabra = input(\"Escriba la palabra\")\n",
    "letra = input(\"Introduzca la letra que desea mirar\")\n",
    "\n",
    "#busquedad = palabra.startswith(letra)\n",
    "\n",
    "conteo = 0\n",
    "\n",
    "for word in palabra:\n",
    "    if letra == word:\n",
    "        conteo += 1\n",
    "\n",
    "print(f\"La letra {letra} en la palabra {palabra} aparace {conteo} veces\")"
   ]
  },
  {
   "cell_type": "code",
   "execution_count": 9,
   "id": "10e34b7b",
   "metadata": {},
   "outputs": [
    {
     "name": "stdout",
     "output_type": "stream",
     "text": [
      "Frecuencia de letras: {'a': 3, 'r': 1, 'ñ': 1}\n"
     ]
    }
   ],
   "source": [
    "# Pedir una palabra al usuario\n",
    "palabra = input(\"Introduce una palabra: \")\n",
    "\n",
    "# Crear un diccionario para almacenar la frecuencia de letras\n",
    "frecuencia_letras = {}\n",
    "\n",
    "# Contar la frecuencia de cada letra\n",
    "for letra in palabra:\n",
    "    if letra in frecuencia_letras:\n",
    "        frecuencia_letras[letra] += 1\n",
    "    else:\n",
    "        frecuencia_letras[letra] = 1\n",
    "\n",
    "# Mostrar el diccionario con la frecuencia de letras\n",
    "print(\"Frecuencia de letras:\", frecuencia_letras)"
   ]
  },
  {
   "cell_type": "markdown",
   "id": "54dc4bbe",
   "metadata": {},
   "source": [
    "## Ejercicio 6: intercambiar claves y valores de un diccionario\n",
    "Escribe un programa que intercambie las claves y valores de un diccionario, es decir, que los valores pasen a ser las claves y las claves pasen a ser los valores."
   ]
  },
  {
   "cell_type": "code",
   "execution_count": 18,
   "metadata": {},
   "outputs": [
    {
     "name": "stdout",
     "output_type": "stream",
     "text": [
      "Diccionario invertido: {'Juan': 'nombre', 30: 'edad', 'Madrid': 'ciudad'}\n"
     ]
    }
   ],
   "source": [
    "# Definir un diccionario de ejemplo\n",
    "diccionario = {\n",
    "    \"nombre\": \"Juan\",\n",
    "    \"edad\": 30,\n",
    "    \"ciudad\": \"Madrid\"\n",
    "}\n",
    "\n",
    "# Intercambiar las claves y los valores\n",
    "diccionario_invertido = {valor: clave for clave, valor in diccionario.items()}\n",
    "\n",
    "# Mostrar el diccionario invertido\n",
    "print(\"Diccionario invertido:\", diccionario_invertido)"
   ]
  },
  {
   "cell_type": "markdown",
   "id": "2433c7e5",
   "metadata": {},
   "source": [
    "## 🔹 Nivel 1 – Muy Básico (entradas, salidas y operaciones simples)\n",
    "\n",
    "1. Suma de dos números → Pide dos enteros y muestra la suma.\n",
    "\n",
    "2. Área de un triángulo → Pide base y altura, calcula el área.\n",
    "\n",
    "3. Convertidor de grados Celsius a Fahrenheit.\n",
    "\n",
    "4. Número par o impar → Pide un número y determina si es par o impar.\n",
    "\n",
    "5. Mayor de dos números → Pide dos números y muestra cuál es mayor."
   ]
  },
  {
   "cell_type": "code",
   "execution_count": 2,
   "metadata": {},
   "outputs": [
    {
     "name": "stdout",
     "output_type": "stream",
     "text": [
      "la suma de 3 y 4 es de 7\n"
     ]
    }
   ],
   "source": [
    "# 1. Suma de dos números → Pide dos enteros y muestra la suma.\n",
    "\n",
    "num1 = int(input(\"Escriba un numero para sumar: \"))\n",
    "num2 = int(input(\"Escriba el otro numero para sumar: \"))\n",
    "\n",
    "num3 = num1 + num2\n",
    "\n",
    "print(f\"la suma de {num1} y {num2} es de {num3}\")"
   ]
  },
  {
   "cell_type": "code",
   "execution_count": 3,
   "metadata": {},
   "outputs": [
    {
     "name": "stdout",
     "output_type": "stream",
     "text": [
      "El area del triangulo es de 15.0\n"
     ]
    }
   ],
   "source": [
    "# 2. Área de un triángulo → Pide base y altura, calcula el área.\n",
    "\n",
    "a = int(input(\"Escriba la base del triangulo para calcular el area: \"))\n",
    "b = int(input(\"Escriba la altura para calcular el area: \"))\n",
    "area = (a*b)/2 \n",
    "print(f\"El area del triangulo es de {area}\")"
   ]
  },
  {
   "cell_type": "code",
   "execution_count": 4,
   "id": "cd771d61",
   "metadata": {},
   "outputs": [
    {
     "name": "stdout",
     "output_type": "stream",
     "text": [
      "Los grados de 54.0 en celsius en Fahrenheit es de 545.0\n"
     ]
    }
   ],
   "source": [
    "# 3. Convertidor de grados Celsius a Fahrenheit.\n",
    "#(× 9/5) + 32\n",
    "\n",
    "celsius = float(input(\"Introduzca los grados celsius: \"))\n",
    "\n",
    "convertidor = (celsius*(9.5)) + 32\n",
    "\n",
    "print(f\"Los grados de {celsius} en celsius en Fahrenheit es de {convertidor}\")"
   ]
  },
  {
   "cell_type": "code",
   "execution_count": 6,
   "id": "0ce13249",
   "metadata": {},
   "outputs": [
    {
     "name": "stdout",
     "output_type": "stream",
     "text": [
      "Es un numero impar\n"
     ]
    }
   ],
   "source": [
    "# 4. Número par o impar → Pide un número y determina si es par o impar.\n",
    "\n",
    "a = int(input(\"Introduzca su numero\"))\n",
    "\n",
    "if a % 2 == 0:\n",
    "    print(\"Es un numero par\")\n",
    "else:\n",
    "    print(\"Es un numero impar\")"
   ]
  },
  {
   "cell_type": "code",
   "execution_count": null,
   "metadata": {},
   "outputs": [
    {
     "name": "stdout",
     "output_type": "stream",
     "text": [
      "El numero 3.0 es mayor que 2.0\n"
     ]
    }
   ],
   "source": [
    "# 5. Mayor de dos números → Pide dos números y muestra cuál es mayor.\n",
    "\n",
    "a = float(input(\"Introduzca el numero: \"))\n",
    "b = float(input(\"Introduzca el otro numero: \"))\n",
    "\n",
    "if a < b:\n",
    "    print(f\"El numero {b} es mayor que {a}\")\n",
    "elif a > b:\n",
    "    print(f\"El numero {a} es mayor que {b}\")\n",
    "elif a == b:\n",
    "    print(\"Los numero son iguales\")"
   ]
  },
  {
   "cell_type": "markdown",
   "id": "a759bc19",
   "metadata": {},
   "source": [
    "## 🔹 Nivel 2 – Manejo de Cadenas\n",
    "\n",
    "1. Longitud de una cadena → Pide una palabra y muestra cuántas letras tiene.\n",
    "\n",
    "2. Reverso de una cadena → Pide una palabra y muéstrala al revés.\n",
    "\n",
    "3. Contar vocales → Pide una frase y cuenta cuántas vocales tiene.\n",
    "\n",
    "4. Palíndromo → Pide una palabra y verifica si se lee igual al derecho y al revés.\n",
    "\n",
    "5. Capitalizar palabras → Pide una frase y muestra cada palabra iniciando con mayúscula."
   ]
  },
  {
   "cell_type": "code",
   "execution_count": 2,
   "metadata": {},
   "outputs": [
    {
     "name": "stdout",
     "output_type": "stream",
     "text": [
      "La palabra contador tiene 8 letras\n"
     ]
    }
   ],
   "source": [
    "# 1. Longitud de una cadena → Pide una palabra y muestra cuántas letras tiene.\n",
    "\n",
    "palabra = input(\"Dame la palabra para contar cuantas letras tiene: \")\n",
    "\n",
    "contador = len(palabra)\n",
    "\n",
    "print(f\"La palabra {palabra} tiene {contador} letras\")"
   ]
  },
  {
   "cell_type": "code",
   "execution_count": 3,
   "id": "5a1a721f",
   "metadata": {},
   "outputs": [
    {
     "name": "stdout",
     "output_type": "stream",
     "text": [
      "la palabra amor invertida es: roma\n"
     ]
    }
   ],
   "source": [
    "# 2. Reverso de una cadena → Pide una palabra y muéstrala al revés.\n",
    "palabra = input(\"Dame la palabra para invertir: \")\n",
    "palabra_invertida = palabra[::-1]\n",
    "print(f\"la palabra {palabra} invertida es: {palabra_invertida}\")"
   ]
  },
  {
   "cell_type": "code",
   "execution_count": 5,
   "id": "391c0a01",
   "metadata": {},
   "outputs": [
    {
     "name": "stdout",
     "output_type": "stream",
     "text": [
      "la palabra murcielago tiene 5 vocales\n"
     ]
    }
   ],
   "source": [
    "# 3. Contar vocales → Pide una frase y cuenta cuántas vocales tiene.\n",
    "\n",
    "palabra = input(\"Dame la palabra: \")\n",
    "vocales = [\"a\", \"e\", \"i\", \"o\", \"u\"]\n",
    "conteo = 0\n",
    "for vocal in vocales:\n",
    "    if vocal in palabra:\n",
    "        conteo +=1\n",
    "\n",
    "print(f\"la palabra {palabra} tiene {conteo} vocales\")\n"
   ]
  },
  {
   "cell_type": "code",
   "execution_count": null,
   "id": "bef95fed",
   "metadata": {},
   "outputs": [
    {
     "name": "stdout",
     "output_type": "stream",
     "text": [
      "La palabra murcielago no es un palindromo\n"
     ]
    }
   ],
   "source": [
    "# 4. Palíndromo → Pide una palabra y verifica si se lee igual al derecho y al revés.\n",
    "\n",
    "palabra = input(\"Dame la palabra: \")\n",
    "palabra_invertida = palabra[::-1]\n",
    "\n",
    "if palabra == palabra_invertida:\n",
    "    print(f\"La palabra {palabra} es un palindromo\")\n",
    "else:\n",
    "    print(f\"La palabra {palabra} no es un palindromo\")"
   ]
  },
  {
   "cell_type": "code",
   "execution_count": 9,
   "id": "90ec9548",
   "metadata": {},
   "outputs": [
    {
     "name": "stdout",
     "output_type": "stream",
     "text": [
      "Randolph Rafael Peralta Monterroza\n"
     ]
    }
   ],
   "source": [
    "# 5. Capitalizar palabras → Pide una frase y muestra cada palabra iniciando con mayúscula.\n",
    "\n",
    "palabra = input(\"Dame la palabra: \")\n",
    "print(palabra.title())"
   ]
  },
  {
   "cell_type": "markdown",
   "id": "bfe9a59e",
   "metadata": {},
   "source": [
    "## 🔹 Nivel 3 – Condicionales y Operaciones\n",
    "\n",
    "1. Clasificador de edades → Según la edad ingresada, muestra “niño”, “adolescente”, “adulto” o “anciano”.\n",
    "\n",
    "2. Calculadora simple → Pide dos números y una operación (+, -, *, /).\n",
    "\n",
    "3. Comparador de tres números → Pide tres números y muestra el mayor.\n",
    "\n",
    "4. Año bisiesto → Pide un año y determina si es bisiesto.\n",
    "\n",
    "5. Conversor de unidades → Pide una cantidad en metros y conviértela a cm, mm y km."
   ]
  },
  {
   "cell_type": "code",
   "execution_count": null,
   "id": "d107ee13",
   "metadata": {},
   "outputs": [
    {
     "name": "stdout",
     "output_type": "stream",
     "text": [
      "Eres un anciano\n"
     ]
    }
   ],
   "source": [
    "#1. Clasificador de edades → Según la edad ingresada, muestra “niño”, “adolescente”, “adulto” o “anciano”.\n",
    "\n",
    "edad = int(input(\"Ingrese su edad: \"))\n",
    "\n",
    "if edad < 0:\n",
    "    print(\"Esto no es una edad\")\n",
    "elif edad < 11:\n",
    "    print(\"Eres un niño\")\n",
    "elif edad < 18:\n",
    "    print(\"Eres un adolescente\")\n",
    "elif edad < 40:\n",
    "    print(\"Eres un adulto\")\n",
    "else:\n",
    "    print(\"Eres un anciano\")    "
   ]
  },
  {
   "cell_type": "code",
   "execution_count": null,
   "id": "4a42bfba",
   "metadata": {},
   "outputs": [
    {
     "name": "stdout",
     "output_type": "stream",
     "text": [
      "2.3333333333333335\n"
     ]
    }
   ],
   "source": [
    "# 2. Calculadora simple → Pide dos números y una operación (+, -, *, /).\n",
    "a = float(input(\"Dame un numero: \"))\n",
    "b = float(input(\"Dame otro numero\"))\n",
    "\n",
    "suma = a + b\n",
    "resta = a - b\n",
    "multiplicacion = a*b\n",
    "division = a/b\n",
    "\n",
    "operacion = input(\"Ingrese la operacion que desea +, -, *, /: \")\n",
    "\n",
    "if operacion == \"suma\" or operacion == \"+\":\n",
    "    print(suma)\n",
    "elif operacion == \"resta\" or operacion == \"-\":\n",
    "    print(resta)\n",
    "elif operacion == \"multiplicacion\" or operacion == \"*\":\n",
    "    print(multiplicacion)\n",
    "elif operacion == \"division\" or operacion == \"/\":\n",
    "    print(division)\n",
    "else:\n",
    "    print(\"escriba bien la operacion\") \n"
   ]
  },
  {
   "cell_type": "code",
   "execution_count": null,
   "id": "ea10b18f",
   "metadata": {},
   "outputs": [
    {
     "name": "stdout",
     "output_type": "stream",
     "text": [
      "el numero mayor es 4.0\n"
     ]
    }
   ],
   "source": [
    "# 3. Comparador de tres números → Pide tres números y muestra el mayor.\n",
    "\n",
    "a = float(input(\"Dame el primer numero: \"))\n",
    "b = float(input(\"Dame el segundo numero\"))\n",
    "c = float(input(\"Dame el tercer numero\"))\n",
    "\n",
    "if b<a and c<a:\n",
    "    print(f\"el numero mayor es {a}\")\n",
    "elif a<b and c<b:\n",
    "    print(f\"el numero mayor es {b}\")\n",
    "elif a<c and b<c:\n",
    "    print(f\"el numero mayor es {c}\")\n",
    "else:\n",
    "    print(\"No se sabe que numero es mayor\")"
   ]
  },
  {
   "cell_type": "code",
   "execution_count": 30,
   "id": "b2e35748",
   "metadata": {},
   "outputs": [
    {
     "name": "stdout",
     "output_type": "stream",
     "text": [
      "No es año bisieto\n"
     ]
    }
   ],
   "source": [
    "# 4. Año bisiesto → Pide un año y determina si es bisiesto.\n",
    "\n",
    "anio = int(input(\"Ingrese el año: \"))\n",
    "\n",
    "if anio%4 == 0:\n",
    "    print(\"Es un año bisiesto\")\n",
    "else:\n",
    "    print(\"No es año bisieto\")"
   ]
  },
  {
   "cell_type": "code",
   "execution_count": 32,
   "id": "63ceb570",
   "metadata": {},
   "outputs": [
    {
     "name": "stdout",
     "output_type": "stream",
     "text": [
      "la medida 900.0 metros en centimetros: 90000.0, milimetros: 900000.0, kilometros: 90.0\n"
     ]
    }
   ],
   "source": [
    "# 5. Conversor de unidades → Pide una cantidad en metros y conviértela a cm, mm y km.\n",
    "\n",
    "metros = float(input(\"Ingrese la medida en metros\"))\n",
    "centimetros = metros*100\n",
    "milimetro = metros*1000\n",
    "kilometros = metros*(0.1)\n",
    "print(f\"la medida {metros} metros en centimetros: {centimetros}, milimetros: {milimetro}, kilometros: {kilometros}\")"
   ]
  },
  {
   "cell_type": "markdown",
   "id": "a5d106b2",
   "metadata": {},
   "source": [
    "## 🔹 Nivel 4 – Bucles y Construcción de Patrones\n",
    "\n",
    "1. Tabla de multiplicar → Pide un número y muestra su tabla hasta el 10.\n",
    "\n",
    "2. Suma de los primeros N números → Pide un número y calcula la suma de 1 hasta N.\n",
    "\n",
    "3. Factorial de un número → Pide un número y calcula su factorial.\n",
    "\n",
    "4. Adivina el número → El programa genera un número aleatorio y el usuario debe adivinarlo.\n",
    "\n",
    "5. Pirámide de asteriscos → Pide un número de filas y dibuja una pirámide."
   ]
  },
  {
   "cell_type": "code",
   "execution_count": 5,
   "id": "7c2fe8df",
   "metadata": {},
   "outputs": [
    {
     "name": "stdout",
     "output_type": "stream",
     "text": [
      "0\n",
      "7\n",
      "14\n",
      "21\n",
      "28\n",
      "35\n",
      "42\n",
      "49\n",
      "56\n",
      "63\n",
      "70\n"
     ]
    }
   ],
   "source": [
    " #1. Tabla de multiplicar → Pide un número y muestra su tabla hasta el 10.\n",
    "\n",
    "numero = int(input(\"Ingrese su numero: \"))\n",
    "\n",
    "for i in range(11):\n",
    "    print(i*numero)"
   ]
  },
  {
   "cell_type": "code",
   "execution_count": 6,
   "id": "648518a9",
   "metadata": {},
   "outputs": [
    {
     "name": "stdout",
     "output_type": "stream",
     "text": [
      "la suma de 1 a 9 es de 45.0\n"
     ]
    }
   ],
   "source": [
    "#2. Suma de los primeros N números → Pide un número y calcula la suma de 1 hasta N.\n",
    "\n",
    "numero = int(input(\"Ingrese su numero: \"))\n",
    "\n",
    "gauss = numero*(numero + 1)/2\n",
    "\n",
    "print(f\"la suma de 1 a {numero} es de {gauss}\")"
   ]
  },
  {
   "cell_type": "code",
   "execution_count": null,
   "id": "b793d74b",
   "metadata": {},
   "outputs": [
    {
     "name": "stdout",
     "output_type": "stream",
     "text": [
      "El factorial del numero 4 es 24\n"
     ]
    }
   ],
   "source": [
    "# 3. Factorial de un número → Pide un número y calcula su factorial.\n",
    "\n",
    "numero = int(input(\"Ingrese su numero: \"))\n",
    "uno = 1\n",
    "for i in range(1, numero+1):\n",
    "    uno *= i\n",
    "\n",
    "print(f\"El factorial del numero {numero} es {uno}\")"
   ]
  },
  {
   "cell_type": "code",
   "execution_count": 25,
   "id": "5cc9710f",
   "metadata": {},
   "outputs": [
    {
     "name": "stdout",
     "output_type": "stream",
     "text": [
      "Acertaste ese es el numero\n"
     ]
    }
   ],
   "source": [
    "# 4. Adivina el número → El programa genera un número aleatorio y el usuario debe adivinarlo.\n",
    "\n",
    "adivinanza = 5\n",
    "\n",
    "numero = int(input(\"Adivina el numero: \"))\n",
    "\n",
    "if numero == adivinanza:\n",
    "    print(\"Acertaste ese es el numero\")\n",
    "else:\n",
    "    print(\"No es el numero\")\n"
   ]
  },
  {
   "cell_type": "code",
   "execution_count": 28,
   "id": "ac37e510",
   "metadata": {},
   "outputs": [
    {
     "name": "stdout",
     "output_type": "stream",
     "text": [
      "\n",
      "*\n",
      "**\n",
      "***\n",
      "****\n",
      "*****\n",
      "******\n",
      "*******\n"
     ]
    }
   ],
   "source": [
    "# 5. Pirámide de asteriscos → Pide un número de filas y dibuja una pirámide.\n",
    "\n",
    "numero = int(input(\"Ingrese su numero: \"))\n",
    "\n",
    "for i in range(numero+1):\n",
    "    print(i*\"*\")\n"
   ]
  },
  {
   "cell_type": "markdown",
   "id": "1647f3d9",
   "metadata": {},
   "source": [
    "## 🔹 Nivel 5 – Ligeramente más complejos (combinando todo)\n",
    "\n",
    "1. Número primo → Pide un número y verifica si es primo.\n",
    "\n",
    "2. Serie de Fibonacci → Muestra los primeros N términos de la serie.\n",
    "\n",
    "3. Inversión de un número → Pide un número entero y muestra su inverso (ej: 123 → 321).\n",
    "\n",
    "4. Conversor de moneda → Convierte una cantidad en pesos colombianos a dólares y euros.\n",
    "\n",
    "5. Calculadora de promedio → Pide N notas y muestra el promedio y si aprobó o reprobó."
   ]
  },
  {
   "cell_type": "code",
   "execution_count": 9,
   "id": "49c0c666",
   "metadata": {},
   "outputs": [
    {
     "name": "stdout",
     "output_type": "stream",
     "text": [
      "El numero 10 no es un numero primo\n"
     ]
    }
   ],
   "source": [
    "# 1. Número primo → Pide un número y verifica si es primo.\n",
    "\n",
    "numero = int(input(\"Ingrese su numero: \"))\n",
    "\n",
    "for i in range(2, numero+1):\n",
    "    if numero%i == 0:\n",
    "        break\n",
    "if i == numero:\n",
    "    print(f\"El numero {numero} es un numero primo\")\n",
    "else:\n",
    "    print(f\"El numero {numero} no es un numero primo\")"
   ]
  },
  {
   "cell_type": "code",
   "execution_count": 7,
   "id": "2b4962c4",
   "metadata": {},
   "outputs": [
    {
     "name": "stdout",
     "output_type": "stream",
     "text": [
      "7 es primo\n"
     ]
    }
   ],
   "source": [
    "n = int(input(\"Introduce un número entero positivo mayor que 2: \"))\n",
    "i = 2\n",
    "while n % i != 0:\n",
    "    i += 1\n",
    "if i == n:\n",
    "    print(str(n) + \" es primo\")\n",
    "else:\n",
    "    print(str(n) + \" no es primo\")"
   ]
  },
  {
   "cell_type": "code",
   "execution_count": 1,
   "id": "34f86552",
   "metadata": {},
   "outputs": [
    {
     "name": "stdout",
     "output_type": "stream",
     "text": [
      "0\n",
      "1\n",
      "1\n",
      "2\n",
      "3\n",
      "5\n",
      "8\n",
      "13\n",
      "21\n",
      "34\n"
     ]
    }
   ],
   "source": [
    "# 2. Serie de Fibonacci → Muestra los primeros N términos de la serie.\n",
    "\n",
    "# Definir el número de términos que queremos generar\n",
    "num_terminos = int(input(\"Escriba el numero hasta donde desea la serie de fibonaci: \"))\n",
    "\n",
    "# Inicializar las variables para los dos primeros números de Fibonacci\n",
    "a = 0\n",
    "b = 1\n",
    "\n",
    "# Imprimir los dos primeros términos si num_terminos es mayor que 0 y 1 respectivamente\n",
    "if num_terminos >= 1:\n",
    "    print(a)\n",
    "if num_terminos >= 2:\n",
    "    print(b)\n",
    "\n",
    "# Generar el resto de los términos de la secuencia\n",
    "for i in range(2, num_terminos):\n",
    "    siguiente_termino = a + b\n",
    "    print(siguiente_termino)\n",
    "    # Actualizar los valores para la siguiente iteración\n",
    "    a = b\n",
    "    b = siguiente_termino"
   ]
  },
  {
   "cell_type": "code",
   "execution_count": 2,
   "metadata": {},
   "outputs": [
    {
     "name": "stdout",
     "output_type": "stream",
     "text": [
      "El número original es: 12345\n",
      "El número invertido es: 54321\n"
     ]
    }
   ],
   "source": [
    "# 3. Inversión de un número → Pide un número entero y muestra su inverso (ej: 123 → 321).\n",
    "\n",
    "def invertir_numero_con_bucle(numero):\n",
    "  numero_invertido = 0\n",
    "  while numero > 0:\n",
    "    # Obtener el último dígito\n",
    "    digito = numero % 10\n",
    "    # Agregar el dígito al número invertido\n",
    "    numero_invertido = (numero_invertido * 10) + digito\n",
    "    # Eliminar el último dígito del número original\n",
    "    numero = numero // 10\n",
    "  return numero_invertido\n",
    "\n",
    "# Ejemplo de uso\n",
    "numero_original = 12345\n",
    "numero_invertido = invertir_numero_con_bucle(numero_original)\n",
    "print(f\"El número original es: {numero_original}\")\n",
    "print(f\"El número invertido es: {numero_invertido}\")\n",
    "\n"
   ]
  },
  {
   "cell_type": "code",
   "execution_count": 4,
   "id": "cc663b82",
   "metadata": {},
   "outputs": [
    {
     "name": "stdout",
     "output_type": "stream",
     "text": [
      "El numero 567890 invertido se muestra asi: 098765\n"
     ]
    }
   ],
   "source": [
    "numero = input(\"Ingrese su numero: \")\n",
    "numero_invertido = numero[::-1]\n",
    "print(f\"El numero {numero} invertido se muestra asi: {numero_invertido}\")\n",
    "\n"
   ]
  },
  {
   "cell_type": "code",
   "execution_count": 6,
   "id": "67a81cf9",
   "metadata": {},
   "outputs": [
    {
     "name": "stdout",
     "output_type": "stream",
     "text": [
      "La cantidad de 1000.0 pesos en dolares: 3986.15 y euros: 4673.57\n"
     ]
    }
   ],
   "source": [
    "#4. Conversor de moneda → Convierte una cantidad en pesos colombianos a dólares y euros.\n",
    "\n",
    "pesos = float(input(\"Ingrese los pesos colombianos a convertir: \"))\n",
    "\n",
    "dolares = float(input(\"Ingrese la tasa de cambio actual del dolar\"))\n",
    "\n",
    "euros = float(input(\"Ingrese la tasa de cambio actual del euro\"))\n",
    "\n",
    "conversion_dolar = pesos/dolares\n",
    "\n",
    "conversion_euro = pesos/euros\n",
    "\n",
    "print(f\"La cantidad de {pesos} pesos en dolares: {dolares} y euros: {euros}\")"
   ]
  },
  {
   "cell_type": "code",
   "execution_count": 11,
   "id": "317e7157",
   "metadata": {},
   "outputs": [
    {
     "name": "stdout",
     "output_type": "stream",
     "text": [
      "El promedio de notas es de 3.8\n"
     ]
    }
   ],
   "source": [
    "# 5. Calculadora de promedio → Pide N notas y muestra el promedio y si aprobó o reprobó.\n",
    "\n",
    "cantidad = int(input(\"Ingrese la cantidad de notas que desea: \"))\n",
    "\n",
    "notas = []\n",
    "\n",
    "for i in range(cantidad):\n",
    "    nota = float(input(\"Ingrese la nota: \"))\n",
    "    notas.append(nota)\n",
    "\n",
    "suma_notas = 0\n",
    "\n",
    "for j in notas:\n",
    "    suma_notas += j\n",
    "\n",
    "promedio = suma_notas/cantidad\n",
    "\n",
    "print(f\"El promedio de notas es de {promedio}\")"
   ]
  },
  {
   "cell_type": "markdown",
   "id": "9f7ebaa5",
   "metadata": {},
   "source": [
    "## Nivel 6 – Retadores con tipos simples\n",
    "\n",
    "1. Número perfecto → Determina si un número es perfecto (suma de sus divisores propios = número).\n",
    "\n",
    "2. Números amigos → Verifica si dos números son amigos (ej: 220 y 284).\n",
    "\n",
    "3. Binario a decimal y decimal a binario.\n",
    "\n",
    "4. Conversor de tiempo → Convierte segundos a horas, minutos y segundos.\n",
    "\n",
    "5. Simulación de cajero automático → Pide saldo inicial y permite ingresar o retirar dinero, validando que no quede en negativo."
   ]
  },
  {
   "cell_type": "code",
   "execution_count": null,
   "id": "c16d83ad",
   "metadata": {},
   "outputs": [
    {
     "name": "stdout",
     "output_type": "stream",
     "text": [
      "No es un numero perfecto\n"
     ]
    }
   ],
   "source": [
    "# 1. Número perfecto → Determina si un número es perfecto (suma de sus divisores propios = número).\n",
    "numero = int(input(\"Ingrese su numero perfecto: \"))\n",
    "suma = 0\n",
    "\n",
    "for i in range(1, numero):\n",
    "    if numero%i == 0:\n",
    "        suma += i\n",
    "if suma == numero:\n",
    "    print(f\"El numero {numero} es un numero perfecto\")\n",
    "else:\n",
    "    print(f\"El numero {numero} no es un numero perfecto\")"
   ]
  },
  {
   "cell_type": "code",
   "execution_count": 5,
   "id": "7a3903a5",
   "metadata": {},
   "outputs": [
    {
     "name": "stdout",
     "output_type": "stream",
     "text": [
      "El numero 220 y el numero 284 son amigos\n"
     ]
    }
   ],
   "source": [
    "#2. Números amigos → Verifica si dos números son amigos (ej: 220 y 284).\n",
    "\n",
    "numero = int(input(\"Ingrese su primer numero: \"))\n",
    "#otro_numero = int(input(\"Ingrese su segundo numero: \"))\n",
    "\n",
    "suma = 0\n",
    "for i in range(1, numero):\n",
    "    if numero%i == 0:\n",
    "        suma += i\n",
    "suma\n",
    "\n",
    "otro_numero = int(input(\"Ingrese su segundo numero: \"))\n",
    "otra_suma = 0\n",
    "for j in range(1, otro_numero):\n",
    "    if otro_numero%j == 0:\n",
    "        otra_suma += j\n",
    "otra_suma\n",
    "\n",
    "if suma == otro_numero and otra_suma == numero:\n",
    "    print(f\"El numero {numero} y el numero {otro_numero} son amigos\")\n",
    "else:\n",
    "    print(f\"El numero {numero} y el numero {otro_numero} no son amigos\")"
   ]
  },
  {
   "cell_type": "code",
   "execution_count": 3,
   "id": "af342dab",
   "metadata": {},
   "outputs": [
    {
     "name": "stdout",
     "output_type": "stream",
     "text": [
      "El binario 10110 es 22 en decimal\n"
     ]
    }
   ],
   "source": [
    "#3. Binario a decimal y decimal a binario.\n",
    "\n",
    "def binario_a_decimal(binario):\n",
    "    decimal = 0\n",
    "    potencia = 0\n",
    "    # Convertir el número binario a cadena para poder recorrerlo\n",
    "    binario_str = str(binario)\n",
    "    # Recorrer los dígitos de derecha a izquierda\n",
    "    for digito in reversed(binario_str):\n",
    "        # Sumar el dígito (convertido a entero) multiplicado por 2^potencia\n",
    "        decimal += int(digito) * (2 ** potencia)\n",
    "        potencia += 1\n",
    "    return decimal\n",
    "\n",
    "# Ejemplo de uso\n",
    "numero_binario = 10110\n",
    "resultado_decimal = binario_a_decimal(numero_binario)\n",
    "print(f\"El binario {numero_binario} es {resultado_decimal} en decimal\") # Salida: El binario 10110 es 22 en decimal"
   ]
  },
  {
   "cell_type": "code",
   "execution_count": 4,
   "id": "7184bc2e",
   "metadata": {},
   "outputs": [
    {
     "name": "stdout",
     "output_type": "stream",
     "text": [
      "El decimal 22 es 10110 en binario\n"
     ]
    }
   ],
   "source": [
    "#3. Binario a decimal y decimal a binario.\n",
    "\n",
    "def decimal_a_binario(decimal):\n",
    "    if decimal == 0:\n",
    "        return \"0\"\n",
    "\n",
    "    binario_str = \"\"\n",
    "    while decimal > 0:\n",
    "        # Obtener el residuo de la división entre 2\n",
    "        residuo = decimal % 2\n",
    "        # Añadir el residuo (como string) al inicio de la cadena binaria\n",
    "        binario_str = str(residuo) + binario_str\n",
    "        # Actualizar el decimal con el cociente de la división\n",
    "        decimal = decimal // 2\n",
    "    return binario_str\n",
    "\n",
    "# Ejemplo de uso\n",
    "numero_decimal = 22\n",
    "resultado_binario = decimal_a_binario(numero_decimal)\n",
    "print(f\"El decimal {numero_decimal} es {resultado_binario} en binario\") # Salida: El decimal 22 es 10110 en binario"
   ]
  },
  {
   "cell_type": "code",
   "execution_count": 1,
   "id": "2e04fab0",
   "metadata": {},
   "outputs": [
    {
     "name": "stdout",
     "output_type": "stream",
     "text": [
      "Los segundos: 12345.0, los minutos son: 205.75, las horas son: 3.4291666666666667\n"
     ]
    }
   ],
   "source": [
    "# 4. Conversor de tiempo → Convierte segundos a horas, minutos y segundos.\n",
    "\n",
    "segundos = float(input(\"Ingrese los segundos a convertir\"))\n",
    "\n",
    "minutos = segundos/60\n",
    "\n",
    "horas = minutos/60\n",
    "\n",
    "print(f\"Los segundos: {segundos}, los minutos son: {minutos}, las horas son: {horas}\")"
   ]
  },
  {
   "cell_type": "code",
   "execution_count": null,
   "id": "fe118ac6",
   "metadata": {},
   "outputs": [
    {
     "name": "stdout",
     "output_type": "stream",
     "text": [
      "Su ingreso total es de 223456.0\n"
     ]
    }
   ],
   "source": [
    "#5. Simulación de cajero automático → Pide saldo inicial y permite ingresar o retirar dinero, validando que no quede en negativo.\n",
    "\n",
    "opcion = input(\"Que opcion quieres tomar (a) retirar, (b) ingresar\")\n",
    "\n",
    "if opcion == 'a':\n",
    "    saldo_inicial = float(input(\"Ingrese su saldo inicial\"))\n",
    "    ingreso = float(input(\"Cuanto desea ingresar\"))\n",
    "    saldo_total = saldo_inicial + ingreso\n",
    "    print(f\"Su ingreso total es de {saldo_total}\")\n",
    "\n",
    "elif opcion == 'b':\n",
    "    saldo_inicial = float(input(\"Ingrese su saldo inicial\"))\n",
    "    retiro = float(input(\"Cuanto desea retirar\"))\n",
    "    if saldo_inicial>retiro:\n",
    "        saldo_resultante = saldo_inicial - retiro\n",
    "    else:\n",
    "        print(\"El saldo es insuficiente\")\n",
    "    print(f\"Su ingreso total es de {saldo_resultante}\")\n",
    "\n",
    "else:\n",
    "    print(\"La opcion no es la correcta\")"
   ]
  },
  {
   "cell_type": "markdown",
   "id": "8b8858b1",
   "metadata": {},
   "source": [
    "## Nivel 1 – Muy básicos (lectura y operaciones simples con strings)\n",
    "\n",
    "1. Longitud de una cadena → Pide una palabra y muestra cuántos caracteres tiene.\n",
    "\n",
    "2. Concatenación de cadenas → Pide nombre y apellido, y muéstralos juntos.\n",
    "\n",
    "3. Repetición de cadenas → Pide una palabra y repítela N veces.\n",
    "\n",
    "4. Mayúsculas y minúsculas → Pide un texto y muéstralo en mayúsculas, minúsculas y con la primera letra en mayúscula.\n",
    "\n",
    "5. Primer y último carácter → Pide una palabra y muestra su primer y último carácter."
   ]
  },
  {
   "cell_type": "code",
   "execution_count": null,
   "id": "b64c5710",
   "metadata": {},
   "outputs": [
    {
     "data": {
      "text/plain": [
       "['A', 'm', 'o', 'r']"
      ]
     },
     "execution_count": 2,
     "metadata": {},
     "output_type": "execute_result"
    }
   ],
   "source": [
    "# 1. Longitud de una cadena → Pide una palabra y muestra cuántos caracteres tiene.\n",
    "\n",
    "palabra = input(\"Ingrese su palabra: \")\n",
    "\n",
    "print(f\"la palabra {palabra} tiene {len(palabra)} caracteres\")"
   ]
  },
  {
   "cell_type": "code",
   "execution_count": 3,
   "id": "16b610e5",
   "metadata": {},
   "outputs": [
    {
     "name": "stdout",
     "output_type": "stream",
     "text": [
      "Usted se llama Randolph Peralta\n"
     ]
    }
   ],
   "source": [
    "# 2. Concatenación de cadenas → Pide nombre y apellido, y muéstralos juntos.\n",
    "\n",
    "nombre = input(\"ingrese su nombre: \")\n",
    "\n",
    "apellido = input(\"ingrese su apellido: \")\n",
    "\n",
    "print(\"Usted se llama\", nombre, apellido)"
   ]
  },
  {
   "cell_type": "code",
   "execution_count": 3,
   "id": "580867a4",
   "metadata": {},
   "outputs": [
    {
     "name": "stdout",
     "output_type": "stream",
     "text": [
      "amor\n",
      "amor\n",
      "amor\n",
      "amor\n",
      "amor\n",
      "amor\n",
      "amor\n",
      "amor\n",
      "amor\n",
      "amor\n"
     ]
    }
   ],
   "source": [
    "# 3. Repetición de cadenas → Pide una palabra y repítela N veces.\n",
    "\n",
    "palabra = input(\"Dame una palabra: \")\n",
    "\n",
    "veces = int(input(\"Cuantas veces deseas que se repita: \"))\n",
    "\n",
    "for i in range(veces):\n",
    "    print(palabra)\n"
   ]
  },
  {
   "cell_type": "code",
   "execution_count": 3,
   "id": "55d910d8",
   "metadata": {},
   "outputs": [
    {
     "name": "stdout",
     "output_type": "stream",
     "text": [
      "La palabra rAndolph en mayuscula: RANDOLPH, en minuscula: randolph, en titulo: Randolph\n"
     ]
    }
   ],
   "source": [
    "# 4. Mayúsculas y minúsculas → Pide un texto y muéstralo en mayúsculas, minúsculas y con la primera letra en mayúscula.\n",
    "\n",
    "palabra = input(\"Escriba la palabra: \")\n",
    "\n",
    "print(f\"La palabra {palabra} en mayuscula: {palabra.upper()}, en minuscula: {palabra.lower()}, en titulo: {palabra.title()}\")"
   ]
  },
  {
   "cell_type": "code",
   "execution_count": 6,
   "id": "05bede7a",
   "metadata": {},
   "outputs": [
    {
     "name": "stdout",
     "output_type": "stream",
     "text": [
      "La palabra Randolph tiene como inicial R y la su letra final h\n"
     ]
    }
   ],
   "source": [
    "#5. Primer y último carácter → Pide una palabra y muestra su primer y último carácter.\n",
    "\n",
    "palabra = input(\"Escriba la palabra: \")\n",
    "\n",
    "print(f\"La palabra {palabra} tiene como inicial {palabra[0]} y la su letra final {palabra[-1]}\")"
   ]
  },
  {
   "cell_type": "markdown",
   "id": "9186d88b",
   "metadata": {},
   "source": [
    "## Nivel 2 – Indexación y slicing\n",
    "\n",
    "6. Reverso de una cadena → Muestra la cadena al revés.\n",
    "\n",
    "7. Subcadena → Pide una palabra y muestra los primeros 3 caracteres y los últimos 3.\n",
    "\n",
    "8. Extraer iniciales → Pide nombre y apellido, y devuelve sus iniciales (ej: \"Randolph Peralta\" → \"RP\").\n",
    "\n",
    "9. Verificar prefijo/sufijo → Pide una palabra y comprueba si empieza con “a” o termina con “z”.\n",
    "\n",
    "10. Eliminar espacios → Pide una frase y elimina los espacios en blanco al inicio y final."
   ]
  },
  {
   "cell_type": "code",
   "execution_count": 2,
   "id": "e4f04b79",
   "metadata": {},
   "outputs": [
    {
     "name": "stdout",
     "output_type": "stream",
     "text": [
      "La palabra o cadena: amor, al reves seria: roma\n"
     ]
    }
   ],
   "source": [
    "# 6. Reverso de una cadena → Muestra la cadena al revés.\n",
    "\n",
    "string = input(\"Dame una cadena (palabra) para revertirla: \")\n",
    "\n",
    "print(f\"La palabra o cadena: {string}, al reves seria: {string[::-1]}\")"
   ]
  },
  {
   "cell_type": "code",
   "execution_count": null,
   "id": "9da3f5cb",
   "metadata": {},
   "outputs": [
    {
     "name": "stdout",
     "output_type": "stream",
     "text": [
      "la palabra helicoptero tiene los tres primeros caracteres: hel, y sus tres ultimos caracteres son ero\n"
     ]
    }
   ],
   "source": [
    "# 7. Subcadena → Pide una palabra y muestra los primeros 3 caracteres y los últimos 3.\n",
    "\n",
    "string = input(\"Dame una cadena (palabra): \")\n",
    "\n",
    "print(f\"la palabra {string} tiene los tres primeros caracteres: {string[:3]}, y sus tres ultimos caracteres son {string[-3:]}\")"
   ]
  },
  {
   "cell_type": "code",
   "execution_count": 9,
   "id": "48687f55",
   "metadata": {},
   "outputs": [
    {
     "name": "stdout",
     "output_type": "stream",
     "text": [
      "Las iniciales de nombre Randolph Peralta son: RP\n"
     ]
    }
   ],
   "source": [
    "# 8. Extraer iniciales → Pide nombre y apellido, y devuelve sus iniciales (ej: \"Randolph Peralta\" → \"RP\").\n",
    "\n",
    "string = input(\"Dame una cadena (palabra): \")\n",
    "\n",
    "string_sep = string.split()\n",
    "\n",
    "initial = \"\"\n",
    "\n",
    "for str in string_sep:\n",
    "    initial += str[0]\n",
    "\n",
    "print(f\"Las iniciales de nombre {string} son: {initial}\")"
   ]
  },
  {
   "cell_type": "code",
   "execution_count": null,
   "id": "e413289c",
   "metadata": {},
   "outputs": [
    {
     "name": "stdout",
     "output_type": "stream",
     "text": [
      "la palabra quiroz termina con z\n"
     ]
    }
   ],
   "source": [
    "# 9. Verificar prefijo/sufijo → Pide una palabra y comprueba si empieza con “a” o termina con “z”.\n",
    "\n",
    "palabra = input(\"Escriba una palabra: \")\n",
    "\n",
    "if palabra[0] == \"a\":\n",
    "    print(f\"La palabra {palabra} empieza con a\")\n",
    "elif palabra[-1] == \"z\":\n",
    "    print(f\"la palabra {palabra} termina con z\")\n",
    "else:\n",
    "    print(f\"La palabra {palabra} no comienza a ni termina en z\")"
   ]
  },
  {
   "cell_type": "code",
   "execution_count": 5,
   "id": "3809ef97",
   "metadata": {},
   "outputs": [
    {
     "name": "stdout",
     "output_type": "stream",
     "text": [
      "hola mundo como estan\n"
     ]
    }
   ],
   "source": [
    "#10. Eliminar espacios → Pide una frase y elimina los espacios en blanco al inicio y final.\n",
    "\n",
    "palabra = input(\"Escriba una palabra: \")\n",
    "\n",
    "palabra[0].split()\n",
    "palabra[-1].split()\n",
    "\n",
    "print(palabra)"
   ]
  },
  {
   "cell_type": "markdown",
   "id": "145520aa",
   "metadata": {},
   "source": [
    "## Nivel 3 – Conteo y búsqueda\n",
    "\n",
    "11. Contar vocales → Pide una frase y cuenta cuántas vocales tiene.\n",
    "\n",
    "12. Contar palabras → Pide una frase y cuenta cuántas palabras tiene.\n",
    "\n",
    "13. Buscar subcadena → Pide una frase y una palabra, y verifica si aparece en la frase.\n",
    "\n",
    "14. Reemplazar caracteres → Pide un texto y reemplaza todas las vocales por “*”.\n",
    "\n",
    "15. Frecuencia de letra → Pide una frase y una letra, y cuenta cuántas veces aparece."
   ]
  },
  {
   "cell_type": "code",
   "execution_count": null,
   "id": "5c64fd1f",
   "metadata": {},
   "outputs": [
    {
     "name": "stdout",
     "output_type": "stream",
     "text": [
      "La frase o palabra amor tiene 2 vocales\n"
     ]
    }
   ],
   "source": [
    "#11. Contar vocales → Pide una frase y cuenta cuántas vocales tiene.\n",
    "\n",
    "frase = input(\"Escriba una frase o palabra: \")\n",
    "\n",
    "vocales = ['a', 'e', 'i', 'o', 'u']\n",
    "\n",
    "conteo = 0\n",
    "\n",
    "for i in frase:\n",
    "    if i in vocales:\n",
    "        conteo +=1\n",
    "\n",
    "print(f\"La frase o palabra {frase} tiene {conteo} vocales\")"
   ]
  },
  {
   "cell_type": "code",
   "execution_count": 2,
   "id": "e0443428",
   "metadata": {},
   "outputs": [
    {
     "name": "stdout",
     "output_type": "stream",
     "text": [
      "la frase o palabra: amor es dificil, tiene 3 palabras\n"
     ]
    }
   ],
   "source": [
    "# 12. Contar palabras → Pide una frase y cuenta cuántas palabras tiene.\n",
    "\n",
    "frase = input(\"Escriba una frase o palabra: \")\n",
    "\n",
    "frase_sep = frase.split()\n",
    "\n",
    "conteo = 0\n",
    "\n",
    "for fr in frase_sep:\n",
    "    conteo += 1\n",
    "\n",
    "print(f\"la frase o palabra: {frase}, tiene {conteo} palabras\")"
   ]
  },
  {
   "cell_type": "code",
   "execution_count": 4,
   "id": "21b70e71",
   "metadata": {},
   "outputs": [
    {
     "name": "stdout",
     "output_type": "stream",
     "text": [
      "La palabra amarillo no esta en la frase el lapiz es de color azul\n"
     ]
    }
   ],
   "source": [
    "# 13. Buscar subcadena → Pide una frase y una palabra, y verifica si aparece en la frase.\n",
    "\n",
    "frase = input(\"Escriba una frase: \")\n",
    "\n",
    "palabra = input(\"Escriba la palabra: \")\n",
    "\n",
    "frase_sep = frase.split()\n",
    "\n",
    "if palabra in frase_sep:\n",
    "    print(f\"La palabra {palabra} esta en la frase {frase}\")\n",
    "else:\n",
    "    print(f\"La palabra {palabra} no esta en la frase {frase}\")"
   ]
  },
  {
   "cell_type": "code",
   "execution_count": 1,
   "id": "6a74a94a",
   "metadata": {},
   "outputs": [
    {
     "name": "stdout",
     "output_type": "stream",
     "text": [
      "*m*r*ll*\n"
     ]
    }
   ],
   "source": [
    "# 14. Reemplazar caracteres → Pide un texto y reemplaza todas las vocales por “*”.\n",
    "\n",
    "frase = input(\"Escriba una frase o palabra: \")\n",
    "\n",
    "vocales = ['a', 'e', 'i', 'o', 'u']\n",
    "\n",
    "frase_nueva = \"\"\n",
    "\n",
    "for i in frase:\n",
    "    if i in vocales:\n",
    "        frase_nueva += \"*\"\n",
    "    else:\n",
    "        frase_nueva += i\n",
    "\n",
    "print(frase_nueva)"
   ]
  },
  {
   "cell_type": "code",
   "execution_count": 9,
   "id": "f165c2d4",
   "metadata": {},
   "outputs": [
    {
     "name": "stdout",
     "output_type": "stream",
     "text": [
      "la frase amarillo aparace la letra a: 2 veces\n"
     ]
    }
   ],
   "source": [
    "# 15. Frecuencia de letra → Pide una frase y una letra, y cuenta cuántas veces aparece.\n",
    "\n",
    "frase = input(\"Escriba una frase o palabra: \")\n",
    "\n",
    "letra = input(\"Menciona la letra: \")\n",
    "\n",
    "conteo = 0\n",
    "\n",
    "for i in frase:\n",
    "    if letra == i:\n",
    "        conteo += 1\n",
    "\n",
    "print(f\"la frase {frase} aparace la letra {letra}: {conteo} veces\")"
   ]
  },
  {
   "cell_type": "code",
   "execution_count": 6,
   "id": "ae20647b",
   "metadata": {},
   "outputs": [
    {
     "name": "stdout",
     "output_type": "stream",
     "text": [
      "{'a': 2, 'm': 1, 'r': 1, 'i': 1, 'l': 2, 'o': 1}\n"
     ]
    }
   ],
   "source": [
    "frase = input(\"Escriba una frase o palabra: \")\n",
    "\n",
    "diccionario = {}\n",
    "\n",
    "for i in frase:\n",
    "    if i in diccionario:\n",
    "        diccionario[i] += 1\n",
    "    else:\n",
    "        diccionario[i] = 1\n",
    "\n",
    "print(diccionario)"
   ]
  },
  {
   "cell_type": "markdown",
   "id": "7d7f4a29",
   "metadata": {},
   "source": [
    "## Nivel 4 – Condiciones y validaciones\n",
    "\n",
    "16. Palíndromo → Verifica si una palabra o frase es palíndroma.\n",
    "\n",
    "17. Verificar solo números → Comprueba si una cadena contiene solo dígitos.\n",
    "\n",
    "18. Validación de correo → Comprueba si un texto tiene “@” y “.com”.\n",
    "\n",
    "19. Contraseña segura → Verifica si una contraseña tiene al menos 8 caracteres, una mayúscula, una minúscula y un número.\n",
    "\n",
    "20. Eliminar duplicados → Pide una frase y elimina caracteres repetidos."
   ]
  },
  {
   "cell_type": "code",
   "execution_count": null,
   "id": "2cdc4bbb",
   "metadata": {},
   "outputs": [
    {
     "name": "stdout",
     "output_type": "stream",
     "text": [
      "La palabra o frase ana es un palindromo\n"
     ]
    }
   ],
   "source": [
    "# 16. Palíndromo → Verifica si una palabra o frase es palíndroma.\n",
    "\n",
    "frase = input(\"Escriba una frase o palabra: \")\n",
    "\n",
    "esarf = frase[::-1]\n",
    "\n",
    "if frase == esarf:\n",
    "    print(f\"La palabra o frase {frase} es un palindromo\")\n",
    "else:\n",
    "    print(f\"La palabra o frase {frase} no es un palindromo\")"
   ]
  },
  {
   "cell_type": "code",
   "execution_count": 10,
   "id": "016b77c3",
   "metadata": {},
   "outputs": [
    {
     "name": "stdout",
     "output_type": "stream",
     "text": [
      "La cadena Randlph123 contiene digitos\n"
     ]
    }
   ],
   "source": [
    "# 17. Verificar solo números → Comprueba si una cadena contiene solo dígitos.\n",
    "\n",
    "cadena = input(\"Escriba una cadena o palabra: \")\n",
    "es_numero = False\n",
    "\n",
    "digitos = [\"0\", \"1\", \"2\", \"3\", \"4\", \"5\", \"6\", \"7\", \"8\", \"9\"]\n",
    "\n",
    "frase_espacio = cadena.strip()\n",
    "\n",
    "for i in digitos:\n",
    "    if i in frase_espacio:\n",
    "        es_numero = True\n",
    "        break\n",
    "\n",
    "if es_numero:\n",
    "    print(f\"La cadena {cadena} contiene digitos\")\n",
    "else:\n",
    "    print(f\"La cadena {cadena} no contiene digitos\")"
   ]
  },
  {
   "cell_type": "code",
   "execution_count": 3,
   "id": "a7f3725a",
   "metadata": {},
   "outputs": [
    {
     "name": "stdout",
     "output_type": "stream",
     "text": [
      "El correo es válido (contiene '@' y '.com')\n"
     ]
    }
   ],
   "source": [
    "# 18. Validación de correo → Comprueba si un texto tiene “@” y “.com”.\n",
    "\n",
    "correo = input(\"Ingresa el correo: \")\n",
    "\n",
    "if \"@\" in correo and \".com\" in correo:\n",
    "    print(\"El correo es válido (contiene '@' y '.com')\")\n",
    "else:\n",
    "    print(\"El correo no es válido\")"
   ]
  },
  {
   "cell_type": "code",
   "execution_count": 2,
   "id": "c39167e4",
   "metadata": {},
   "outputs": [
    {
     "name": "stdout",
     "output_type": "stream",
     "text": [
      "La contraseña no cumple con los requisitos ❌\n"
     ]
    }
   ],
   "source": [
    "# 19. Contraseña segura → Verifica si una contraseña tiene al menos 8 caracteres, una mayúscula, una minúscula y un número.\n",
    "\n",
    "contraseña = input(\"Ingresa la contraseña: \")\n",
    "\n",
    "tiene_mayuscula = False\n",
    "tiene_minuscula = False\n",
    "tiene_numero = False\n",
    "\n",
    "# Verificar cada carácter\n",
    "for caracter in contraseña:\n",
    "    if caracter >= 'A' and caracter <= 'Z':\n",
    "        tiene_mayuscula = True\n",
    "    elif caracter >= 'a' and caracter <= 'z':\n",
    "        tiene_minuscula = True\n",
    "    elif caracter >= '0' and caracter <= '9':\n",
    "        tiene_numero = True\n",
    "\n",
    "# Verificar longitud y condiciones\n",
    "if len(contraseña) >= 8 and tiene_mayuscula and tiene_minuscula and tiene_numero:\n",
    "    print(\"La contraseña es segura ✅\")\n",
    "else:\n",
    "    print(\"La contraseña no cumple con los requisitos ❌\")"
   ]
  },
  {
   "cell_type": "code",
   "execution_count": 7,
   "id": "33283bde",
   "metadata": {},
   "outputs": [
    {
     "name": "stdout",
     "output_type": "stream",
     "text": [
      "Frase sin caracteres duplicados:\n",
      "el amordiv\n"
     ]
    }
   ],
   "source": [
    "# 20. Eliminar duplicados → Pide una frase y elimina caracteres repetidos.\n",
    "\n",
    "frase = input(\"Escribe una frase: \")\n",
    "resultado = \"\"\n",
    "# Recorremos cada carácter\n",
    "for caracter in frase:\n",
    "    # Si el carácter no está ya en resultado, lo agregamos\n",
    "    if caracter not in resultado:\n",
    "        resultado += caracter\n",
    "\n",
    "print(\"Frase sin caracteres duplicados:\")\n",
    "print(resultado)"
   ]
  },
  {
   "cell_type": "code",
   "execution_count": null,
   "id": "a7cce0f1",
   "metadata": {},
   "outputs": [
    {
     "data": {
      "text/plain": [
       "'el amor de mi vida'"
      ]
     },
     "execution_count": 9,
     "metadata": {},
     "output_type": "execute_result"
    }
   ],
   "source": [
    "frase = input(\"Escribe una frase: \")\n",
    "\n",
    "d = []\n",
    "for i in frase.split():\n",
    "    if i not in d:\n",
    "        d.append(i)\n",
    "    frase_sin_dupli = \" \".join(d)\n",
    "\n",
    "frase_sin_dupli"
   ]
  },
  {
   "cell_type": "markdown",
   "id": "0cbe4593",
   "metadata": {},
   "source": [
    "## Nivel 5 – Transformaciones más elaboradas\n",
    "\n",
    "21. Invertir palabras → Pide una frase y muestra cada palabra invertida, pero en el mismo orden.\n",
    "\n",
    "22. Ordenar palabras alfabéticamente → Pide una frase y muestra las palabras en orden alfabético.\n",
    "\n",
    "23. Censurar palabras prohibidas → Pide un texto y reemplaza palabras de una lista prohibida por “***”.\n",
    "\n",
    "24. Convertir a formato título → Pide una frase y muestra cada palabra iniciando en mayúscula.\n",
    "\n",
    "25. Formato fecha → Convierte una fecha ingresada como \"2025-08-20\" a \"20/08/2025\"."
   ]
  },
  {
   "cell_type": "code",
   "execution_count": 1,
   "id": "800ec5d4",
   "metadata": {},
   "outputs": [
    {
     "name": "stdout",
     "output_type": "stream",
     "text": [
      "La palabra frase amor a lo inverso seria lo siguiente: roma\n"
     ]
    }
   ],
   "source": [
    "# 21. Invertir palabras → Pide una frase y muestra cada palabra invertida, pero en el mismo orden.\n",
    "\n",
    "palabra = input(\"Ingrese la palabra: \")\n",
    "palabra_invertida = palabra[::-1]\n",
    "print(f\"La palabra frase {palabra} a lo inverso seria lo siguiente: {palabra_invertida}\")"
   ]
  },
  {
   "cell_type": "code",
   "execution_count": null,
   "id": "67a00dde",
   "metadata": {},
   "outputs": [
    {
     "data": {
      "text/plain": [
       "'amor de el mi vida'"
      ]
     },
     "execution_count": 7,
     "metadata": {},
     "output_type": "execute_result"
    }
   ],
   "source": [
    "# 22. Ordenar palabras alfabéticamente → Pide una frase y muestra las palabras en orden alfabético.\n",
    "\n",
    "frase = input(\"Escribe una frase: \")\n",
    "lista_frase = frase.split()\n",
    "lista_frase.sort()\n",
    "d = []\n",
    "for i in lista_frase:\n",
    "    d.append(i)\n",
    "    frase_sin = \" \".join(d)\n",
    "\n",
    "frase_sin"
   ]
  },
  {
   "cell_type": "code",
   "execution_count": 4,
   "id": "bcb74624",
   "metadata": {},
   "outputs": [
    {
     "name": "stdout",
     "output_type": "stream",
     "text": [
      "eso es *** \n"
     ]
    }
   ],
   "source": [
    "# 23. Censurar palabras prohibidas → Pide un texto y reemplaza palabras de una lista prohibida por “***”.\n",
    "\n",
    "prohibidas = [\"malo\", \"tonto\", \"feo\"]\n",
    "\n",
    "texto = input(\"Ingrese su frase\")\n",
    "\n",
    "palabra = \"\"\n",
    "resultado = \"\"\n",
    "i = 0\n",
    "\n",
    "while i < len(texto):\n",
    "    caracter = texto[i]\n",
    "\n",
    "    if caracter != \" \":\n",
    "        palabra += caracter\n",
    "    else:\n",
    "        if palabra in prohibidas:\n",
    "            resultado += \"*** \"\n",
    "        else:\n",
    "            resultado += palabra + \" \"\n",
    "        palabra = \"\"\n",
    "    i += 1\n",
    "\n",
    "if palabra != \" \":\n",
    "    if palabra in prohibidas:\n",
    "        resultado += \"*** \"\n",
    "    else:\n",
    "        resultado += palabra\n",
    "\n",
    "print(resultado)"
   ]
  },
  {
   "cell_type": "code",
   "execution_count": 4,
   "id": "13207ae8",
   "metadata": {},
   "outputs": [
    {
     "name": "stdout",
     "output_type": "stream",
     "text": [
      "Fecha convertida: 20/08/2025\n"
     ]
    }
   ],
   "source": [
    "# 25. Formato fecha → Convierte una fecha ingresada como \"2025-08-20\" a \"20/08/2025\".\n",
    "fecha = input(\"Ingresa la fecha en formato AAAA-MM-DD: \")\n",
    "\n",
    "# Extraer partes usando índices\n",
    "año = fecha[0] + fecha[1] + fecha[2] + fecha[3]\n",
    "mes = fecha[5] + fecha[6]\n",
    "día = fecha[8] + fecha[9]\n",
    "\n",
    "# Reorganizar en formato DD/MM/AAAA\n",
    "nueva_fecha = día + \"/\" + mes + \"/\" + año\n",
    "\n",
    "print(\"Fecha convertida:\", nueva_fecha)"
   ]
  },
  {
   "cell_type": "code",
   "execution_count": 3,
   "id": "fb31fab6",
   "metadata": {},
   "outputs": [
    {
     "name": "stdout",
     "output_type": "stream",
     "text": [
      "20/08/2025\n"
     ]
    }
   ],
   "source": [
    "from datetime import datetime\n",
    "\n",
    "fecha_original = input(\"ingrese la fecha: \")\n",
    "# Convertir la cadena a un objeto datetime\n",
    "fecha_objeto = datetime.strptime(fecha_original, \"%Y-%m-%d\")\n",
    "\n",
    "# Formatear la fecha al formato \"DD/MM/YYYY\"\n",
    "fecha_formateada = fecha_objeto.strftime(\"%d/%m/%Y\")\n",
    "\n",
    "print(fecha_formateada)"
   ]
  },
  {
   "cell_type": "markdown",
   "id": "8c6639bb",
   "metadata": {},
   "source": [
    "## Nivel 6 – Retadores\n",
    "\n",
    "26. Codificador César → Aplica un desplazamiento de +3 a cada letra de una palabra.\n",
    "\n",
    "27. Contar letras y números → Pide un texto y muestra cuántos dígitos y cuántas letras tiene.\n",
    "\n",
    "28. Contar sílabas (aproximado) → Pide una palabra y cuenta las vocales agrupadas.\n",
    "\n",
    "29. Texto espejo → Pide una frase y muéstrala como si se viera en un espejo.\n",
    "\n",
    "30. Juego de anagramas → Verifica si dos palabras son anagramas (ej: \"roma\" y \"amor\")."
   ]
  },
  {
   "cell_type": "code",
   "execution_count": null,
   "id": "c9b050d3",
   "metadata": {},
   "outputs": [
    {
     "name": "stdout",
     "output_type": "stream",
     "text": [
      "Palabra con desplazamiento +3:\n",
      "dohoxbd\n"
     ]
    }
   ],
   "source": [
    "# 26. Codificador César → Aplica un desplazamiento de +3 a cada letra de una palabra.\n",
    "\n",
    "palabra = input(\"Escribe una palabra: \")\n",
    "resultado = \"\"\n",
    "i = 0\n",
    "\n",
    "while i < len(palabra):\n",
    "    letra = palabra[i]\n",
    "\n",
    "    # Solo desplazamos letras minúsculas\n",
    "    if letra >= 'a' and letra <= 'z':\n",
    "        nueva_letra = chr((ord(letra) - ord('a') + 3) % 26 + ord('a'))\n",
    "        resultado += nueva_letra\n",
    "\n",
    "    # También desplazamos letras mayúsculas\n",
    "    elif letra >= 'A' and letra <= 'Z':\n",
    "        nueva_letra = chr((ord(letra) - ord('A') + 3) % 26 + ord('A'))\n",
    "        resultado += nueva_letra\n",
    "\n",
    "    else:\n",
    "        # Si no es letra, la dejamos igual\n",
    "        resultado += letra\n",
    "\n",
    "    i += 1\n",
    "\n",
    "print(\"Palabra con desplazamiento +3:\")\n",
    "print(resultado)"
   ]
  },
  {
   "cell_type": "code",
   "execution_count": 7,
   "id": "0d5a00c5",
   "metadata": {},
   "outputs": [
    {
     "name": "stdout",
     "output_type": "stream",
     "text": [
      "la palabra kjhgfd23456 tiene 6 letras y 5 digitos\n"
     ]
    }
   ],
   "source": [
    "# 27. Contar letras y números → Pide un texto y muestra cuántos dígitos y cuántas letras tiene.\n",
    "\n",
    "palabra = input(\"ingrese su texto: \")\n",
    "\n",
    "conteo_letra = 0\n",
    "conteo_digito = 0\n",
    "i = 0\n",
    "\n",
    "while i < len(palabra):\n",
    "    letra = palabra[i]\n",
    "\n",
    "    # Solo desplazamos letras minúsculas\n",
    "    if letra >= 'a' and letra <= 'z':\n",
    "        conteo_letra += 1\n",
    "\n",
    "    # También desplazamos letras mayúsculas\n",
    "    elif letra >= '0' and letra <= '9':\n",
    "        conteo_digito += 1\n",
    "\n",
    "    i += 1\n",
    "\n",
    "print(f\"la palabra {palabra} tiene {conteo_letra} letras y {conteo_digito} digitos\")"
   ]
  },
  {
   "cell_type": "code",
   "execution_count": 2,
   "id": "ecd88870",
   "metadata": {},
   "outputs": [
    {
     "name": "stdout",
     "output_type": "stream",
     "text": [
      "Cantidad aproximada de sílabas: 2\n"
     ]
    }
   ],
   "source": [
    "# 28. Contar sílabas (aproximado) → Pide una palabra y cuenta las vocales agrupadas.\n",
    "\n",
    "palabra = input(\"Escribe una palabra: \")\n",
    "\n",
    "vocales = \"aeiouAEIOU\"\n",
    "i = 0\n",
    "contador = 0\n",
    "en_vocal = False\n",
    "\n",
    "while i < len(palabra):\n",
    "    letra = palabra[i]\n",
    "\n",
    "    if letra in vocales:\n",
    "        if not en_vocal:\n",
    "            contador += 1\n",
    "            en_vocal = True\n",
    "    else:\n",
    "        en_vocal = False\n",
    "\n",
    "    i += 1\n",
    "\n",
    "print(\"Cantidad aproximada de sílabas:\", contador)"
   ]
  },
  {
   "cell_type": "code",
   "execution_count": 1,
   "id": "fe3a0445",
   "metadata": {},
   "outputs": [
    {
     "name": "stdout",
     "output_type": "stream",
     "text": [
      "Texto espejo:\n",
      "oiradeceba\n"
     ]
    }
   ],
   "source": [
    "#29. Texto espejo → Pide una frase y muéstrala como si se viera en un espejo.\n",
    "\n",
    "frase = input(\"Escribe una frase: \")\n",
    "\n",
    "resultado = \"\"\n",
    "i = len(frase) - 1\n",
    "\n",
    "# Recorremos la frase desde el final hacia el inicio\n",
    "while i >= 0:\n",
    "    resultado += frase[i]\n",
    "    i -= 1\n",
    "\n",
    "print(\"Texto espejo:\")\n",
    "print(resultado)"
   ]
  },
  {
   "cell_type": "code",
   "execution_count": 2,
   "id": "b2cce244",
   "metadata": {},
   "outputs": [
    {
     "name": "stdout",
     "output_type": "stream",
     "text": [
      "¡Son anagramas! ✅\n"
     ]
    }
   ],
   "source": [
    "#30. Juego de anagramas → Verifica si dos palabras son anagramas (ej: \"roma\" y \"amor\").\n",
    "\n",
    "palabra1 = input(\"Escribe la primera palabra: \")\n",
    "palabra2 = input(\"Escribe la segunda palabra: \")\n",
    "\n",
    "# Verificamos que tengan la misma longitud\n",
    "if len(palabra1) != len(palabra2):\n",
    "    print(\"No son anagramas ❌\")\n",
    "else:\n",
    "    i = 0\n",
    "    es_anagrama = True\n",
    "\n",
    "    while i < len(palabra1):\n",
    "        letra = palabra1[i]\n",
    "        contador1 = 0\n",
    "        contador2 = 0\n",
    "\n",
    "        # Contamos cuántas veces aparece la letra en cada palabra\n",
    "        j = 0\n",
    "        while j < len(palabra1):\n",
    "            if palabra1[j] == letra:\n",
    "                contador1 += 1\n",
    "            j += 1\n",
    "\n",
    "        j = 0\n",
    "        while j < len(palabra2):\n",
    "            if palabra2[j] == letra:\n",
    "                contador2 += 1\n",
    "            j += 1\n",
    "\n",
    "        if contador1 != contador2:\n",
    "            es_anagrama = False\n",
    "            break\n",
    "\n",
    "        i += 1\n",
    "\n",
    "    if es_anagrama:\n",
    "        print(\"¡Son anagramas! ✅\")\n",
    "    else:\n",
    "        print(\"No son anagramas ❌\")"
   ]
  },
  {
   "cell_type": "markdown",
   "id": "a83b9282",
   "metadata": {},
   "source": [
    "# CONDICIONALES\n",
    "## Nivel 1 – Básicos (if, else)\n",
    "\n",
    "1. Número positivo o negativo → Pide un número e indica si es positivo, negativo o cero.\n",
    "\n",
    "2. Par o impar → Verifica si un número es par o impar.\n",
    "\n",
    "3. Mayor de dos números → Pide dos números e indica cuál es mayor o si son iguales.\n",
    "\n",
    "4. Aprobado o reprobado → Pide una nota (0–100) e indica si aprobó (≥ 60).\n",
    "\n",
    "5. Edad mínima para votar → Pide una edad y verifica si puede votar (≥ 18)."
   ]
  },
  {
   "cell_type": "code",
   "execution_count": 8,
   "id": "cfad58ce",
   "metadata": {},
   "outputs": [
    {
     "name": "stdout",
     "output_type": "stream",
     "text": [
      "el numero 8765 es positivo\n"
     ]
    }
   ],
   "source": [
    "# 1. Número positivo o negativo → Pide un número e indica si es positivo, negativo o cero.\n",
    "numero = int(input(\"Ingrese su numero\"))\n",
    "\n",
    "if numero < 0:\n",
    "    print(f\"el numero {numero} es negativo\")\n",
    "elif numero > 0:\n",
    "    print(f\"el numero {numero} es positivo\")\n",
    "elif numero == 0:\n",
    "    print(f\"El numero {numero} es cero\")"
   ]
  },
  {
   "cell_type": "code",
   "execution_count": 11,
   "id": "29a1c3c4",
   "metadata": {},
   "outputs": [
    {
     "name": "stdout",
     "output_type": "stream",
     "text": [
      "El numero 23 es impar\n"
     ]
    }
   ],
   "source": [
    "# 2. Par o impar → Verifica si un número es par o impar.\n",
    "numero = int(input(\"Ingrese su numero\"))\n",
    "\n",
    "if numero % 2 == 0:\n",
    "    print(f\"El numero {numero} es par\")\n",
    "else:\n",
    "    print(f\"El numero {numero} es impar\")"
   ]
  },
  {
   "cell_type": "code",
   "execution_count": 12,
   "id": "7da5317f",
   "metadata": {},
   "outputs": [
    {
     "name": "stdout",
     "output_type": "stream",
     "text": [
      "El numero 2 es mayor que el numero 1\n"
     ]
    }
   ],
   "source": [
    "# 3. Mayor de dos números → Pide dos números e indica cuál es mayor o si son iguales.\n",
    "numero1 = int(input(\"Ingrese su primer numero\"))\n",
    "numero2 = int(input(\"Ingrese su primer numero\"))\n",
    "\n",
    "if numero1 < numero2:\n",
    "    print(f\"El numero {numero1} es menor que {numero2}\")\n",
    "elif numero2 < numero1:\n",
    "    print(f\"El numero {numero1} es mayor que el numero {numero2}\")\n",
    "elif numero1 == numero2:\n",
    "    print(\"Los numeros son iguales\")"
   ]
  },
  {
   "cell_type": "code",
   "execution_count": 13,
   "id": "ea7b8d2c",
   "metadata": {},
   "outputs": [
    {
     "name": "stdout",
     "output_type": "stream",
     "text": [
      "Aprobo\n"
     ]
    }
   ],
   "source": [
    "# 4. Aprobado o reprobado → Pide una nota (0–100) e indica si aprobó (≥ 60).\n",
    "nota = int(input(\"Ingrese su nota: \"))\n",
    "\n",
    "if nota >= 60:\n",
    "    print(\"Aprobo\")\n",
    "else:\n",
    "    print(\"No aprobo\")"
   ]
  },
  {
   "cell_type": "code",
   "execution_count": 14,
   "id": "f23de674",
   "metadata": {},
   "outputs": [
    {
     "name": "stdout",
     "output_type": "stream",
     "text": [
      "Eres mayor de edad\n"
     ]
    }
   ],
   "source": [
    "# 5. Edad mínima para votar → Pide una edad y verifica si puede votar (≥ 18).\n",
    "edad= int(input(\"Ingrese su edad: \"))\n",
    "\n",
    "if edad >= 18:\n",
    "    print(\"Eres mayor de edad\")\n",
    "else:\n",
    "    print(\"Eres menor de edad\")"
   ]
  },
  {
   "cell_type": "markdown",
   "id": "23867401",
   "metadata": {},
   "source": [
    "## Nivel 2 – Comparaciones múltiples (if, elif, else)\n",
    "\n",
    "6. Clasificación de edades → Niño (0–12), Adolescente (13–17), Adulto (18–64), Anciano (65+).\n",
    "\n",
    "7. Mayor de tres números → Pide tres números y muestra el mayor.\n",
    "\n",
    "8. Conversor de calificaciones → Convierte una nota (0–100) en letra (A, B, C, D, F).\n",
    "\n",
    "9. Número divisible → Pide un número e indica si es divisible entre 2, 3 o 5.\n",
    "\n",
    "10. Calculadora simple → Pide dos números y una operación (+, -, *, /)."
   ]
  },
  {
   "cell_type": "code",
   "execution_count": null,
   "id": "5541a40d",
   "metadata": {},
   "outputs": [
    {
     "name": "stdout",
     "output_type": "stream",
     "text": [
      "Eres un adulto\n"
     ]
    }
   ],
   "source": [
    "#6. Clasificación de edades → Niño (0–12), Adolescente (13–17), Adulto (18–64), Anciano (65+).\n",
    "edad= int(input(\"Ingrese su edad: \"))\n",
    "\n",
    "if edad < 13:\n",
    "    print(\"Eres un niño\")\n",
    "elif edad <18:\n",
    "    print(\"Eres un adolescente\")\n",
    "elif edad < 64:\n",
    "    print(\"Eres un adulto\")\n",
    "else:\n",
    "    print(\"Eres un anciano\")"
   ]
  },
  {
   "cell_type": "code",
   "execution_count": null,
   "id": "973713ce",
   "metadata": {},
   "outputs": [
    {
     "name": "stdout",
     "output_type": "stream",
     "text": [
      "el numero 55 es mayor\n"
     ]
    }
   ],
   "source": [
    "#7. Mayor de tres números → Pide tres números y muestra el mayor.\n",
    "\n",
    "numero1 = int(input(\"Ingrese el primer numero: \"))\n",
    "numero2 = int(input(\"Ingrese el segundo numero: \"))\n",
    "numero3 = int(input(\"Ingrese el tercer numero: \"))\n",
    "\n",
    "if numero1<numero3 and numero2<numero3:\n",
    "    print(f\"el tercer numero: {numero3} es mayor\")\n",
    "elif numero1<numero2 and numero3<numero2:\n",
    "    print(f\"el segundo numero: {numero2} es mayor\")\n",
    "elif numero3<numero1 and numero2<numero1:\n",
    "    print(f\"el primner numero: {numero1} es mayor\")"
   ]
  },
  {
   "cell_type": "code",
   "execution_count": 12,
   "id": "7bcbcddd",
   "metadata": {},
   "outputs": [
    {
     "name": "stdout",
     "output_type": "stream",
     "text": [
      "A\n"
     ]
    }
   ],
   "source": [
    "# 8. Conversor de calificaciones → Convierte una nota (0–100) en letra (A, B, C, D, F).\n",
    "\n",
    "nota = int(input(\"Ingrese su nota: \"))\n",
    "\n",
    "if 90<nota and nota<=100:\n",
    "    print(\"A\")\n",
    "elif 80 <nota and nota<90:\n",
    "    print(\"B\")\n",
    "elif 70<nota and nota<80:\n",
    "    print(\"C\")\n",
    "elif 60<nota and nota<70:\n",
    "    print(\"D\")\n",
    "elif 50<nota and nota<60:\n",
    "    print(\"E\")\n",
    "elif nota<50:\n",
    "    print(\"F\")"
   ]
  },
  {
   "cell_type": "code",
   "execution_count": 14,
   "id": "1ef6b72a",
   "metadata": {},
   "outputs": [
    {
     "name": "stdout",
     "output_type": "stream",
     "text": [
      "El numero 31 no es divisible por 2,3 y 5\n"
     ]
    }
   ],
   "source": [
    "# 9. Número divisible → Pide un número e indica si es divisible entre 2, 3 o 5.\n",
    "\n",
    "numero = int(input(\"Ingrese su numero: \"))\n",
    "\n",
    "if numero % 2==0 and numero%3 ==0 and numero%5==0:\n",
    "    print(f\"el numero {numero} es divisible por 2, 3 y 5\")\n",
    "else:\n",
    "    print(f\"El numero {numero} no es divisible por 2,3 y 5\")"
   ]
  },
  {
   "cell_type": "code",
   "execution_count": 18,
   "metadata": {},
   "outputs": [
    {
     "name": "stdout",
     "output_type": "stream",
     "text": [
      "2.0\n"
     ]
    }
   ],
   "source": [
    "# 10. Calculadora simple → Pide dos números y una operación (+, -, *, /).\n",
    "\n",
    "a = float(input(\"Ingrese su primer numero: \"))\n",
    "b = float(input(\"Ingrese su segundo numero: \"))\n",
    "\n",
    "operacion = input(\"Ingrese su opeacion: +, -, *, /\")\n",
    "\n",
    "if operacion == \"+\":\n",
    "    print(a + b)\n",
    "elif operacion == \"-\":\n",
    "    print(a -b)\n",
    "elif operacion == \"*\":\n",
    "    print(a*b)\n",
    "elif operacion == \"/\":\n",
    "    print(a/b)"
   ]
  },
  {
   "cell_type": "markdown",
   "id": "35d3b59f",
   "metadata": {},
   "source": [
    "## Nivel 3 – Condiciones anidadas\n",
    "\n",
    "11. Triángulo válido → Verifica si tres lados forman un triángulo válido.\n",
    "\n",
    "12. Tipo de triángulo → Con tres lados válidos, determina si es equilátero, isósceles o escaleno.\n",
    "\n",
    "13. Número dentro de rango → Verifica si un número está entre 1 y 100.\n",
    "\n",
    "14. Año bisiesto → Verifica si un año es bisiesto.\n",
    "\n",
    "15. Comparador de caracteres → Pide una letra e indica si es vocal, consonante, número o símbolo."
   ]
  },
  {
   "cell_type": "code",
   "execution_count": null,
   "id": "74c1a300",
   "metadata": {},
   "outputs": [
    {
     "name": "stdout",
     "output_type": "stream",
     "text": [
      "El triangulo es valido\n"
     ]
    }
   ],
   "source": [
    "# 11. Triángulo válido → Verifica si tres lados forman un triángulo válido.\n",
    "lado1 = float(input(\"Ingrese su lado: \"))\n",
    "lado2 = float(input(\"Ingrese su segundo lado: \"))\n",
    "lado3 = float(input(\"Ingrese su tercer lado: \"))\n",
    "\n",
    "if lado1>0 and lado2>0 and lado3>0:\n",
    "    print(\"El triangulo es valido\")\n",
    "else:\n",
    "    print(\"El triangulo no es valido\")"
   ]
  },
  {
   "cell_type": "code",
   "execution_count": 5,
   "id": "e735c982",
   "metadata": {},
   "outputs": [
    {
     "name": "stdout",
     "output_type": "stream",
     "text": [
      "El triangulo es isósceles\n"
     ]
    }
   ],
   "source": [
    "# 12. Tipo de triángulo → Con tres lados válidos, determina si es equilátero, isósceles o escaleno.\n",
    "\n",
    "lado1 = float(input(\"Ingrese su lado: \"))\n",
    "lado2 = float(input(\"Ingrese su segundo lado: \"))\n",
    "lado3 = float(input(\"Ingrese su tercer lado: \"))\n",
    "\n",
    "if lado1 == lado2 == lado3:\n",
    "    print(\"El triangulo es equilatero\")\n",
    "elif lado1 == lado2 or lado2==lado3 or lado3 ==lado1:\n",
    "    print(\"El triangulo es isósceles\")\n",
    "else:\n",
    "    print(\"El triangulo es escaleno\")"
   ]
  },
  {
   "cell_type": "code",
   "execution_count": 7,
   "id": "b973afb4",
   "metadata": {},
   "outputs": [
    {
     "name": "stdout",
     "output_type": "stream",
     "text": [
      "El numero no esta en el rango\n"
     ]
    }
   ],
   "source": [
    "#13. Número dentro de rango → Verifica si un número está entre 1 y 100. \n",
    "\n",
    "numero = int(input(\"Ingrese su numero: \"))\n",
    "\n",
    "if numero in range(1,100):\n",
    "    print(\"El numero esta en el rango\")\n",
    "else:\n",
    "    print(\"El numero no esta en el rango\")"
   ]
  },
  {
   "cell_type": "code",
   "execution_count": 12,
   "id": "c631cf35",
   "metadata": {},
   "outputs": [
    {
     "name": "stdout",
     "output_type": "stream",
     "text": [
      "Es un año bisciesto\n"
     ]
    }
   ],
   "source": [
    "# 14. Año bisiesto → Verifica si un año es bisiesto.\n",
    "\n",
    "año = int(input(\"Ingrese su año: \"))\n",
    "\n",
    "if año % 4 == 0 and not año % 100 == 0:\n",
    "    print(\"Es un año bisciesto\")\n",
    "else:\n",
    "    print(\"No es un año bisciesto\")"
   ]
  },
  {
   "cell_type": "code",
   "execution_count": 17,
   "id": "68aef99c",
   "metadata": {},
   "outputs": [
    {
     "name": "stdout",
     "output_type": "stream",
     "text": [
      "Es un simbolo\n"
     ]
    }
   ],
   "source": [
    "#15. Comparador de caracteres → Pide una letra e indica si es vocal, consonante, número o símbolo.\n",
    "\n",
    "caracter = input(\"Ingrese su caracter\")\n",
    "\n",
    "vocales = [\"a\", \"e\", \"i\", \"o\", \"u\"]\n",
    "\n",
    "if caracter in vocales:\n",
    "    print(\"Es una vocal\")\n",
    "elif caracter>= \"a\" and caracter<=\"z\":\n",
    "    if caracter not in vocales:\n",
    "        print(\"Es una consonante\")\n",
    "elif type(caracter) == int or type(caracter)==float:\n",
    "    print(\"Es un numero\")\n",
    "else:\n",
    "    print(\"Es un simbolo\")"
   ]
  },
  {
   "cell_type": "code",
   "execution_count": null,
   "id": "c01cc9bc",
   "metadata": {},
   "outputs": [],
   "source": []
  },
  {
   "cell_type": "code",
   "execution_count": null,
   "id": "bf694c1d",
   "metadata": {},
   "outputs": [],
   "source": []
  }
 ],
 "metadata": {
  "kernelspec": {
   "display_name": "venv",
   "language": "python",
   "name": "python3"
  },
  "language_info": {
   "codemirror_mode": {
    "name": "ipython",
    "version": 3
   },
   "file_extension": ".py",
   "mimetype": "text/x-python",
   "name": "python",
   "nbconvert_exporter": "python",
   "pygments_lexer": "ipython3",
   "version": "3.13.7"
  }
 },
 "nbformat": 4,
 "nbformat_minor": 5
}

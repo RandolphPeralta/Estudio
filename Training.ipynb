{
 "cells": [
  {
   "cell_type": "markdown",
   "id": "17073a7f",
   "metadata": {},
   "source": [
    "Entrenamiento para usar pýthon "
   ]
  },
  {
   "cell_type": "code",
   "execution_count": 1,
   "id": "7baff51b",
   "metadata": {},
   "outputs": [],
   "source": [
    "def convertToBase13(num):\n",
    "    if num == 0:\n",
    "        return \"0\"\n",
    "\n",
    "    # Digits for base 13\n",
    "    base13_digits = \"0123456789ABC\"  \n",
    "    digits = \"\"\n",
    "    positive = abs(num)\n",
    "    \n",
    "    while positive > 0:\n",
    "        # Append digits/letters\n",
    "        digits += base13_digits[positive % 13]  \n",
    "        positive = positive // 13\n",
    "\n",
    "    # Reverse the string at the end\n",
    "    reversed_digits = digits[::-1]  \n",
    "    if num < 0:\n",
    "        return \"-\" + reversed_digits\n",
    "    else:\n",
    "        return reversed_digits"
   ]
  },
  {
   "cell_type": "code",
   "execution_count": 5,
   "id": "601d2b24",
   "metadata": {},
   "outputs": [
    {
     "data": {
      "text/plain": [
       "'A'"
      ]
     },
     "execution_count": 5,
     "metadata": {},
     "output_type": "execute_result"
    }
   ],
   "source": [
    "num = int(input(\"Escriba un numero\"))\n",
    "convertToBase13(num)"
   ]
  },
  {
   "cell_type": "code",
   "execution_count": 2,
   "id": "210ded6f",
   "metadata": {},
   "outputs": [],
   "source": [
    "def func(x):\n",
    "    if x == 1:\n",
    "        def rv():\n",
    "            print(\"X is equal to 1\")\n",
    "    else:\n",
    "        def rv():\n",
    "            print(\"X is not 1\")\n",
    "\n",
    "    return rv"
   ]
  },
  {
   "cell_type": "code",
   "execution_count": 5,
   "id": "8409f1e2",
   "metadata": {},
   "outputs": [
    {
     "data": {
      "text/plain": [
       "<function __main__.func.<locals>.rv()>"
      ]
     },
     "execution_count": 5,
     "metadata": {},
     "output_type": "execute_result"
    }
   ],
   "source": [
    "new_func = func(2)\n",
    "new_func"
   ]
  }
 ],
 "metadata": {
  "kernelspec": {
   "display_name": "venv",
   "language": "python",
   "name": "python3"
  },
  "language_info": {
   "codemirror_mode": {
    "name": "ipython",
    "version": 3
   },
   "file_extension": ".py",
   "mimetype": "text/x-python",
   "name": "python",
   "nbconvert_exporter": "python",
   "pygments_lexer": "ipython3",
   "version": "3.13.5"
  }
 },
 "nbformat": 4,
 "nbformat_minor": 5
}
